{
 "cells": [
  {
   "cell_type": "code",
   "execution_count": 1,
   "id": "0a5dbf51",
   "metadata": {},
   "outputs": [],
   "source": [
    "import numpy as np\n",
    "import pandas as pd\n",
    "from plotly.offline import download_plotlyjs,init_notebook_mode,iplot,plot"
   ]
  },
  {
   "cell_type": "code",
   "execution_count": 2,
   "id": "63708e54",
   "metadata": {},
   "outputs": [],
   "source": [
    "import cufflinks as cf"
   ]
  },
  {
   "cell_type": "code",
   "execution_count": 3,
   "id": "cabbf2bd",
   "metadata": {},
   "outputs": [
    {
     "data": {
      "text/html": [
       "        <script type=\"text/javascript\">\n",
       "        window.PlotlyConfig = {MathJaxConfig: 'local'};\n",
       "        if (window.MathJax && window.MathJax.Hub && window.MathJax.Hub.Config) {window.MathJax.Hub.Config({SVG: {font: \"STIX-Web\"}});}\n",
       "        if (typeof require !== 'undefined') {\n",
       "        require.undef(\"plotly\");\n",
       "        requirejs.config({\n",
       "            paths: {\n",
       "                'plotly': ['https://cdn.plot.ly/plotly-2.12.1.min']\n",
       "            }\n",
       "        });\n",
       "        require(['plotly'], function(Plotly) {\n",
       "            window._Plotly = Plotly;\n",
       "        });\n",
       "        }\n",
       "        </script>\n",
       "        "
      ]
     },
     "metadata": {},
     "output_type": "display_data"
    },
    {
     "data": {
      "text/html": [
       "        <script type=\"text/javascript\">\n",
       "        window.PlotlyConfig = {MathJaxConfig: 'local'};\n",
       "        if (window.MathJax && window.MathJax.Hub && window.MathJax.Hub.Config) {window.MathJax.Hub.Config({SVG: {font: \"STIX-Web\"}});}\n",
       "        if (typeof require !== 'undefined') {\n",
       "        require.undef(\"plotly\");\n",
       "        requirejs.config({\n",
       "            paths: {\n",
       "                'plotly': ['https://cdn.plot.ly/plotly-2.12.1.min']\n",
       "            }\n",
       "        });\n",
       "        require(['plotly'], function(Plotly) {\n",
       "            window._Plotly = Plotly;\n",
       "        });\n",
       "        }\n",
       "        </script>\n",
       "        "
      ]
     },
     "metadata": {},
     "output_type": "display_data"
    }
   ],
   "source": [
    "init_notebook_mode(connected=True)\n",
    "cf.go_offline()"
   ]
  },
  {
   "cell_type": "code",
   "execution_count": 4,
   "id": "e05d9615",
   "metadata": {},
   "outputs": [
    {
     "data": {
      "application/vnd.plotly.v1+json": {
       "config": {
        "linkText": "Export to plot.ly",
        "plotlyServerURL": "https://plot.ly",
        "showLink": true
       },
       "data": [
        {
         "colorscale": [
          [
           0,
           "rgb(165,0,38)"
          ],
          [
           0.1,
           "rgb(215,48,39)"
          ],
          [
           0.2,
           "rgb(244,109,67)"
          ],
          [
           0.3,
           "rgb(253,174,97)"
          ],
          [
           0.4,
           "rgb(254,224,144)"
          ],
          [
           0.5,
           "rgb(255,255,191)"
          ],
          [
           0.6,
           "rgb(224,243,248)"
          ],
          [
           0.7,
           "rgb(171,217,233)"
          ],
          [
           0.8,
           "rgb(116,173,209)"
          ],
          [
           0.9,
           "rgb(69,117,180)"
          ],
          [
           1,
           "rgb(49,54,149)"
          ]
         ],
         "type": "surface",
         "x": [
          0,
          1,
          2,
          3,
          4
         ],
         "y": [
          "x",
          "y",
          "z"
         ],
         "z": [
          [
           1,
           2,
           3,
           4,
           5
          ],
          [
           10,
           20,
           30,
           20,
           10
          ],
          [
           5,
           4,
           3,
           2,
           1
          ]
         ]
        }
       ],
       "layout": {
        "legend": {
         "bgcolor": "#F5F6F9",
         "font": {
          "color": "#4D5663"
         }
        },
        "paper_bgcolor": "#F5F6F9",
        "plot_bgcolor": "#F5F6F9",
        "template": {
         "data": {
          "bar": [
           {
            "error_x": {
             "color": "#2a3f5f"
            },
            "error_y": {
             "color": "#2a3f5f"
            },
            "marker": {
             "line": {
              "color": "#E5ECF6",
              "width": 0.5
             },
             "pattern": {
              "fillmode": "overlay",
              "size": 10,
              "solidity": 0.2
             }
            },
            "type": "bar"
           }
          ],
          "barpolar": [
           {
            "marker": {
             "line": {
              "color": "#E5ECF6",
              "width": 0.5
             },
             "pattern": {
              "fillmode": "overlay",
              "size": 10,
              "solidity": 0.2
             }
            },
            "type": "barpolar"
           }
          ],
          "carpet": [
           {
            "aaxis": {
             "endlinecolor": "#2a3f5f",
             "gridcolor": "white",
             "linecolor": "white",
             "minorgridcolor": "white",
             "startlinecolor": "#2a3f5f"
            },
            "baxis": {
             "endlinecolor": "#2a3f5f",
             "gridcolor": "white",
             "linecolor": "white",
             "minorgridcolor": "white",
             "startlinecolor": "#2a3f5f"
            },
            "type": "carpet"
           }
          ],
          "choropleth": [
           {
            "colorbar": {
             "outlinewidth": 0,
             "ticks": ""
            },
            "type": "choropleth"
           }
          ],
          "contour": [
           {
            "colorbar": {
             "outlinewidth": 0,
             "ticks": ""
            },
            "colorscale": [
             [
              0,
              "#0d0887"
             ],
             [
              0.1111111111111111,
              "#46039f"
             ],
             [
              0.2222222222222222,
              "#7201a8"
             ],
             [
              0.3333333333333333,
              "#9c179e"
             ],
             [
              0.4444444444444444,
              "#bd3786"
             ],
             [
              0.5555555555555556,
              "#d8576b"
             ],
             [
              0.6666666666666666,
              "#ed7953"
             ],
             [
              0.7777777777777778,
              "#fb9f3a"
             ],
             [
              0.8888888888888888,
              "#fdca26"
             ],
             [
              1,
              "#f0f921"
             ]
            ],
            "type": "contour"
           }
          ],
          "contourcarpet": [
           {
            "colorbar": {
             "outlinewidth": 0,
             "ticks": ""
            },
            "type": "contourcarpet"
           }
          ],
          "heatmap": [
           {
            "colorbar": {
             "outlinewidth": 0,
             "ticks": ""
            },
            "colorscale": [
             [
              0,
              "#0d0887"
             ],
             [
              0.1111111111111111,
              "#46039f"
             ],
             [
              0.2222222222222222,
              "#7201a8"
             ],
             [
              0.3333333333333333,
              "#9c179e"
             ],
             [
              0.4444444444444444,
              "#bd3786"
             ],
             [
              0.5555555555555556,
              "#d8576b"
             ],
             [
              0.6666666666666666,
              "#ed7953"
             ],
             [
              0.7777777777777778,
              "#fb9f3a"
             ],
             [
              0.8888888888888888,
              "#fdca26"
             ],
             [
              1,
              "#f0f921"
             ]
            ],
            "type": "heatmap"
           }
          ],
          "heatmapgl": [
           {
            "colorbar": {
             "outlinewidth": 0,
             "ticks": ""
            },
            "colorscale": [
             [
              0,
              "#0d0887"
             ],
             [
              0.1111111111111111,
              "#46039f"
             ],
             [
              0.2222222222222222,
              "#7201a8"
             ],
             [
              0.3333333333333333,
              "#9c179e"
             ],
             [
              0.4444444444444444,
              "#bd3786"
             ],
             [
              0.5555555555555556,
              "#d8576b"
             ],
             [
              0.6666666666666666,
              "#ed7953"
             ],
             [
              0.7777777777777778,
              "#fb9f3a"
             ],
             [
              0.8888888888888888,
              "#fdca26"
             ],
             [
              1,
              "#f0f921"
             ]
            ],
            "type": "heatmapgl"
           }
          ],
          "histogram": [
           {
            "marker": {
             "pattern": {
              "fillmode": "overlay",
              "size": 10,
              "solidity": 0.2
             }
            },
            "type": "histogram"
           }
          ],
          "histogram2d": [
           {
            "colorbar": {
             "outlinewidth": 0,
             "ticks": ""
            },
            "colorscale": [
             [
              0,
              "#0d0887"
             ],
             [
              0.1111111111111111,
              "#46039f"
             ],
             [
              0.2222222222222222,
              "#7201a8"
             ],
             [
              0.3333333333333333,
              "#9c179e"
             ],
             [
              0.4444444444444444,
              "#bd3786"
             ],
             [
              0.5555555555555556,
              "#d8576b"
             ],
             [
              0.6666666666666666,
              "#ed7953"
             ],
             [
              0.7777777777777778,
              "#fb9f3a"
             ],
             [
              0.8888888888888888,
              "#fdca26"
             ],
             [
              1,
              "#f0f921"
             ]
            ],
            "type": "histogram2d"
           }
          ],
          "histogram2dcontour": [
           {
            "colorbar": {
             "outlinewidth": 0,
             "ticks": ""
            },
            "colorscale": [
             [
              0,
              "#0d0887"
             ],
             [
              0.1111111111111111,
              "#46039f"
             ],
             [
              0.2222222222222222,
              "#7201a8"
             ],
             [
              0.3333333333333333,
              "#9c179e"
             ],
             [
              0.4444444444444444,
              "#bd3786"
             ],
             [
              0.5555555555555556,
              "#d8576b"
             ],
             [
              0.6666666666666666,
              "#ed7953"
             ],
             [
              0.7777777777777778,
              "#fb9f3a"
             ],
             [
              0.8888888888888888,
              "#fdca26"
             ],
             [
              1,
              "#f0f921"
             ]
            ],
            "type": "histogram2dcontour"
           }
          ],
          "mesh3d": [
           {
            "colorbar": {
             "outlinewidth": 0,
             "ticks": ""
            },
            "type": "mesh3d"
           }
          ],
          "parcoords": [
           {
            "line": {
             "colorbar": {
              "outlinewidth": 0,
              "ticks": ""
             }
            },
            "type": "parcoords"
           }
          ],
          "pie": [
           {
            "automargin": true,
            "type": "pie"
           }
          ],
          "scatter": [
           {
            "fillpattern": {
             "fillmode": "overlay",
             "size": 10,
             "solidity": 0.2
            },
            "type": "scatter"
           }
          ],
          "scatter3d": [
           {
            "line": {
             "colorbar": {
              "outlinewidth": 0,
              "ticks": ""
             }
            },
            "marker": {
             "colorbar": {
              "outlinewidth": 0,
              "ticks": ""
             }
            },
            "type": "scatter3d"
           }
          ],
          "scattercarpet": [
           {
            "marker": {
             "colorbar": {
              "outlinewidth": 0,
              "ticks": ""
             }
            },
            "type": "scattercarpet"
           }
          ],
          "scattergeo": [
           {
            "marker": {
             "colorbar": {
              "outlinewidth": 0,
              "ticks": ""
             }
            },
            "type": "scattergeo"
           }
          ],
          "scattergl": [
           {
            "marker": {
             "colorbar": {
              "outlinewidth": 0,
              "ticks": ""
             }
            },
            "type": "scattergl"
           }
          ],
          "scattermapbox": [
           {
            "marker": {
             "colorbar": {
              "outlinewidth": 0,
              "ticks": ""
             }
            },
            "type": "scattermapbox"
           }
          ],
          "scatterpolar": [
           {
            "marker": {
             "colorbar": {
              "outlinewidth": 0,
              "ticks": ""
             }
            },
            "type": "scatterpolar"
           }
          ],
          "scatterpolargl": [
           {
            "marker": {
             "colorbar": {
              "outlinewidth": 0,
              "ticks": ""
             }
            },
            "type": "scatterpolargl"
           }
          ],
          "scatterternary": [
           {
            "marker": {
             "colorbar": {
              "outlinewidth": 0,
              "ticks": ""
             }
            },
            "type": "scatterternary"
           }
          ],
          "surface": [
           {
            "colorbar": {
             "outlinewidth": 0,
             "ticks": ""
            },
            "colorscale": [
             [
              0,
              "#0d0887"
             ],
             [
              0.1111111111111111,
              "#46039f"
             ],
             [
              0.2222222222222222,
              "#7201a8"
             ],
             [
              0.3333333333333333,
              "#9c179e"
             ],
             [
              0.4444444444444444,
              "#bd3786"
             ],
             [
              0.5555555555555556,
              "#d8576b"
             ],
             [
              0.6666666666666666,
              "#ed7953"
             ],
             [
              0.7777777777777778,
              "#fb9f3a"
             ],
             [
              0.8888888888888888,
              "#fdca26"
             ],
             [
              1,
              "#f0f921"
             ]
            ],
            "type": "surface"
           }
          ],
          "table": [
           {
            "cells": {
             "fill": {
              "color": "#EBF0F8"
             },
             "line": {
              "color": "white"
             }
            },
            "header": {
             "fill": {
              "color": "#C8D4E3"
             },
             "line": {
              "color": "white"
             }
            },
            "type": "table"
           }
          ]
         },
         "layout": {
          "annotationdefaults": {
           "arrowcolor": "#2a3f5f",
           "arrowhead": 0,
           "arrowwidth": 1
          },
          "autotypenumbers": "strict",
          "coloraxis": {
           "colorbar": {
            "outlinewidth": 0,
            "ticks": ""
           }
          },
          "colorscale": {
           "diverging": [
            [
             0,
             "#8e0152"
            ],
            [
             0.1,
             "#c51b7d"
            ],
            [
             0.2,
             "#de77ae"
            ],
            [
             0.3,
             "#f1b6da"
            ],
            [
             0.4,
             "#fde0ef"
            ],
            [
             0.5,
             "#f7f7f7"
            ],
            [
             0.6,
             "#e6f5d0"
            ],
            [
             0.7,
             "#b8e186"
            ],
            [
             0.8,
             "#7fbc41"
            ],
            [
             0.9,
             "#4d9221"
            ],
            [
             1,
             "#276419"
            ]
           ],
           "sequential": [
            [
             0,
             "#0d0887"
            ],
            [
             0.1111111111111111,
             "#46039f"
            ],
            [
             0.2222222222222222,
             "#7201a8"
            ],
            [
             0.3333333333333333,
             "#9c179e"
            ],
            [
             0.4444444444444444,
             "#bd3786"
            ],
            [
             0.5555555555555556,
             "#d8576b"
            ],
            [
             0.6666666666666666,
             "#ed7953"
            ],
            [
             0.7777777777777778,
             "#fb9f3a"
            ],
            [
             0.8888888888888888,
             "#fdca26"
            ],
            [
             1,
             "#f0f921"
            ]
           ],
           "sequentialminus": [
            [
             0,
             "#0d0887"
            ],
            [
             0.1111111111111111,
             "#46039f"
            ],
            [
             0.2222222222222222,
             "#7201a8"
            ],
            [
             0.3333333333333333,
             "#9c179e"
            ],
            [
             0.4444444444444444,
             "#bd3786"
            ],
            [
             0.5555555555555556,
             "#d8576b"
            ],
            [
             0.6666666666666666,
             "#ed7953"
            ],
            [
             0.7777777777777778,
             "#fb9f3a"
            ],
            [
             0.8888888888888888,
             "#fdca26"
            ],
            [
             1,
             "#f0f921"
            ]
           ]
          },
          "colorway": [
           "#636efa",
           "#EF553B",
           "#00cc96",
           "#ab63fa",
           "#FFA15A",
           "#19d3f3",
           "#FF6692",
           "#B6E880",
           "#FF97FF",
           "#FECB52"
          ],
          "font": {
           "color": "#2a3f5f"
          },
          "geo": {
           "bgcolor": "white",
           "lakecolor": "white",
           "landcolor": "#E5ECF6",
           "showlakes": true,
           "showland": true,
           "subunitcolor": "white"
          },
          "hoverlabel": {
           "align": "left"
          },
          "hovermode": "closest",
          "mapbox": {
           "style": "light"
          },
          "paper_bgcolor": "white",
          "plot_bgcolor": "#E5ECF6",
          "polar": {
           "angularaxis": {
            "gridcolor": "white",
            "linecolor": "white",
            "ticks": ""
           },
           "bgcolor": "#E5ECF6",
           "radialaxis": {
            "gridcolor": "white",
            "linecolor": "white",
            "ticks": ""
           }
          },
          "scene": {
           "xaxis": {
            "backgroundcolor": "#E5ECF6",
            "gridcolor": "white",
            "gridwidth": 2,
            "linecolor": "white",
            "showbackground": true,
            "ticks": "",
            "zerolinecolor": "white"
           },
           "yaxis": {
            "backgroundcolor": "#E5ECF6",
            "gridcolor": "white",
            "gridwidth": 2,
            "linecolor": "white",
            "showbackground": true,
            "ticks": "",
            "zerolinecolor": "white"
           },
           "zaxis": {
            "backgroundcolor": "#E5ECF6",
            "gridcolor": "white",
            "gridwidth": 2,
            "linecolor": "white",
            "showbackground": true,
            "ticks": "",
            "zerolinecolor": "white"
           }
          },
          "shapedefaults": {
           "line": {
            "color": "#2a3f5f"
           }
          },
          "ternary": {
           "aaxis": {
            "gridcolor": "white",
            "linecolor": "white",
            "ticks": ""
           },
           "baxis": {
            "gridcolor": "white",
            "linecolor": "white",
            "ticks": ""
           },
           "bgcolor": "#E5ECF6",
           "caxis": {
            "gridcolor": "white",
            "linecolor": "white",
            "ticks": ""
           }
          },
          "title": {
           "x": 0.05
          },
          "xaxis": {
           "automargin": true,
           "gridcolor": "white",
           "linecolor": "white",
           "ticks": "",
           "title": {
            "standoff": 15
           },
           "zerolinecolor": "white",
           "zerolinewidth": 2
          },
          "yaxis": {
           "automargin": true,
           "gridcolor": "white",
           "linecolor": "white",
           "ticks": "",
           "title": {
            "standoff": 15
           },
           "zerolinecolor": "white",
           "zerolinewidth": 2
          }
         }
        },
        "title": {
         "font": {
          "color": "#4D5663"
         }
        },
        "xaxis": {
         "gridcolor": "#E1E5ED",
         "showgrid": true,
         "tickfont": {
          "color": "#4D5663"
         },
         "title": {
          "font": {
           "color": "#4D5663"
          },
          "text": ""
         },
         "zerolinecolor": "#E1E5ED"
        },
        "yaxis": {
         "gridcolor": "#E1E5ED",
         "showgrid": true,
         "tickfont": {
          "color": "#4D5663"
         },
         "title": {
          "font": {
           "color": "#4D5663"
          },
          "text": ""
         },
         "zerolinecolor": "#E1E5ED"
        }
       }
      },
      "text/html": [
       "<div>                            <div id=\"7badac1e-2ef6-45f0-b9f5-1863282673fc\" class=\"plotly-graph-div\" style=\"height:525px; width:100%;\"></div>            <script type=\"text/javascript\">                require([\"plotly\"], function(Plotly) {                    window.PLOTLYENV=window.PLOTLYENV || {};\n",
       "                    window.PLOTLYENV.BASE_URL='https://plot.ly';                                    if (document.getElementById(\"7badac1e-2ef6-45f0-b9f5-1863282673fc\")) {                    Plotly.newPlot(                        \"7badac1e-2ef6-45f0-b9f5-1863282673fc\",                        [{\"colorscale\":[[0.0,\"rgb(165,0,38)\"],[0.1,\"rgb(215,48,39)\"],[0.2,\"rgb(244,109,67)\"],[0.3,\"rgb(253,174,97)\"],[0.4,\"rgb(254,224,144)\"],[0.5,\"rgb(255,255,191)\"],[0.6,\"rgb(224,243,248)\"],[0.7,\"rgb(171,217,233)\"],[0.8,\"rgb(116,173,209)\"],[0.9,\"rgb(69,117,180)\"],[1.0,\"rgb(49,54,149)\"]],\"x\":[0,1,2,3,4],\"y\":[\"x\",\"y\",\"z\"],\"z\":[[1,2,3,4,5],[10,20,30,20,10],[5,4,3,2,1]],\"type\":\"surface\"}],                        {\"legend\":{\"bgcolor\":\"#F5F6F9\",\"font\":{\"color\":\"#4D5663\"}},\"paper_bgcolor\":\"#F5F6F9\",\"plot_bgcolor\":\"#F5F6F9\",\"template\":{\"data\":{\"barpolar\":[{\"marker\":{\"line\":{\"color\":\"#E5ECF6\",\"width\":0.5},\"pattern\":{\"fillmode\":\"overlay\",\"size\":10,\"solidity\":0.2}},\"type\":\"barpolar\"}],\"bar\":[{\"error_x\":{\"color\":\"#2a3f5f\"},\"error_y\":{\"color\":\"#2a3f5f\"},\"marker\":{\"line\":{\"color\":\"#E5ECF6\",\"width\":0.5},\"pattern\":{\"fillmode\":\"overlay\",\"size\":10,\"solidity\":0.2}},\"type\":\"bar\"}],\"carpet\":[{\"aaxis\":{\"endlinecolor\":\"#2a3f5f\",\"gridcolor\":\"white\",\"linecolor\":\"white\",\"minorgridcolor\":\"white\",\"startlinecolor\":\"#2a3f5f\"},\"baxis\":{\"endlinecolor\":\"#2a3f5f\",\"gridcolor\":\"white\",\"linecolor\":\"white\",\"minorgridcolor\":\"white\",\"startlinecolor\":\"#2a3f5f\"},\"type\":\"carpet\"}],\"choropleth\":[{\"colorbar\":{\"outlinewidth\":0,\"ticks\":\"\"},\"type\":\"choropleth\"}],\"contourcarpet\":[{\"colorbar\":{\"outlinewidth\":0,\"ticks\":\"\"},\"type\":\"contourcarpet\"}],\"contour\":[{\"colorbar\":{\"outlinewidth\":0,\"ticks\":\"\"},\"colorscale\":[[0.0,\"#0d0887\"],[0.1111111111111111,\"#46039f\"],[0.2222222222222222,\"#7201a8\"],[0.3333333333333333,\"#9c179e\"],[0.4444444444444444,\"#bd3786\"],[0.5555555555555556,\"#d8576b\"],[0.6666666666666666,\"#ed7953\"],[0.7777777777777778,\"#fb9f3a\"],[0.8888888888888888,\"#fdca26\"],[1.0,\"#f0f921\"]],\"type\":\"contour\"}],\"heatmapgl\":[{\"colorbar\":{\"outlinewidth\":0,\"ticks\":\"\"},\"colorscale\":[[0.0,\"#0d0887\"],[0.1111111111111111,\"#46039f\"],[0.2222222222222222,\"#7201a8\"],[0.3333333333333333,\"#9c179e\"],[0.4444444444444444,\"#bd3786\"],[0.5555555555555556,\"#d8576b\"],[0.6666666666666666,\"#ed7953\"],[0.7777777777777778,\"#fb9f3a\"],[0.8888888888888888,\"#fdca26\"],[1.0,\"#f0f921\"]],\"type\":\"heatmapgl\"}],\"heatmap\":[{\"colorbar\":{\"outlinewidth\":0,\"ticks\":\"\"},\"colorscale\":[[0.0,\"#0d0887\"],[0.1111111111111111,\"#46039f\"],[0.2222222222222222,\"#7201a8\"],[0.3333333333333333,\"#9c179e\"],[0.4444444444444444,\"#bd3786\"],[0.5555555555555556,\"#d8576b\"],[0.6666666666666666,\"#ed7953\"],[0.7777777777777778,\"#fb9f3a\"],[0.8888888888888888,\"#fdca26\"],[1.0,\"#f0f921\"]],\"type\":\"heatmap\"}],\"histogram2dcontour\":[{\"colorbar\":{\"outlinewidth\":0,\"ticks\":\"\"},\"colorscale\":[[0.0,\"#0d0887\"],[0.1111111111111111,\"#46039f\"],[0.2222222222222222,\"#7201a8\"],[0.3333333333333333,\"#9c179e\"],[0.4444444444444444,\"#bd3786\"],[0.5555555555555556,\"#d8576b\"],[0.6666666666666666,\"#ed7953\"],[0.7777777777777778,\"#fb9f3a\"],[0.8888888888888888,\"#fdca26\"],[1.0,\"#f0f921\"]],\"type\":\"histogram2dcontour\"}],\"histogram2d\":[{\"colorbar\":{\"outlinewidth\":0,\"ticks\":\"\"},\"colorscale\":[[0.0,\"#0d0887\"],[0.1111111111111111,\"#46039f\"],[0.2222222222222222,\"#7201a8\"],[0.3333333333333333,\"#9c179e\"],[0.4444444444444444,\"#bd3786\"],[0.5555555555555556,\"#d8576b\"],[0.6666666666666666,\"#ed7953\"],[0.7777777777777778,\"#fb9f3a\"],[0.8888888888888888,\"#fdca26\"],[1.0,\"#f0f921\"]],\"type\":\"histogram2d\"}],\"histogram\":[{\"marker\":{\"pattern\":{\"fillmode\":\"overlay\",\"size\":10,\"solidity\":0.2}},\"type\":\"histogram\"}],\"mesh3d\":[{\"colorbar\":{\"outlinewidth\":0,\"ticks\":\"\"},\"type\":\"mesh3d\"}],\"parcoords\":[{\"line\":{\"colorbar\":{\"outlinewidth\":0,\"ticks\":\"\"}},\"type\":\"parcoords\"}],\"pie\":[{\"automargin\":true,\"type\":\"pie\"}],\"scatter3d\":[{\"line\":{\"colorbar\":{\"outlinewidth\":0,\"ticks\":\"\"}},\"marker\":{\"colorbar\":{\"outlinewidth\":0,\"ticks\":\"\"}},\"type\":\"scatter3d\"}],\"scattercarpet\":[{\"marker\":{\"colorbar\":{\"outlinewidth\":0,\"ticks\":\"\"}},\"type\":\"scattercarpet\"}],\"scattergeo\":[{\"marker\":{\"colorbar\":{\"outlinewidth\":0,\"ticks\":\"\"}},\"type\":\"scattergeo\"}],\"scattergl\":[{\"marker\":{\"colorbar\":{\"outlinewidth\":0,\"ticks\":\"\"}},\"type\":\"scattergl\"}],\"scattermapbox\":[{\"marker\":{\"colorbar\":{\"outlinewidth\":0,\"ticks\":\"\"}},\"type\":\"scattermapbox\"}],\"scatterpolargl\":[{\"marker\":{\"colorbar\":{\"outlinewidth\":0,\"ticks\":\"\"}},\"type\":\"scatterpolargl\"}],\"scatterpolar\":[{\"marker\":{\"colorbar\":{\"outlinewidth\":0,\"ticks\":\"\"}},\"type\":\"scatterpolar\"}],\"scatter\":[{\"fillpattern\":{\"fillmode\":\"overlay\",\"size\":10,\"solidity\":0.2},\"type\":\"scatter\"}],\"scatterternary\":[{\"marker\":{\"colorbar\":{\"outlinewidth\":0,\"ticks\":\"\"}},\"type\":\"scatterternary\"}],\"surface\":[{\"colorbar\":{\"outlinewidth\":0,\"ticks\":\"\"},\"colorscale\":[[0.0,\"#0d0887\"],[0.1111111111111111,\"#46039f\"],[0.2222222222222222,\"#7201a8\"],[0.3333333333333333,\"#9c179e\"],[0.4444444444444444,\"#bd3786\"],[0.5555555555555556,\"#d8576b\"],[0.6666666666666666,\"#ed7953\"],[0.7777777777777778,\"#fb9f3a\"],[0.8888888888888888,\"#fdca26\"],[1.0,\"#f0f921\"]],\"type\":\"surface\"}],\"table\":[{\"cells\":{\"fill\":{\"color\":\"#EBF0F8\"},\"line\":{\"color\":\"white\"}},\"header\":{\"fill\":{\"color\":\"#C8D4E3\"},\"line\":{\"color\":\"white\"}},\"type\":\"table\"}]},\"layout\":{\"annotationdefaults\":{\"arrowcolor\":\"#2a3f5f\",\"arrowhead\":0,\"arrowwidth\":1},\"autotypenumbers\":\"strict\",\"coloraxis\":{\"colorbar\":{\"outlinewidth\":0,\"ticks\":\"\"}},\"colorscale\":{\"diverging\":[[0,\"#8e0152\"],[0.1,\"#c51b7d\"],[0.2,\"#de77ae\"],[0.3,\"#f1b6da\"],[0.4,\"#fde0ef\"],[0.5,\"#f7f7f7\"],[0.6,\"#e6f5d0\"],[0.7,\"#b8e186\"],[0.8,\"#7fbc41\"],[0.9,\"#4d9221\"],[1,\"#276419\"]],\"sequential\":[[0.0,\"#0d0887\"],[0.1111111111111111,\"#46039f\"],[0.2222222222222222,\"#7201a8\"],[0.3333333333333333,\"#9c179e\"],[0.4444444444444444,\"#bd3786\"],[0.5555555555555556,\"#d8576b\"],[0.6666666666666666,\"#ed7953\"],[0.7777777777777778,\"#fb9f3a\"],[0.8888888888888888,\"#fdca26\"],[1.0,\"#f0f921\"]],\"sequentialminus\":[[0.0,\"#0d0887\"],[0.1111111111111111,\"#46039f\"],[0.2222222222222222,\"#7201a8\"],[0.3333333333333333,\"#9c179e\"],[0.4444444444444444,\"#bd3786\"],[0.5555555555555556,\"#d8576b\"],[0.6666666666666666,\"#ed7953\"],[0.7777777777777778,\"#fb9f3a\"],[0.8888888888888888,\"#fdca26\"],[1.0,\"#f0f921\"]]},\"colorway\":[\"#636efa\",\"#EF553B\",\"#00cc96\",\"#ab63fa\",\"#FFA15A\",\"#19d3f3\",\"#FF6692\",\"#B6E880\",\"#FF97FF\",\"#FECB52\"],\"font\":{\"color\":\"#2a3f5f\"},\"geo\":{\"bgcolor\":\"white\",\"lakecolor\":\"white\",\"landcolor\":\"#E5ECF6\",\"showlakes\":true,\"showland\":true,\"subunitcolor\":\"white\"},\"hoverlabel\":{\"align\":\"left\"},\"hovermode\":\"closest\",\"mapbox\":{\"style\":\"light\"},\"paper_bgcolor\":\"white\",\"plot_bgcolor\":\"#E5ECF6\",\"polar\":{\"angularaxis\":{\"gridcolor\":\"white\",\"linecolor\":\"white\",\"ticks\":\"\"},\"bgcolor\":\"#E5ECF6\",\"radialaxis\":{\"gridcolor\":\"white\",\"linecolor\":\"white\",\"ticks\":\"\"}},\"scene\":{\"xaxis\":{\"backgroundcolor\":\"#E5ECF6\",\"gridcolor\":\"white\",\"gridwidth\":2,\"linecolor\":\"white\",\"showbackground\":true,\"ticks\":\"\",\"zerolinecolor\":\"white\"},\"yaxis\":{\"backgroundcolor\":\"#E5ECF6\",\"gridcolor\":\"white\",\"gridwidth\":2,\"linecolor\":\"white\",\"showbackground\":true,\"ticks\":\"\",\"zerolinecolor\":\"white\"},\"zaxis\":{\"backgroundcolor\":\"#E5ECF6\",\"gridcolor\":\"white\",\"gridwidth\":2,\"linecolor\":\"white\",\"showbackground\":true,\"ticks\":\"\",\"zerolinecolor\":\"white\"}},\"shapedefaults\":{\"line\":{\"color\":\"#2a3f5f\"}},\"ternary\":{\"aaxis\":{\"gridcolor\":\"white\",\"linecolor\":\"white\",\"ticks\":\"\"},\"baxis\":{\"gridcolor\":\"white\",\"linecolor\":\"white\",\"ticks\":\"\"},\"bgcolor\":\"#E5ECF6\",\"caxis\":{\"gridcolor\":\"white\",\"linecolor\":\"white\",\"ticks\":\"\"}},\"title\":{\"x\":0.05},\"xaxis\":{\"automargin\":true,\"gridcolor\":\"white\",\"linecolor\":\"white\",\"ticks\":\"\",\"title\":{\"standoff\":15},\"zerolinecolor\":\"white\",\"zerolinewidth\":2},\"yaxis\":{\"automargin\":true,\"gridcolor\":\"white\",\"linecolor\":\"white\",\"ticks\":\"\",\"title\":{\"standoff\":15},\"zerolinecolor\":\"white\",\"zerolinewidth\":2}}},\"title\":{\"font\":{\"color\":\"#4D5663\"}},\"xaxis\":{\"gridcolor\":\"#E1E5ED\",\"showgrid\":true,\"tickfont\":{\"color\":\"#4D5663\"},\"title\":{\"font\":{\"color\":\"#4D5663\"},\"text\":\"\"},\"zerolinecolor\":\"#E1E5ED\"},\"yaxis\":{\"gridcolor\":\"#E1E5ED\",\"showgrid\":true,\"tickfont\":{\"color\":\"#4D5663\"},\"title\":{\"font\":{\"color\":\"#4D5663\"},\"text\":\"\"},\"zerolinecolor\":\"#E1E5ED\"}},                        {\"showLink\": true, \"linkText\": \"Export to plot.ly\", \"plotlyServerURL\": \"https://plot.ly\", \"responsive\": true}                    ).then(function(){\n",
       "                            \n",
       "var gd = document.getElementById('7badac1e-2ef6-45f0-b9f5-1863282673fc');\n",
       "var x = new MutationObserver(function (mutations, observer) {{\n",
       "        var display = window.getComputedStyle(gd).display;\n",
       "        if (!display || display === 'none') {{\n",
       "            console.log([gd, 'removed!']);\n",
       "            Plotly.purge(gd);\n",
       "            observer.disconnect();\n",
       "        }}\n",
       "}});\n",
       "\n",
       "// Listen for the removal of the full notebook cells\n",
       "var notebookContainer = gd.closest('#notebook-container');\n",
       "if (notebookContainer) {{\n",
       "    x.observe(notebookContainer, {childList: true});\n",
       "}}\n",
       "\n",
       "// Listen for the clearing of the current output cell\n",
       "var outputEl = gd.closest('.output');\n",
       "if (outputEl) {{\n",
       "    x.observe(outputEl, {childList: true});\n",
       "}}\n",
       "\n",
       "                        })                };                });            </script>        </div>"
      ]
     },
     "metadata": {},
     "output_type": "display_data"
    }
   ],
   "source": [
    "df3 = pd.DataFrame({'x':[1,2,3,4,5],'y':[10,20,30,20,10],'z':[5,4,3,2,1]})\n",
    "df3.iplot(kind='surface',colorscale='rdylbu')"
   ]
  },
  {
   "cell_type": "code",
   "execution_count": 16,
   "id": "b8cf057b",
   "metadata": {},
   "outputs": [],
   "source": [
    "df = pd.DataFrame(np.random.randn(4,4),columns='A B C D'.split())"
   ]
  },
  {
   "cell_type": "code",
   "execution_count": 18,
   "id": "650fffd7",
   "metadata": {},
   "outputs": [
    {
     "ename": "CufflinksError",
     "evalue": "Missing: values",
     "output_type": "error",
     "traceback": [
      "\u001b[1;31m---------------------------------------------------------------------------\u001b[0m",
      "\u001b[1;31mCufflinksError\u001b[0m                            Traceback (most recent call last)",
      "Cell \u001b[1;32mIn[18], line 1\u001b[0m\n\u001b[1;32m----> 1\u001b[0m df[\u001b[38;5;124m'\u001b[39m\u001b[38;5;124mA\u001b[39m\u001b[38;5;124m'\u001b[39m]\u001b[38;5;241m.\u001b[39miplot(kind\u001b[38;5;241m=\u001b[39m\u001b[38;5;124m'\u001b[39m\u001b[38;5;124mpie\u001b[39m\u001b[38;5;124m'\u001b[39m,labels \u001b[38;5;241m=\u001b[39m [\u001b[38;5;124m'\u001b[39m\u001b[38;5;124ma\u001b[39m\u001b[38;5;124m'\u001b[39m])\n",
      "File \u001b[1;32m~\\anaconda3\\Lib\\site-packages\\cufflinks\\plotlytools.py:1007\u001b[0m, in \u001b[0;36m_iplot\u001b[1;34m(self, kind, data, layout, filename, sharing, title, xTitle, yTitle, zTitle, theme, colors, colorscale, fill, width, dash, mode, interpolation, symbol, size, barmode, sortbars, bargap, bargroupgap, bins, histnorm, histfunc, orientation, boxpoints, annotations, keys, bestfit, bestfit_colors, mean, mean_colors, categories, x, y, z, text, gridcolor, zerolinecolor, margin, labels, values, secondary_y, secondary_y_title, subplots, shape, error_x, error_y, error_type, locations, lon, lat, asFrame, asDates, asFigure, asImage, dimensions, asPlot, asUrl, online, **kwargs)\u001b[0m\n\u001b[0;32m   1005\u001b[0m \t\u001b[38;5;28;01mraise\u001b[39;00m CufflinksError(\u001b[38;5;124m'\u001b[39m\u001b[38;5;124mMissing: labels\u001b[39m\u001b[38;5;124m'\u001b[39m)\n\u001b[0;32m   1006\u001b[0m \u001b[38;5;28;01mif\u001b[39;00m \u001b[38;5;129;01mnot\u001b[39;00m values:\n\u001b[1;32m-> 1007\u001b[0m \t\u001b[38;5;28;01mraise\u001b[39;00m CufflinksError(\u001b[38;5;124m'\u001b[39m\u001b[38;5;124mMissing: values\u001b[39m\u001b[38;5;124m'\u001b[39m)\n\u001b[0;32m   1008\u001b[0m labels\u001b[38;5;241m=\u001b[39m\u001b[38;5;28mself\u001b[39m[labels]\u001b[38;5;241m.\u001b[39mvalues\u001b[38;5;241m.\u001b[39mtolist()\n\u001b[0;32m   1009\u001b[0m values\u001b[38;5;241m=\u001b[39m\u001b[38;5;28mself\u001b[39m[values]\u001b[38;5;241m.\u001b[39mvalues\u001b[38;5;241m.\u001b[39mtolist()\n",
      "\u001b[1;31mCufflinksError\u001b[0m: Missing: values"
     ]
    }
   ],
   "source": [
    "df['A'].iplot(kind='pie',labels = ['a'])"
   ]
  },
  {
   "cell_type": "code",
   "execution_count": 7,
   "id": "dc73d611",
   "metadata": {},
   "outputs": [
    {
     "data": {
      "application/vnd.plotly.v1+json": {
       "config": {
        "linkText": "Export to plot.ly",
        "plotlyServerURL": "https://plot.ly",
        "showLink": true
       },
       "data": [
        {
         "histfunc": "count",
         "histnorm": "",
         "marker": {
          "color": "rgba(255, 153, 51, 1.0)",
          "line": {
           "color": "#4D5663",
           "width": 1.3
          }
         },
         "name": "A",
         "nbinsx": 10,
         "opacity": 0.8,
         "orientation": "v",
         "type": "histogram",
         "x": [
          -0.07097867800512375,
          -1.3719871701288424,
          0.86342004660134,
          1.0628352899295697,
          0.0933022867740636,
          -0.7137878844981527,
          -0.04424736160769385,
          -1.1382844977081596,
          -0.43412616991252395,
          -1.0410259717424928,
          0.23195159579039692,
          -0.6709747719262064,
          0.28375108214854444,
          0.44642062016638306,
          0.33749077510556647,
          1.3228882834862572,
          -0.10156574400933181,
          0.21309164182742962,
          -1.31384054668843,
          1.3689896072719263,
          -0.4826525144213033,
          -0.9879604708719997,
          0.5337737625169949,
          0.3660330683489457,
          0.10091494924524841,
          1.3295215027875549,
          1.0842397697189046,
          -0.43490098064163646,
          0.9945355234697241,
          -0.9289309991648871,
          -0.4150407385752576,
          1.4303807860930549,
          0.9492619018801838,
          0.9713131273016196,
          1.9050118261777413,
          -0.5561653118154009,
          0.4216354002702895,
          -0.0685279355771744,
          -0.34465289782777936,
          -0.1005685165144487,
          0.34591206341415504,
          -0.9467048131841311,
          -0.2810337834616072,
          -0.37170962963794224,
          -1.7128944837785425,
          0.1745537425056791,
          1.2594199836438404,
          -0.4651862582872064,
          -0.4175622964078361,
          2.1621390858983074,
          1.5214415758964313,
          -0.3744127180499335,
          0.3774145020910489,
          0.32557034491480097,
          -0.16557735391044087,
          -2.158340396606424,
          2.3875916828463177,
          -0.2662576103961899,
          -0.057513074105692674,
          -2.1462708656507976,
          -1.2951013871340533,
          -1.7164415167802511,
          -1.5747318623706277,
          -0.5879706613606943,
          0.8714187755798224,
          -0.13053462742753416,
          1.306381707198462,
          1.0838599374368527,
          0.028684321753593096,
          -1.8840151600796609,
          0.497224248299635,
          -1.1747019832632168,
          0.7572313304823163,
          1.7040991025657866,
          -1.3491988144469258,
          -0.644619021893386,
          -0.9925949331455116,
          2.136998417436295,
          -2.2738039118297606,
          1.6515150441902364,
          0.4877401890022299,
          -1.3445771318104656,
          -0.9096412072706987,
          0.6147875310806635,
          0.7064336076955912,
          0.045643631679086284,
          -0.5649144823227196,
          0.6669249258649116,
          1.3427947717546123,
          -0.6781531767859905,
          0.28412782801083336,
          1.5134157863017919,
          1.2000832631247744,
          0.021372815115842367,
          -0.8008525215517494,
          0.5328988651188796,
          0.5395358513596765,
          -0.20348386510895866,
          -1.6870342685123632,
          1.0256046209058471
         ],
         "xaxis": "x",
         "yaxis": "y"
        },
        {
         "line": {
          "color": "rgba(128, 128, 128, 1.0)",
          "dash": "solid",
          "shape": "linear",
          "width": 1.3
         },
         "marker": {
          "size": 2,
          "symbol": "circle"
         },
         "mode": "markers",
         "name": "A",
         "text": "",
         "type": "scatter",
         "x": [
          -0.48021667999792206,
          -1.767693757615576,
          -0.7965063909894238,
          1.183607368288335,
          -2.584962068987776,
          -0.28004243181952143,
          -0.2810203459936231,
          0.9542463767584113,
          -0.07142538648128002,
          0.6359835841224643,
          1.7647783419739003,
          0.8458013004580175,
          2.2779081520723015,
          -0.6518645469546005,
          -1.4762525578559023,
          0.9591866286892657,
          0.4750133370035477,
          1.4547938162053253,
          -0.5334075850272327,
          0.8637487343722436,
          -0.6519547137630846,
          0.07393140222409583,
          -1.7844213837479546,
          -2.473959891492755,
          -1.7569469517297167,
          -0.9743357578543108,
          -0.12779805121518964,
          -0.048917050863550735,
          0.7415907552751492,
          0.4933191075056928,
          0.006197213316774313,
          -1.36352521294892,
          0.47571696454369283,
          1.3168061304675434,
          -1.049896476600438,
          0.5068001405486657,
          -0.975301654107105,
          -1.2015966506020221,
          -0.3819793865046173,
          0.00701661760325433,
          -0.2712921041825838,
          0.8205559462671078,
          1.1519596143724125,
          -1.930031451502338,
          -1.7124801826316711,
          -0.1994946901539977,
          0.2341981531974387,
          1.450060419010801,
          0.8559452490228944,
          0.27411911688042,
          -0.9824663786634694,
          -1.0068107796983867,
          -0.6497084546642562,
          -0.21039524717106142,
          -0.019639248598312512,
          -1.0646124840975537,
          -0.6878381323251727,
          -0.9854180085472164,
          0.29589682632945175,
          -0.03896419638359273,
          1.1992659846953158,
          -0.8481226344048309,
          -0.37882876695509105,
          0.5569693706553868,
          -0.2842421204673835,
          -1.7616033644117735,
          -0.7367386823328558,
          -1.4790376107220264,
          0.7432634515241014,
          0.9142403304209297,
          -0.6770293776846487,
          0.2851535747365677,
          -0.5318194269029167,
          -0.09014187312394373,
          0.15777322005857639,
          0.9004701150830658,
          1.2896333051549662,
          -0.42686181075878554,
          -0.5186537604974067,
          -0.25467116960784836,
          0.009798863814142113,
          -0.3688762155820952,
          -0.35495141596895113,
          0.18856734776222578,
          -0.3689815555163424,
          0.2021027603155454,
          -0.7694817136696835,
          1.9965314780668186,
          -0.028038417611311813,
          -0.48353780713267547,
          -1.853076960219544,
          -0.1074911041658705,
          -0.08426849763367841,
          -0.10162811938621388,
          1.8018316690014027,
          -0.6742238288918703,
          0.7333315744277983,
          0.013395614856481776,
          -1.8883289458565309,
          0.18280084162989219
         ],
         "xaxis": "x2",
         "y": [
          -0.07097867800512375,
          -1.3719871701288424,
          0.86342004660134,
          1.0628352899295697,
          0.0933022867740636,
          -0.7137878844981527,
          -0.04424736160769385,
          -1.1382844977081596,
          -0.43412616991252395,
          -1.0410259717424928,
          0.23195159579039692,
          -0.6709747719262064,
          0.28375108214854444,
          0.44642062016638306,
          0.33749077510556647,
          1.3228882834862572,
          -0.10156574400933181,
          0.21309164182742962,
          -1.31384054668843,
          1.3689896072719263,
          -0.4826525144213033,
          -0.9879604708719997,
          0.5337737625169949,
          0.3660330683489457,
          0.10091494924524841,
          1.3295215027875549,
          1.0842397697189046,
          -0.43490098064163646,
          0.9945355234697241,
          -0.9289309991648871,
          -0.4150407385752576,
          1.4303807860930549,
          0.9492619018801838,
          0.9713131273016196,
          1.9050118261777413,
          -0.5561653118154009,
          0.4216354002702895,
          -0.0685279355771744,
          -0.34465289782777936,
          -0.1005685165144487,
          0.34591206341415504,
          -0.9467048131841311,
          -0.2810337834616072,
          -0.37170962963794224,
          -1.7128944837785425,
          0.1745537425056791,
          1.2594199836438404,
          -0.4651862582872064,
          -0.4175622964078361,
          2.1621390858983074,
          1.5214415758964313,
          -0.3744127180499335,
          0.3774145020910489,
          0.32557034491480097,
          -0.16557735391044087,
          -2.158340396606424,
          2.3875916828463177,
          -0.2662576103961899,
          -0.057513074105692674,
          -2.1462708656507976,
          -1.2951013871340533,
          -1.7164415167802511,
          -1.5747318623706277,
          -0.5879706613606943,
          0.8714187755798224,
          -0.13053462742753416,
          1.306381707198462,
          1.0838599374368527,
          0.028684321753593096,
          -1.8840151600796609,
          0.497224248299635,
          -1.1747019832632168,
          0.7572313304823163,
          1.7040991025657866,
          -1.3491988144469258,
          -0.644619021893386,
          -0.9925949331455116,
          2.136998417436295,
          -2.2738039118297606,
          1.6515150441902364,
          0.4877401890022299,
          -1.3445771318104656,
          -0.9096412072706987,
          0.6147875310806635,
          0.7064336076955912,
          0.045643631679086284,
          -0.5649144823227196,
          0.6669249258649116,
          1.3427947717546123,
          -0.6781531767859905,
          0.28412782801083336,
          1.5134157863017919,
          1.2000832631247744,
          0.021372815115842367,
          -0.8008525215517494,
          0.5328988651188796,
          0.5395358513596765,
          -0.20348386510895866,
          -1.6870342685123632,
          1.0256046209058471
         ],
         "yaxis": "y2"
        },
        {
         "line": {
          "color": "rgba(128, 128, 128, 1.0)",
          "dash": "solid",
          "shape": "linear",
          "width": 1.3
         },
         "marker": {
          "size": 2,
          "symbol": "circle"
         },
         "mode": "markers",
         "name": "A",
         "text": "",
         "type": "scatter",
         "x": [
          -0.3040854186589564,
          1.246833497470403,
          0.8930332744349196,
          -0.1719769833826304,
          -0.017683220292377715,
          0.31669237929579047,
          -0.6218959492557863,
          -0.6269129935442598,
          0.19184859643366706,
          1.9462481396911848,
          -1.5525098258828618,
          1.5044614241003507,
          -1.4581725713563496,
          -0.46604949416439573,
          -2.081794158048962,
          -0.04704905060754319,
          -0.6398173647204053,
          0.42280114879533737,
          -1.7530911083997947,
          -0.8143784463276719,
          -1.7871130555096635,
          -0.06584680205467948,
          -0.6576131402488188,
          -0.7245546832563872,
          0.3401273325467127,
          -0.7036645001156482,
          0.23007908804272237,
          0.5595903700936222,
          0.43023006512059914,
          -0.5909345039418035,
          -0.11980256556349118,
          -0.23585344704003267,
          -0.4092068031535469,
          0.9639403797034368,
          1.778397175638263,
          -0.4157199437766586,
          -0.05059225644767502,
          -1.3022887292852656,
          1.0240548907171791,
          -1.578548197037887,
          0.963100523842453,
          -0.3323620990665286,
          -0.8394257664741447,
          0.2965461442558922,
          0.28415751823797825,
          2.0593533696442963,
          -0.9573214250266097,
          0.7731414264660283,
          1.1247376924185177,
          0.6369036864943833,
          0.8396757716050604,
          -0.09685834101168504,
          -0.1331324130180998,
          0.6340692022040626,
          2.2722738739439685,
          2.8156200050884808,
          -1.4375097639737682,
          0.43963386094613904,
          0.34989245938767916,
          0.17236073146734213,
          3.6048690674736816,
          -2.4757366133546976,
          0.3677108784245974,
          0.43317821937035783,
          -0.1424762699402981,
          -2.059616987123858,
          -0.6837791278866705,
          1.863874105714213,
          0.1633461125655514,
          -0.2901698461782455,
          0.805130447988138,
          -0.2965263406775229,
          -0.8409954911244629,
          1.0054667330642537,
          -1.1606715992030812,
          -0.5373436329293438,
          -0.038404861154318376,
          0.09517910479058118,
          0.23061754639934867,
          0.3981929834991574,
          0.20780870353272723,
          -0.6329672972727428,
          -2.1512572547641753,
          0.8143665131982654,
          -1.4595961589284234,
          -0.9747027652013951,
          -1.0226442809643932,
          0.6458053015676501,
          -1.1041844941782595,
          -0.7191551091854427,
          0.23741179508269594,
          0.0411213108540397,
          -1.3411016469009658,
          -0.07301483169518061,
          1.0694034319117063,
          -0.8342345403943898,
          1.0732307001744341,
          0.09047002033015497,
          -0.4274275492620005,
          -0.25468469941866184
         ],
         "xaxis": "x3",
         "y": [
          -0.07097867800512375,
          -1.3719871701288424,
          0.86342004660134,
          1.0628352899295697,
          0.0933022867740636,
          -0.7137878844981527,
          -0.04424736160769385,
          -1.1382844977081596,
          -0.43412616991252395,
          -1.0410259717424928,
          0.23195159579039692,
          -0.6709747719262064,
          0.28375108214854444,
          0.44642062016638306,
          0.33749077510556647,
          1.3228882834862572,
          -0.10156574400933181,
          0.21309164182742962,
          -1.31384054668843,
          1.3689896072719263,
          -0.4826525144213033,
          -0.9879604708719997,
          0.5337737625169949,
          0.3660330683489457,
          0.10091494924524841,
          1.3295215027875549,
          1.0842397697189046,
          -0.43490098064163646,
          0.9945355234697241,
          -0.9289309991648871,
          -0.4150407385752576,
          1.4303807860930549,
          0.9492619018801838,
          0.9713131273016196,
          1.9050118261777413,
          -0.5561653118154009,
          0.4216354002702895,
          -0.0685279355771744,
          -0.34465289782777936,
          -0.1005685165144487,
          0.34591206341415504,
          -0.9467048131841311,
          -0.2810337834616072,
          -0.37170962963794224,
          -1.7128944837785425,
          0.1745537425056791,
          1.2594199836438404,
          -0.4651862582872064,
          -0.4175622964078361,
          2.1621390858983074,
          1.5214415758964313,
          -0.3744127180499335,
          0.3774145020910489,
          0.32557034491480097,
          -0.16557735391044087,
          -2.158340396606424,
          2.3875916828463177,
          -0.2662576103961899,
          -0.057513074105692674,
          -2.1462708656507976,
          -1.2951013871340533,
          -1.7164415167802511,
          -1.5747318623706277,
          -0.5879706613606943,
          0.8714187755798224,
          -0.13053462742753416,
          1.306381707198462,
          1.0838599374368527,
          0.028684321753593096,
          -1.8840151600796609,
          0.497224248299635,
          -1.1747019832632168,
          0.7572313304823163,
          1.7040991025657866,
          -1.3491988144469258,
          -0.644619021893386,
          -0.9925949331455116,
          2.136998417436295,
          -2.2738039118297606,
          1.6515150441902364,
          0.4877401890022299,
          -1.3445771318104656,
          -0.9096412072706987,
          0.6147875310806635,
          0.7064336076955912,
          0.045643631679086284,
          -0.5649144823227196,
          0.6669249258649116,
          1.3427947717546123,
          -0.6781531767859905,
          0.28412782801083336,
          1.5134157863017919,
          1.2000832631247744,
          0.021372815115842367,
          -0.8008525215517494,
          0.5328988651188796,
          0.5395358513596765,
          -0.20348386510895866,
          -1.6870342685123632,
          1.0256046209058471
         ],
         "yaxis": "y3"
        },
        {
         "line": {
          "color": "rgba(128, 128, 128, 1.0)",
          "dash": "solid",
          "shape": "linear",
          "width": 1.3
         },
         "marker": {
          "size": 2,
          "symbol": "circle"
         },
         "mode": "markers",
         "name": "A",
         "text": "",
         "type": "scatter",
         "x": [
          0.1260246403158665,
          0.32596588283693795,
          -0.5686858537639956,
          -0.29718060653250933,
          1.7588381598565028,
          -0.03857764000300759,
          -1.7340974348788103,
          -0.3617793230237885,
          -2.4149684557449693,
          -1.3767462108139694,
          0.5898428886562838,
          -2.001029093747053,
          1.1256350430326616,
          1.5602984938237987,
          -0.389451616530249,
          -0.42489518002010684,
          2.257395516387381,
          0.3895541175008674,
          -0.0995860564994603,
          -1.0738155759067198,
          -1.7565460427541784,
          -0.1947488697970567,
          -0.5170954867757681,
          -1.5922351400315728,
          1.3128419687965667,
          0.2838584127363085,
          -0.19737582311805313,
          -0.6616847059780777,
          -1.0374858261084379,
          -0.1934196149905549,
          -1.2734893249155639,
          0.7676275747572554,
          1.377433712430287,
          -1.2044708504114916,
          0.5476630725558378,
          1.1268461672029098,
          1.081399655461273,
          -0.42529035516232094,
          1.4578252740432511,
          1.143417927391743,
          -1.9194702041788991,
          0.6408794111141025,
          -0.23613137975861856,
          -0.47956577852639665,
          0.5927017766688727,
          -0.61906931926205,
          -1.8371817673343944,
          0.3507980620830861,
          -0.3433720134184708,
          -0.8958108224062418,
          -0.24620337288035526,
          -0.822171481936348,
          1.7923612543940841,
          0.8228387163857979,
          -0.8211298321319879,
          -1.4136999482102726,
          0.12200974430168629,
          -0.6609161749496707,
          0.4646612862370089,
          0.07216544565038985,
          -1.3510467858709554,
          0.2410658037017578,
          -0.4826672428085537,
          -0.01386784323268645,
          -0.8492851245148666,
          0.9147232689502697,
          -0.921236171176619,
          0.1955307605181961,
          -1.4948028372190572,
          1.0718925618030184,
          0.7575381883018008,
          0.4244620446375021,
          -1.4117352311738172,
          -0.5140290100298601,
          0.65195630980734,
          0.5612234594342945,
          -0.2853988343061505,
          1.1746626811524241,
          0.10195169227623516,
          0.3635373689774617,
          -0.0270549928479153,
          2.038571710155747,
          1.2013501890850573,
          0.6583509161560808,
          0.9463583688890771,
          -0.9057901239822289,
          -0.4286175172731991,
          0.8726519946786022,
          0.16012197748081852,
          -0.09732798559242585,
          0.5483794223229277,
          -0.1742602998924234,
          1.2076929024559493,
          -0.5305557408248951,
          -0.3876668590861956,
          -0.0982595642753183,
          -0.41572179650225577,
          -0.12963428890389472,
          0.5387087334310405,
          0.3801413279841494
         ],
         "xaxis": "x4",
         "y": [
          -0.07097867800512375,
          -1.3719871701288424,
          0.86342004660134,
          1.0628352899295697,
          0.0933022867740636,
          -0.7137878844981527,
          -0.04424736160769385,
          -1.1382844977081596,
          -0.43412616991252395,
          -1.0410259717424928,
          0.23195159579039692,
          -0.6709747719262064,
          0.28375108214854444,
          0.44642062016638306,
          0.33749077510556647,
          1.3228882834862572,
          -0.10156574400933181,
          0.21309164182742962,
          -1.31384054668843,
          1.3689896072719263,
          -0.4826525144213033,
          -0.9879604708719997,
          0.5337737625169949,
          0.3660330683489457,
          0.10091494924524841,
          1.3295215027875549,
          1.0842397697189046,
          -0.43490098064163646,
          0.9945355234697241,
          -0.9289309991648871,
          -0.4150407385752576,
          1.4303807860930549,
          0.9492619018801838,
          0.9713131273016196,
          1.9050118261777413,
          -0.5561653118154009,
          0.4216354002702895,
          -0.0685279355771744,
          -0.34465289782777936,
          -0.1005685165144487,
          0.34591206341415504,
          -0.9467048131841311,
          -0.2810337834616072,
          -0.37170962963794224,
          -1.7128944837785425,
          0.1745537425056791,
          1.2594199836438404,
          -0.4651862582872064,
          -0.4175622964078361,
          2.1621390858983074,
          1.5214415758964313,
          -0.3744127180499335,
          0.3774145020910489,
          0.32557034491480097,
          -0.16557735391044087,
          -2.158340396606424,
          2.3875916828463177,
          -0.2662576103961899,
          -0.057513074105692674,
          -2.1462708656507976,
          -1.2951013871340533,
          -1.7164415167802511,
          -1.5747318623706277,
          -0.5879706613606943,
          0.8714187755798224,
          -0.13053462742753416,
          1.306381707198462,
          1.0838599374368527,
          0.028684321753593096,
          -1.8840151600796609,
          0.497224248299635,
          -1.1747019832632168,
          0.7572313304823163,
          1.7040991025657866,
          -1.3491988144469258,
          -0.644619021893386,
          -0.9925949331455116,
          2.136998417436295,
          -2.2738039118297606,
          1.6515150441902364,
          0.4877401890022299,
          -1.3445771318104656,
          -0.9096412072706987,
          0.6147875310806635,
          0.7064336076955912,
          0.045643631679086284,
          -0.5649144823227196,
          0.6669249258649116,
          1.3427947717546123,
          -0.6781531767859905,
          0.28412782801083336,
          1.5134157863017919,
          1.2000832631247744,
          0.021372815115842367,
          -0.8008525215517494,
          0.5328988651188796,
          0.5395358513596765,
          -0.20348386510895866,
          -1.6870342685123632,
          1.0256046209058471
         ],
         "yaxis": "y4"
        },
        {
         "line": {
          "color": "rgba(128, 128, 128, 1.0)",
          "dash": "solid",
          "shape": "linear",
          "width": 1.3
         },
         "marker": {
          "size": 2,
          "symbol": "circle"
         },
         "mode": "markers",
         "name": "B",
         "text": "",
         "type": "scatter",
         "x": [
          -0.07097867800512375,
          -1.3719871701288424,
          0.86342004660134,
          1.0628352899295697,
          0.0933022867740636,
          -0.7137878844981527,
          -0.04424736160769385,
          -1.1382844977081596,
          -0.43412616991252395,
          -1.0410259717424928,
          0.23195159579039692,
          -0.6709747719262064,
          0.28375108214854444,
          0.44642062016638306,
          0.33749077510556647,
          1.3228882834862572,
          -0.10156574400933181,
          0.21309164182742962,
          -1.31384054668843,
          1.3689896072719263,
          -0.4826525144213033,
          -0.9879604708719997,
          0.5337737625169949,
          0.3660330683489457,
          0.10091494924524841,
          1.3295215027875549,
          1.0842397697189046,
          -0.43490098064163646,
          0.9945355234697241,
          -0.9289309991648871,
          -0.4150407385752576,
          1.4303807860930549,
          0.9492619018801838,
          0.9713131273016196,
          1.9050118261777413,
          -0.5561653118154009,
          0.4216354002702895,
          -0.0685279355771744,
          -0.34465289782777936,
          -0.1005685165144487,
          0.34591206341415504,
          -0.9467048131841311,
          -0.2810337834616072,
          -0.37170962963794224,
          -1.7128944837785425,
          0.1745537425056791,
          1.2594199836438404,
          -0.4651862582872064,
          -0.4175622964078361,
          2.1621390858983074,
          1.5214415758964313,
          -0.3744127180499335,
          0.3774145020910489,
          0.32557034491480097,
          -0.16557735391044087,
          -2.158340396606424,
          2.3875916828463177,
          -0.2662576103961899,
          -0.057513074105692674,
          -2.1462708656507976,
          -1.2951013871340533,
          -1.7164415167802511,
          -1.5747318623706277,
          -0.5879706613606943,
          0.8714187755798224,
          -0.13053462742753416,
          1.306381707198462,
          1.0838599374368527,
          0.028684321753593096,
          -1.8840151600796609,
          0.497224248299635,
          -1.1747019832632168,
          0.7572313304823163,
          1.7040991025657866,
          -1.3491988144469258,
          -0.644619021893386,
          -0.9925949331455116,
          2.136998417436295,
          -2.2738039118297606,
          1.6515150441902364,
          0.4877401890022299,
          -1.3445771318104656,
          -0.9096412072706987,
          0.6147875310806635,
          0.7064336076955912,
          0.045643631679086284,
          -0.5649144823227196,
          0.6669249258649116,
          1.3427947717546123,
          -0.6781531767859905,
          0.28412782801083336,
          1.5134157863017919,
          1.2000832631247744,
          0.021372815115842367,
          -0.8008525215517494,
          0.5328988651188796,
          0.5395358513596765,
          -0.20348386510895866,
          -1.6870342685123632,
          1.0256046209058471
         ],
         "xaxis": "x5",
         "y": [
          -0.48021667999792206,
          -1.767693757615576,
          -0.7965063909894238,
          1.183607368288335,
          -2.584962068987776,
          -0.28004243181952143,
          -0.2810203459936231,
          0.9542463767584113,
          -0.07142538648128002,
          0.6359835841224643,
          1.7647783419739003,
          0.8458013004580175,
          2.2779081520723015,
          -0.6518645469546005,
          -1.4762525578559023,
          0.9591866286892657,
          0.4750133370035477,
          1.4547938162053253,
          -0.5334075850272327,
          0.8637487343722436,
          -0.6519547137630846,
          0.07393140222409583,
          -1.7844213837479546,
          -2.473959891492755,
          -1.7569469517297167,
          -0.9743357578543108,
          -0.12779805121518964,
          -0.048917050863550735,
          0.7415907552751492,
          0.4933191075056928,
          0.006197213316774313,
          -1.36352521294892,
          0.47571696454369283,
          1.3168061304675434,
          -1.049896476600438,
          0.5068001405486657,
          -0.975301654107105,
          -1.2015966506020221,
          -0.3819793865046173,
          0.00701661760325433,
          -0.2712921041825838,
          0.8205559462671078,
          1.1519596143724125,
          -1.930031451502338,
          -1.7124801826316711,
          -0.1994946901539977,
          0.2341981531974387,
          1.450060419010801,
          0.8559452490228944,
          0.27411911688042,
          -0.9824663786634694,
          -1.0068107796983867,
          -0.6497084546642562,
          -0.21039524717106142,
          -0.019639248598312512,
          -1.0646124840975537,
          -0.6878381323251727,
          -0.9854180085472164,
          0.29589682632945175,
          -0.03896419638359273,
          1.1992659846953158,
          -0.8481226344048309,
          -0.37882876695509105,
          0.5569693706553868,
          -0.2842421204673835,
          -1.7616033644117735,
          -0.7367386823328558,
          -1.4790376107220264,
          0.7432634515241014,
          0.9142403304209297,
          -0.6770293776846487,
          0.2851535747365677,
          -0.5318194269029167,
          -0.09014187312394373,
          0.15777322005857639,
          0.9004701150830658,
          1.2896333051549662,
          -0.42686181075878554,
          -0.5186537604974067,
          -0.25467116960784836,
          0.009798863814142113,
          -0.3688762155820952,
          -0.35495141596895113,
          0.18856734776222578,
          -0.3689815555163424,
          0.2021027603155454,
          -0.7694817136696835,
          1.9965314780668186,
          -0.028038417611311813,
          -0.48353780713267547,
          -1.853076960219544,
          -0.1074911041658705,
          -0.08426849763367841,
          -0.10162811938621388,
          1.8018316690014027,
          -0.6742238288918703,
          0.7333315744277983,
          0.013395614856481776,
          -1.8883289458565309,
          0.18280084162989219
         ],
         "yaxis": "y5"
        },
        {
         "histfunc": "count",
         "histnorm": "",
         "marker": {
          "color": "rgba(55, 128, 191, 1.0)",
          "line": {
           "color": "#4D5663",
           "width": 1.3
          }
         },
         "name": "B",
         "nbinsx": 10,
         "opacity": 0.8,
         "orientation": "v",
         "type": "histogram",
         "x": [
          -0.48021667999792206,
          -1.767693757615576,
          -0.7965063909894238,
          1.183607368288335,
          -2.584962068987776,
          -0.28004243181952143,
          -0.2810203459936231,
          0.9542463767584113,
          -0.07142538648128002,
          0.6359835841224643,
          1.7647783419739003,
          0.8458013004580175,
          2.2779081520723015,
          -0.6518645469546005,
          -1.4762525578559023,
          0.9591866286892657,
          0.4750133370035477,
          1.4547938162053253,
          -0.5334075850272327,
          0.8637487343722436,
          -0.6519547137630846,
          0.07393140222409583,
          -1.7844213837479546,
          -2.473959891492755,
          -1.7569469517297167,
          -0.9743357578543108,
          -0.12779805121518964,
          -0.048917050863550735,
          0.7415907552751492,
          0.4933191075056928,
          0.006197213316774313,
          -1.36352521294892,
          0.47571696454369283,
          1.3168061304675434,
          -1.049896476600438,
          0.5068001405486657,
          -0.975301654107105,
          -1.2015966506020221,
          -0.3819793865046173,
          0.00701661760325433,
          -0.2712921041825838,
          0.8205559462671078,
          1.1519596143724125,
          -1.930031451502338,
          -1.7124801826316711,
          -0.1994946901539977,
          0.2341981531974387,
          1.450060419010801,
          0.8559452490228944,
          0.27411911688042,
          -0.9824663786634694,
          -1.0068107796983867,
          -0.6497084546642562,
          -0.21039524717106142,
          -0.019639248598312512,
          -1.0646124840975537,
          -0.6878381323251727,
          -0.9854180085472164,
          0.29589682632945175,
          -0.03896419638359273,
          1.1992659846953158,
          -0.8481226344048309,
          -0.37882876695509105,
          0.5569693706553868,
          -0.2842421204673835,
          -1.7616033644117735,
          -0.7367386823328558,
          -1.4790376107220264,
          0.7432634515241014,
          0.9142403304209297,
          -0.6770293776846487,
          0.2851535747365677,
          -0.5318194269029167,
          -0.09014187312394373,
          0.15777322005857639,
          0.9004701150830658,
          1.2896333051549662,
          -0.42686181075878554,
          -0.5186537604974067,
          -0.25467116960784836,
          0.009798863814142113,
          -0.3688762155820952,
          -0.35495141596895113,
          0.18856734776222578,
          -0.3689815555163424,
          0.2021027603155454,
          -0.7694817136696835,
          1.9965314780668186,
          -0.028038417611311813,
          -0.48353780713267547,
          -1.853076960219544,
          -0.1074911041658705,
          -0.08426849763367841,
          -0.10162811938621388,
          1.8018316690014027,
          -0.6742238288918703,
          0.7333315744277983,
          0.013395614856481776,
          -1.8883289458565309,
          0.18280084162989219
         ],
         "xaxis": "x6",
         "yaxis": "y6"
        },
        {
         "line": {
          "color": "rgba(128, 128, 128, 1.0)",
          "dash": "solid",
          "shape": "linear",
          "width": 1.3
         },
         "marker": {
          "size": 2,
          "symbol": "circle"
         },
         "mode": "markers",
         "name": "B",
         "text": "",
         "type": "scatter",
         "x": [
          -0.3040854186589564,
          1.246833497470403,
          0.8930332744349196,
          -0.1719769833826304,
          -0.017683220292377715,
          0.31669237929579047,
          -0.6218959492557863,
          -0.6269129935442598,
          0.19184859643366706,
          1.9462481396911848,
          -1.5525098258828618,
          1.5044614241003507,
          -1.4581725713563496,
          -0.46604949416439573,
          -2.081794158048962,
          -0.04704905060754319,
          -0.6398173647204053,
          0.42280114879533737,
          -1.7530911083997947,
          -0.8143784463276719,
          -1.7871130555096635,
          -0.06584680205467948,
          -0.6576131402488188,
          -0.7245546832563872,
          0.3401273325467127,
          -0.7036645001156482,
          0.23007908804272237,
          0.5595903700936222,
          0.43023006512059914,
          -0.5909345039418035,
          -0.11980256556349118,
          -0.23585344704003267,
          -0.4092068031535469,
          0.9639403797034368,
          1.778397175638263,
          -0.4157199437766586,
          -0.05059225644767502,
          -1.3022887292852656,
          1.0240548907171791,
          -1.578548197037887,
          0.963100523842453,
          -0.3323620990665286,
          -0.8394257664741447,
          0.2965461442558922,
          0.28415751823797825,
          2.0593533696442963,
          -0.9573214250266097,
          0.7731414264660283,
          1.1247376924185177,
          0.6369036864943833,
          0.8396757716050604,
          -0.09685834101168504,
          -0.1331324130180998,
          0.6340692022040626,
          2.2722738739439685,
          2.8156200050884808,
          -1.4375097639737682,
          0.43963386094613904,
          0.34989245938767916,
          0.17236073146734213,
          3.6048690674736816,
          -2.4757366133546976,
          0.3677108784245974,
          0.43317821937035783,
          -0.1424762699402981,
          -2.059616987123858,
          -0.6837791278866705,
          1.863874105714213,
          0.1633461125655514,
          -0.2901698461782455,
          0.805130447988138,
          -0.2965263406775229,
          -0.8409954911244629,
          1.0054667330642537,
          -1.1606715992030812,
          -0.5373436329293438,
          -0.038404861154318376,
          0.09517910479058118,
          0.23061754639934867,
          0.3981929834991574,
          0.20780870353272723,
          -0.6329672972727428,
          -2.1512572547641753,
          0.8143665131982654,
          -1.4595961589284234,
          -0.9747027652013951,
          -1.0226442809643932,
          0.6458053015676501,
          -1.1041844941782595,
          -0.7191551091854427,
          0.23741179508269594,
          0.0411213108540397,
          -1.3411016469009658,
          -0.07301483169518061,
          1.0694034319117063,
          -0.8342345403943898,
          1.0732307001744341,
          0.09047002033015497,
          -0.4274275492620005,
          -0.25468469941866184
         ],
         "xaxis": "x7",
         "y": [
          -0.48021667999792206,
          -1.767693757615576,
          -0.7965063909894238,
          1.183607368288335,
          -2.584962068987776,
          -0.28004243181952143,
          -0.2810203459936231,
          0.9542463767584113,
          -0.07142538648128002,
          0.6359835841224643,
          1.7647783419739003,
          0.8458013004580175,
          2.2779081520723015,
          -0.6518645469546005,
          -1.4762525578559023,
          0.9591866286892657,
          0.4750133370035477,
          1.4547938162053253,
          -0.5334075850272327,
          0.8637487343722436,
          -0.6519547137630846,
          0.07393140222409583,
          -1.7844213837479546,
          -2.473959891492755,
          -1.7569469517297167,
          -0.9743357578543108,
          -0.12779805121518964,
          -0.048917050863550735,
          0.7415907552751492,
          0.4933191075056928,
          0.006197213316774313,
          -1.36352521294892,
          0.47571696454369283,
          1.3168061304675434,
          -1.049896476600438,
          0.5068001405486657,
          -0.975301654107105,
          -1.2015966506020221,
          -0.3819793865046173,
          0.00701661760325433,
          -0.2712921041825838,
          0.8205559462671078,
          1.1519596143724125,
          -1.930031451502338,
          -1.7124801826316711,
          -0.1994946901539977,
          0.2341981531974387,
          1.450060419010801,
          0.8559452490228944,
          0.27411911688042,
          -0.9824663786634694,
          -1.0068107796983867,
          -0.6497084546642562,
          -0.21039524717106142,
          -0.019639248598312512,
          -1.0646124840975537,
          -0.6878381323251727,
          -0.9854180085472164,
          0.29589682632945175,
          -0.03896419638359273,
          1.1992659846953158,
          -0.8481226344048309,
          -0.37882876695509105,
          0.5569693706553868,
          -0.2842421204673835,
          -1.7616033644117735,
          -0.7367386823328558,
          -1.4790376107220264,
          0.7432634515241014,
          0.9142403304209297,
          -0.6770293776846487,
          0.2851535747365677,
          -0.5318194269029167,
          -0.09014187312394373,
          0.15777322005857639,
          0.9004701150830658,
          1.2896333051549662,
          -0.42686181075878554,
          -0.5186537604974067,
          -0.25467116960784836,
          0.009798863814142113,
          -0.3688762155820952,
          -0.35495141596895113,
          0.18856734776222578,
          -0.3689815555163424,
          0.2021027603155454,
          -0.7694817136696835,
          1.9965314780668186,
          -0.028038417611311813,
          -0.48353780713267547,
          -1.853076960219544,
          -0.1074911041658705,
          -0.08426849763367841,
          -0.10162811938621388,
          1.8018316690014027,
          -0.6742238288918703,
          0.7333315744277983,
          0.013395614856481776,
          -1.8883289458565309,
          0.18280084162989219
         ],
         "yaxis": "y7"
        },
        {
         "line": {
          "color": "rgba(128, 128, 128, 1.0)",
          "dash": "solid",
          "shape": "linear",
          "width": 1.3
         },
         "marker": {
          "size": 2,
          "symbol": "circle"
         },
         "mode": "markers",
         "name": "B",
         "text": "",
         "type": "scatter",
         "x": [
          0.1260246403158665,
          0.32596588283693795,
          -0.5686858537639956,
          -0.29718060653250933,
          1.7588381598565028,
          -0.03857764000300759,
          -1.7340974348788103,
          -0.3617793230237885,
          -2.4149684557449693,
          -1.3767462108139694,
          0.5898428886562838,
          -2.001029093747053,
          1.1256350430326616,
          1.5602984938237987,
          -0.389451616530249,
          -0.42489518002010684,
          2.257395516387381,
          0.3895541175008674,
          -0.0995860564994603,
          -1.0738155759067198,
          -1.7565460427541784,
          -0.1947488697970567,
          -0.5170954867757681,
          -1.5922351400315728,
          1.3128419687965667,
          0.2838584127363085,
          -0.19737582311805313,
          -0.6616847059780777,
          -1.0374858261084379,
          -0.1934196149905549,
          -1.2734893249155639,
          0.7676275747572554,
          1.377433712430287,
          -1.2044708504114916,
          0.5476630725558378,
          1.1268461672029098,
          1.081399655461273,
          -0.42529035516232094,
          1.4578252740432511,
          1.143417927391743,
          -1.9194702041788991,
          0.6408794111141025,
          -0.23613137975861856,
          -0.47956577852639665,
          0.5927017766688727,
          -0.61906931926205,
          -1.8371817673343944,
          0.3507980620830861,
          -0.3433720134184708,
          -0.8958108224062418,
          -0.24620337288035526,
          -0.822171481936348,
          1.7923612543940841,
          0.8228387163857979,
          -0.8211298321319879,
          -1.4136999482102726,
          0.12200974430168629,
          -0.6609161749496707,
          0.4646612862370089,
          0.07216544565038985,
          -1.3510467858709554,
          0.2410658037017578,
          -0.4826672428085537,
          -0.01386784323268645,
          -0.8492851245148666,
          0.9147232689502697,
          -0.921236171176619,
          0.1955307605181961,
          -1.4948028372190572,
          1.0718925618030184,
          0.7575381883018008,
          0.4244620446375021,
          -1.4117352311738172,
          -0.5140290100298601,
          0.65195630980734,
          0.5612234594342945,
          -0.2853988343061505,
          1.1746626811524241,
          0.10195169227623516,
          0.3635373689774617,
          -0.0270549928479153,
          2.038571710155747,
          1.2013501890850573,
          0.6583509161560808,
          0.9463583688890771,
          -0.9057901239822289,
          -0.4286175172731991,
          0.8726519946786022,
          0.16012197748081852,
          -0.09732798559242585,
          0.5483794223229277,
          -0.1742602998924234,
          1.2076929024559493,
          -0.5305557408248951,
          -0.3876668590861956,
          -0.0982595642753183,
          -0.41572179650225577,
          -0.12963428890389472,
          0.5387087334310405,
          0.3801413279841494
         ],
         "xaxis": "x8",
         "y": [
          -0.48021667999792206,
          -1.767693757615576,
          -0.7965063909894238,
          1.183607368288335,
          -2.584962068987776,
          -0.28004243181952143,
          -0.2810203459936231,
          0.9542463767584113,
          -0.07142538648128002,
          0.6359835841224643,
          1.7647783419739003,
          0.8458013004580175,
          2.2779081520723015,
          -0.6518645469546005,
          -1.4762525578559023,
          0.9591866286892657,
          0.4750133370035477,
          1.4547938162053253,
          -0.5334075850272327,
          0.8637487343722436,
          -0.6519547137630846,
          0.07393140222409583,
          -1.7844213837479546,
          -2.473959891492755,
          -1.7569469517297167,
          -0.9743357578543108,
          -0.12779805121518964,
          -0.048917050863550735,
          0.7415907552751492,
          0.4933191075056928,
          0.006197213316774313,
          -1.36352521294892,
          0.47571696454369283,
          1.3168061304675434,
          -1.049896476600438,
          0.5068001405486657,
          -0.975301654107105,
          -1.2015966506020221,
          -0.3819793865046173,
          0.00701661760325433,
          -0.2712921041825838,
          0.8205559462671078,
          1.1519596143724125,
          -1.930031451502338,
          -1.7124801826316711,
          -0.1994946901539977,
          0.2341981531974387,
          1.450060419010801,
          0.8559452490228944,
          0.27411911688042,
          -0.9824663786634694,
          -1.0068107796983867,
          -0.6497084546642562,
          -0.21039524717106142,
          -0.019639248598312512,
          -1.0646124840975537,
          -0.6878381323251727,
          -0.9854180085472164,
          0.29589682632945175,
          -0.03896419638359273,
          1.1992659846953158,
          -0.8481226344048309,
          -0.37882876695509105,
          0.5569693706553868,
          -0.2842421204673835,
          -1.7616033644117735,
          -0.7367386823328558,
          -1.4790376107220264,
          0.7432634515241014,
          0.9142403304209297,
          -0.6770293776846487,
          0.2851535747365677,
          -0.5318194269029167,
          -0.09014187312394373,
          0.15777322005857639,
          0.9004701150830658,
          1.2896333051549662,
          -0.42686181075878554,
          -0.5186537604974067,
          -0.25467116960784836,
          0.009798863814142113,
          -0.3688762155820952,
          -0.35495141596895113,
          0.18856734776222578,
          -0.3689815555163424,
          0.2021027603155454,
          -0.7694817136696835,
          1.9965314780668186,
          -0.028038417611311813,
          -0.48353780713267547,
          -1.853076960219544,
          -0.1074911041658705,
          -0.08426849763367841,
          -0.10162811938621388,
          1.8018316690014027,
          -0.6742238288918703,
          0.7333315744277983,
          0.013395614856481776,
          -1.8883289458565309,
          0.18280084162989219
         ],
         "yaxis": "y8"
        },
        {
         "line": {
          "color": "rgba(128, 128, 128, 1.0)",
          "dash": "solid",
          "shape": "linear",
          "width": 1.3
         },
         "marker": {
          "size": 2,
          "symbol": "circle"
         },
         "mode": "markers",
         "name": "C",
         "text": "",
         "type": "scatter",
         "x": [
          -0.07097867800512375,
          -1.3719871701288424,
          0.86342004660134,
          1.0628352899295697,
          0.0933022867740636,
          -0.7137878844981527,
          -0.04424736160769385,
          -1.1382844977081596,
          -0.43412616991252395,
          -1.0410259717424928,
          0.23195159579039692,
          -0.6709747719262064,
          0.28375108214854444,
          0.44642062016638306,
          0.33749077510556647,
          1.3228882834862572,
          -0.10156574400933181,
          0.21309164182742962,
          -1.31384054668843,
          1.3689896072719263,
          -0.4826525144213033,
          -0.9879604708719997,
          0.5337737625169949,
          0.3660330683489457,
          0.10091494924524841,
          1.3295215027875549,
          1.0842397697189046,
          -0.43490098064163646,
          0.9945355234697241,
          -0.9289309991648871,
          -0.4150407385752576,
          1.4303807860930549,
          0.9492619018801838,
          0.9713131273016196,
          1.9050118261777413,
          -0.5561653118154009,
          0.4216354002702895,
          -0.0685279355771744,
          -0.34465289782777936,
          -0.1005685165144487,
          0.34591206341415504,
          -0.9467048131841311,
          -0.2810337834616072,
          -0.37170962963794224,
          -1.7128944837785425,
          0.1745537425056791,
          1.2594199836438404,
          -0.4651862582872064,
          -0.4175622964078361,
          2.1621390858983074,
          1.5214415758964313,
          -0.3744127180499335,
          0.3774145020910489,
          0.32557034491480097,
          -0.16557735391044087,
          -2.158340396606424,
          2.3875916828463177,
          -0.2662576103961899,
          -0.057513074105692674,
          -2.1462708656507976,
          -1.2951013871340533,
          -1.7164415167802511,
          -1.5747318623706277,
          -0.5879706613606943,
          0.8714187755798224,
          -0.13053462742753416,
          1.306381707198462,
          1.0838599374368527,
          0.028684321753593096,
          -1.8840151600796609,
          0.497224248299635,
          -1.1747019832632168,
          0.7572313304823163,
          1.7040991025657866,
          -1.3491988144469258,
          -0.644619021893386,
          -0.9925949331455116,
          2.136998417436295,
          -2.2738039118297606,
          1.6515150441902364,
          0.4877401890022299,
          -1.3445771318104656,
          -0.9096412072706987,
          0.6147875310806635,
          0.7064336076955912,
          0.045643631679086284,
          -0.5649144823227196,
          0.6669249258649116,
          1.3427947717546123,
          -0.6781531767859905,
          0.28412782801083336,
          1.5134157863017919,
          1.2000832631247744,
          0.021372815115842367,
          -0.8008525215517494,
          0.5328988651188796,
          0.5395358513596765,
          -0.20348386510895866,
          -1.6870342685123632,
          1.0256046209058471
         ],
         "xaxis": "x9",
         "y": [
          -0.3040854186589564,
          1.246833497470403,
          0.8930332744349196,
          -0.1719769833826304,
          -0.017683220292377715,
          0.31669237929579047,
          -0.6218959492557863,
          -0.6269129935442598,
          0.19184859643366706,
          1.9462481396911848,
          -1.5525098258828618,
          1.5044614241003507,
          -1.4581725713563496,
          -0.46604949416439573,
          -2.081794158048962,
          -0.04704905060754319,
          -0.6398173647204053,
          0.42280114879533737,
          -1.7530911083997947,
          -0.8143784463276719,
          -1.7871130555096635,
          -0.06584680205467948,
          -0.6576131402488188,
          -0.7245546832563872,
          0.3401273325467127,
          -0.7036645001156482,
          0.23007908804272237,
          0.5595903700936222,
          0.43023006512059914,
          -0.5909345039418035,
          -0.11980256556349118,
          -0.23585344704003267,
          -0.4092068031535469,
          0.9639403797034368,
          1.778397175638263,
          -0.4157199437766586,
          -0.05059225644767502,
          -1.3022887292852656,
          1.0240548907171791,
          -1.578548197037887,
          0.963100523842453,
          -0.3323620990665286,
          -0.8394257664741447,
          0.2965461442558922,
          0.28415751823797825,
          2.0593533696442963,
          -0.9573214250266097,
          0.7731414264660283,
          1.1247376924185177,
          0.6369036864943833,
          0.8396757716050604,
          -0.09685834101168504,
          -0.1331324130180998,
          0.6340692022040626,
          2.2722738739439685,
          2.8156200050884808,
          -1.4375097639737682,
          0.43963386094613904,
          0.34989245938767916,
          0.17236073146734213,
          3.6048690674736816,
          -2.4757366133546976,
          0.3677108784245974,
          0.43317821937035783,
          -0.1424762699402981,
          -2.059616987123858,
          -0.6837791278866705,
          1.863874105714213,
          0.1633461125655514,
          -0.2901698461782455,
          0.805130447988138,
          -0.2965263406775229,
          -0.8409954911244629,
          1.0054667330642537,
          -1.1606715992030812,
          -0.5373436329293438,
          -0.038404861154318376,
          0.09517910479058118,
          0.23061754639934867,
          0.3981929834991574,
          0.20780870353272723,
          -0.6329672972727428,
          -2.1512572547641753,
          0.8143665131982654,
          -1.4595961589284234,
          -0.9747027652013951,
          -1.0226442809643932,
          0.6458053015676501,
          -1.1041844941782595,
          -0.7191551091854427,
          0.23741179508269594,
          0.0411213108540397,
          -1.3411016469009658,
          -0.07301483169518061,
          1.0694034319117063,
          -0.8342345403943898,
          1.0732307001744341,
          0.09047002033015497,
          -0.4274275492620005,
          -0.25468469941866184
         ],
         "yaxis": "y9"
        },
        {
         "line": {
          "color": "rgba(128, 128, 128, 1.0)",
          "dash": "solid",
          "shape": "linear",
          "width": 1.3
         },
         "marker": {
          "size": 2,
          "symbol": "circle"
         },
         "mode": "markers",
         "name": "C",
         "text": "",
         "type": "scatter",
         "x": [
          -0.48021667999792206,
          -1.767693757615576,
          -0.7965063909894238,
          1.183607368288335,
          -2.584962068987776,
          -0.28004243181952143,
          -0.2810203459936231,
          0.9542463767584113,
          -0.07142538648128002,
          0.6359835841224643,
          1.7647783419739003,
          0.8458013004580175,
          2.2779081520723015,
          -0.6518645469546005,
          -1.4762525578559023,
          0.9591866286892657,
          0.4750133370035477,
          1.4547938162053253,
          -0.5334075850272327,
          0.8637487343722436,
          -0.6519547137630846,
          0.07393140222409583,
          -1.7844213837479546,
          -2.473959891492755,
          -1.7569469517297167,
          -0.9743357578543108,
          -0.12779805121518964,
          -0.048917050863550735,
          0.7415907552751492,
          0.4933191075056928,
          0.006197213316774313,
          -1.36352521294892,
          0.47571696454369283,
          1.3168061304675434,
          -1.049896476600438,
          0.5068001405486657,
          -0.975301654107105,
          -1.2015966506020221,
          -0.3819793865046173,
          0.00701661760325433,
          -0.2712921041825838,
          0.8205559462671078,
          1.1519596143724125,
          -1.930031451502338,
          -1.7124801826316711,
          -0.1994946901539977,
          0.2341981531974387,
          1.450060419010801,
          0.8559452490228944,
          0.27411911688042,
          -0.9824663786634694,
          -1.0068107796983867,
          -0.6497084546642562,
          -0.21039524717106142,
          -0.019639248598312512,
          -1.0646124840975537,
          -0.6878381323251727,
          -0.9854180085472164,
          0.29589682632945175,
          -0.03896419638359273,
          1.1992659846953158,
          -0.8481226344048309,
          -0.37882876695509105,
          0.5569693706553868,
          -0.2842421204673835,
          -1.7616033644117735,
          -0.7367386823328558,
          -1.4790376107220264,
          0.7432634515241014,
          0.9142403304209297,
          -0.6770293776846487,
          0.2851535747365677,
          -0.5318194269029167,
          -0.09014187312394373,
          0.15777322005857639,
          0.9004701150830658,
          1.2896333051549662,
          -0.42686181075878554,
          -0.5186537604974067,
          -0.25467116960784836,
          0.009798863814142113,
          -0.3688762155820952,
          -0.35495141596895113,
          0.18856734776222578,
          -0.3689815555163424,
          0.2021027603155454,
          -0.7694817136696835,
          1.9965314780668186,
          -0.028038417611311813,
          -0.48353780713267547,
          -1.853076960219544,
          -0.1074911041658705,
          -0.08426849763367841,
          -0.10162811938621388,
          1.8018316690014027,
          -0.6742238288918703,
          0.7333315744277983,
          0.013395614856481776,
          -1.8883289458565309,
          0.18280084162989219
         ],
         "xaxis": "x10",
         "y": [
          -0.3040854186589564,
          1.246833497470403,
          0.8930332744349196,
          -0.1719769833826304,
          -0.017683220292377715,
          0.31669237929579047,
          -0.6218959492557863,
          -0.6269129935442598,
          0.19184859643366706,
          1.9462481396911848,
          -1.5525098258828618,
          1.5044614241003507,
          -1.4581725713563496,
          -0.46604949416439573,
          -2.081794158048962,
          -0.04704905060754319,
          -0.6398173647204053,
          0.42280114879533737,
          -1.7530911083997947,
          -0.8143784463276719,
          -1.7871130555096635,
          -0.06584680205467948,
          -0.6576131402488188,
          -0.7245546832563872,
          0.3401273325467127,
          -0.7036645001156482,
          0.23007908804272237,
          0.5595903700936222,
          0.43023006512059914,
          -0.5909345039418035,
          -0.11980256556349118,
          -0.23585344704003267,
          -0.4092068031535469,
          0.9639403797034368,
          1.778397175638263,
          -0.4157199437766586,
          -0.05059225644767502,
          -1.3022887292852656,
          1.0240548907171791,
          -1.578548197037887,
          0.963100523842453,
          -0.3323620990665286,
          -0.8394257664741447,
          0.2965461442558922,
          0.28415751823797825,
          2.0593533696442963,
          -0.9573214250266097,
          0.7731414264660283,
          1.1247376924185177,
          0.6369036864943833,
          0.8396757716050604,
          -0.09685834101168504,
          -0.1331324130180998,
          0.6340692022040626,
          2.2722738739439685,
          2.8156200050884808,
          -1.4375097639737682,
          0.43963386094613904,
          0.34989245938767916,
          0.17236073146734213,
          3.6048690674736816,
          -2.4757366133546976,
          0.3677108784245974,
          0.43317821937035783,
          -0.1424762699402981,
          -2.059616987123858,
          -0.6837791278866705,
          1.863874105714213,
          0.1633461125655514,
          -0.2901698461782455,
          0.805130447988138,
          -0.2965263406775229,
          -0.8409954911244629,
          1.0054667330642537,
          -1.1606715992030812,
          -0.5373436329293438,
          -0.038404861154318376,
          0.09517910479058118,
          0.23061754639934867,
          0.3981929834991574,
          0.20780870353272723,
          -0.6329672972727428,
          -2.1512572547641753,
          0.8143665131982654,
          -1.4595961589284234,
          -0.9747027652013951,
          -1.0226442809643932,
          0.6458053015676501,
          -1.1041844941782595,
          -0.7191551091854427,
          0.23741179508269594,
          0.0411213108540397,
          -1.3411016469009658,
          -0.07301483169518061,
          1.0694034319117063,
          -0.8342345403943898,
          1.0732307001744341,
          0.09047002033015497,
          -0.4274275492620005,
          -0.25468469941866184
         ],
         "yaxis": "y10"
        },
        {
         "histfunc": "count",
         "histnorm": "",
         "marker": {
          "color": "rgba(50, 171, 96, 1.0)",
          "line": {
           "color": "#4D5663",
           "width": 1.3
          }
         },
         "name": "C",
         "nbinsx": 10,
         "opacity": 0.8,
         "orientation": "v",
         "type": "histogram",
         "x": [
          -0.3040854186589564,
          1.246833497470403,
          0.8930332744349196,
          -0.1719769833826304,
          -0.017683220292377715,
          0.31669237929579047,
          -0.6218959492557863,
          -0.6269129935442598,
          0.19184859643366706,
          1.9462481396911848,
          -1.5525098258828618,
          1.5044614241003507,
          -1.4581725713563496,
          -0.46604949416439573,
          -2.081794158048962,
          -0.04704905060754319,
          -0.6398173647204053,
          0.42280114879533737,
          -1.7530911083997947,
          -0.8143784463276719,
          -1.7871130555096635,
          -0.06584680205467948,
          -0.6576131402488188,
          -0.7245546832563872,
          0.3401273325467127,
          -0.7036645001156482,
          0.23007908804272237,
          0.5595903700936222,
          0.43023006512059914,
          -0.5909345039418035,
          -0.11980256556349118,
          -0.23585344704003267,
          -0.4092068031535469,
          0.9639403797034368,
          1.778397175638263,
          -0.4157199437766586,
          -0.05059225644767502,
          -1.3022887292852656,
          1.0240548907171791,
          -1.578548197037887,
          0.963100523842453,
          -0.3323620990665286,
          -0.8394257664741447,
          0.2965461442558922,
          0.28415751823797825,
          2.0593533696442963,
          -0.9573214250266097,
          0.7731414264660283,
          1.1247376924185177,
          0.6369036864943833,
          0.8396757716050604,
          -0.09685834101168504,
          -0.1331324130180998,
          0.6340692022040626,
          2.2722738739439685,
          2.8156200050884808,
          -1.4375097639737682,
          0.43963386094613904,
          0.34989245938767916,
          0.17236073146734213,
          3.6048690674736816,
          -2.4757366133546976,
          0.3677108784245974,
          0.43317821937035783,
          -0.1424762699402981,
          -2.059616987123858,
          -0.6837791278866705,
          1.863874105714213,
          0.1633461125655514,
          -0.2901698461782455,
          0.805130447988138,
          -0.2965263406775229,
          -0.8409954911244629,
          1.0054667330642537,
          -1.1606715992030812,
          -0.5373436329293438,
          -0.038404861154318376,
          0.09517910479058118,
          0.23061754639934867,
          0.3981929834991574,
          0.20780870353272723,
          -0.6329672972727428,
          -2.1512572547641753,
          0.8143665131982654,
          -1.4595961589284234,
          -0.9747027652013951,
          -1.0226442809643932,
          0.6458053015676501,
          -1.1041844941782595,
          -0.7191551091854427,
          0.23741179508269594,
          0.0411213108540397,
          -1.3411016469009658,
          -0.07301483169518061,
          1.0694034319117063,
          -0.8342345403943898,
          1.0732307001744341,
          0.09047002033015497,
          -0.4274275492620005,
          -0.25468469941866184
         ],
         "xaxis": "x11",
         "yaxis": "y11"
        },
        {
         "line": {
          "color": "rgba(128, 128, 128, 1.0)",
          "dash": "solid",
          "shape": "linear",
          "width": 1.3
         },
         "marker": {
          "size": 2,
          "symbol": "circle"
         },
         "mode": "markers",
         "name": "C",
         "text": "",
         "type": "scatter",
         "x": [
          0.1260246403158665,
          0.32596588283693795,
          -0.5686858537639956,
          -0.29718060653250933,
          1.7588381598565028,
          -0.03857764000300759,
          -1.7340974348788103,
          -0.3617793230237885,
          -2.4149684557449693,
          -1.3767462108139694,
          0.5898428886562838,
          -2.001029093747053,
          1.1256350430326616,
          1.5602984938237987,
          -0.389451616530249,
          -0.42489518002010684,
          2.257395516387381,
          0.3895541175008674,
          -0.0995860564994603,
          -1.0738155759067198,
          -1.7565460427541784,
          -0.1947488697970567,
          -0.5170954867757681,
          -1.5922351400315728,
          1.3128419687965667,
          0.2838584127363085,
          -0.19737582311805313,
          -0.6616847059780777,
          -1.0374858261084379,
          -0.1934196149905549,
          -1.2734893249155639,
          0.7676275747572554,
          1.377433712430287,
          -1.2044708504114916,
          0.5476630725558378,
          1.1268461672029098,
          1.081399655461273,
          -0.42529035516232094,
          1.4578252740432511,
          1.143417927391743,
          -1.9194702041788991,
          0.6408794111141025,
          -0.23613137975861856,
          -0.47956577852639665,
          0.5927017766688727,
          -0.61906931926205,
          -1.8371817673343944,
          0.3507980620830861,
          -0.3433720134184708,
          -0.8958108224062418,
          -0.24620337288035526,
          -0.822171481936348,
          1.7923612543940841,
          0.8228387163857979,
          -0.8211298321319879,
          -1.4136999482102726,
          0.12200974430168629,
          -0.6609161749496707,
          0.4646612862370089,
          0.07216544565038985,
          -1.3510467858709554,
          0.2410658037017578,
          -0.4826672428085537,
          -0.01386784323268645,
          -0.8492851245148666,
          0.9147232689502697,
          -0.921236171176619,
          0.1955307605181961,
          -1.4948028372190572,
          1.0718925618030184,
          0.7575381883018008,
          0.4244620446375021,
          -1.4117352311738172,
          -0.5140290100298601,
          0.65195630980734,
          0.5612234594342945,
          -0.2853988343061505,
          1.1746626811524241,
          0.10195169227623516,
          0.3635373689774617,
          -0.0270549928479153,
          2.038571710155747,
          1.2013501890850573,
          0.6583509161560808,
          0.9463583688890771,
          -0.9057901239822289,
          -0.4286175172731991,
          0.8726519946786022,
          0.16012197748081852,
          -0.09732798559242585,
          0.5483794223229277,
          -0.1742602998924234,
          1.2076929024559493,
          -0.5305557408248951,
          -0.3876668590861956,
          -0.0982595642753183,
          -0.41572179650225577,
          -0.12963428890389472,
          0.5387087334310405,
          0.3801413279841494
         ],
         "xaxis": "x12",
         "y": [
          -0.3040854186589564,
          1.246833497470403,
          0.8930332744349196,
          -0.1719769833826304,
          -0.017683220292377715,
          0.31669237929579047,
          -0.6218959492557863,
          -0.6269129935442598,
          0.19184859643366706,
          1.9462481396911848,
          -1.5525098258828618,
          1.5044614241003507,
          -1.4581725713563496,
          -0.46604949416439573,
          -2.081794158048962,
          -0.04704905060754319,
          -0.6398173647204053,
          0.42280114879533737,
          -1.7530911083997947,
          -0.8143784463276719,
          -1.7871130555096635,
          -0.06584680205467948,
          -0.6576131402488188,
          -0.7245546832563872,
          0.3401273325467127,
          -0.7036645001156482,
          0.23007908804272237,
          0.5595903700936222,
          0.43023006512059914,
          -0.5909345039418035,
          -0.11980256556349118,
          -0.23585344704003267,
          -0.4092068031535469,
          0.9639403797034368,
          1.778397175638263,
          -0.4157199437766586,
          -0.05059225644767502,
          -1.3022887292852656,
          1.0240548907171791,
          -1.578548197037887,
          0.963100523842453,
          -0.3323620990665286,
          -0.8394257664741447,
          0.2965461442558922,
          0.28415751823797825,
          2.0593533696442963,
          -0.9573214250266097,
          0.7731414264660283,
          1.1247376924185177,
          0.6369036864943833,
          0.8396757716050604,
          -0.09685834101168504,
          -0.1331324130180998,
          0.6340692022040626,
          2.2722738739439685,
          2.8156200050884808,
          -1.4375097639737682,
          0.43963386094613904,
          0.34989245938767916,
          0.17236073146734213,
          3.6048690674736816,
          -2.4757366133546976,
          0.3677108784245974,
          0.43317821937035783,
          -0.1424762699402981,
          -2.059616987123858,
          -0.6837791278866705,
          1.863874105714213,
          0.1633461125655514,
          -0.2901698461782455,
          0.805130447988138,
          -0.2965263406775229,
          -0.8409954911244629,
          1.0054667330642537,
          -1.1606715992030812,
          -0.5373436329293438,
          -0.038404861154318376,
          0.09517910479058118,
          0.23061754639934867,
          0.3981929834991574,
          0.20780870353272723,
          -0.6329672972727428,
          -2.1512572547641753,
          0.8143665131982654,
          -1.4595961589284234,
          -0.9747027652013951,
          -1.0226442809643932,
          0.6458053015676501,
          -1.1041844941782595,
          -0.7191551091854427,
          0.23741179508269594,
          0.0411213108540397,
          -1.3411016469009658,
          -0.07301483169518061,
          1.0694034319117063,
          -0.8342345403943898,
          1.0732307001744341,
          0.09047002033015497,
          -0.4274275492620005,
          -0.25468469941866184
         ],
         "yaxis": "y12"
        },
        {
         "line": {
          "color": "rgba(128, 128, 128, 1.0)",
          "dash": "solid",
          "shape": "linear",
          "width": 1.3
         },
         "marker": {
          "size": 2,
          "symbol": "circle"
         },
         "mode": "markers",
         "name": "D",
         "text": "",
         "type": "scatter",
         "x": [
          -0.07097867800512375,
          -1.3719871701288424,
          0.86342004660134,
          1.0628352899295697,
          0.0933022867740636,
          -0.7137878844981527,
          -0.04424736160769385,
          -1.1382844977081596,
          -0.43412616991252395,
          -1.0410259717424928,
          0.23195159579039692,
          -0.6709747719262064,
          0.28375108214854444,
          0.44642062016638306,
          0.33749077510556647,
          1.3228882834862572,
          -0.10156574400933181,
          0.21309164182742962,
          -1.31384054668843,
          1.3689896072719263,
          -0.4826525144213033,
          -0.9879604708719997,
          0.5337737625169949,
          0.3660330683489457,
          0.10091494924524841,
          1.3295215027875549,
          1.0842397697189046,
          -0.43490098064163646,
          0.9945355234697241,
          -0.9289309991648871,
          -0.4150407385752576,
          1.4303807860930549,
          0.9492619018801838,
          0.9713131273016196,
          1.9050118261777413,
          -0.5561653118154009,
          0.4216354002702895,
          -0.0685279355771744,
          -0.34465289782777936,
          -0.1005685165144487,
          0.34591206341415504,
          -0.9467048131841311,
          -0.2810337834616072,
          -0.37170962963794224,
          -1.7128944837785425,
          0.1745537425056791,
          1.2594199836438404,
          -0.4651862582872064,
          -0.4175622964078361,
          2.1621390858983074,
          1.5214415758964313,
          -0.3744127180499335,
          0.3774145020910489,
          0.32557034491480097,
          -0.16557735391044087,
          -2.158340396606424,
          2.3875916828463177,
          -0.2662576103961899,
          -0.057513074105692674,
          -2.1462708656507976,
          -1.2951013871340533,
          -1.7164415167802511,
          -1.5747318623706277,
          -0.5879706613606943,
          0.8714187755798224,
          -0.13053462742753416,
          1.306381707198462,
          1.0838599374368527,
          0.028684321753593096,
          -1.8840151600796609,
          0.497224248299635,
          -1.1747019832632168,
          0.7572313304823163,
          1.7040991025657866,
          -1.3491988144469258,
          -0.644619021893386,
          -0.9925949331455116,
          2.136998417436295,
          -2.2738039118297606,
          1.6515150441902364,
          0.4877401890022299,
          -1.3445771318104656,
          -0.9096412072706987,
          0.6147875310806635,
          0.7064336076955912,
          0.045643631679086284,
          -0.5649144823227196,
          0.6669249258649116,
          1.3427947717546123,
          -0.6781531767859905,
          0.28412782801083336,
          1.5134157863017919,
          1.2000832631247744,
          0.021372815115842367,
          -0.8008525215517494,
          0.5328988651188796,
          0.5395358513596765,
          -0.20348386510895866,
          -1.6870342685123632,
          1.0256046209058471
         ],
         "xaxis": "x13",
         "y": [
          0.1260246403158665,
          0.32596588283693795,
          -0.5686858537639956,
          -0.29718060653250933,
          1.7588381598565028,
          -0.03857764000300759,
          -1.7340974348788103,
          -0.3617793230237885,
          -2.4149684557449693,
          -1.3767462108139694,
          0.5898428886562838,
          -2.001029093747053,
          1.1256350430326616,
          1.5602984938237987,
          -0.389451616530249,
          -0.42489518002010684,
          2.257395516387381,
          0.3895541175008674,
          -0.0995860564994603,
          -1.0738155759067198,
          -1.7565460427541784,
          -0.1947488697970567,
          -0.5170954867757681,
          -1.5922351400315728,
          1.3128419687965667,
          0.2838584127363085,
          -0.19737582311805313,
          -0.6616847059780777,
          -1.0374858261084379,
          -0.1934196149905549,
          -1.2734893249155639,
          0.7676275747572554,
          1.377433712430287,
          -1.2044708504114916,
          0.5476630725558378,
          1.1268461672029098,
          1.081399655461273,
          -0.42529035516232094,
          1.4578252740432511,
          1.143417927391743,
          -1.9194702041788991,
          0.6408794111141025,
          -0.23613137975861856,
          -0.47956577852639665,
          0.5927017766688727,
          -0.61906931926205,
          -1.8371817673343944,
          0.3507980620830861,
          -0.3433720134184708,
          -0.8958108224062418,
          -0.24620337288035526,
          -0.822171481936348,
          1.7923612543940841,
          0.8228387163857979,
          -0.8211298321319879,
          -1.4136999482102726,
          0.12200974430168629,
          -0.6609161749496707,
          0.4646612862370089,
          0.07216544565038985,
          -1.3510467858709554,
          0.2410658037017578,
          -0.4826672428085537,
          -0.01386784323268645,
          -0.8492851245148666,
          0.9147232689502697,
          -0.921236171176619,
          0.1955307605181961,
          -1.4948028372190572,
          1.0718925618030184,
          0.7575381883018008,
          0.4244620446375021,
          -1.4117352311738172,
          -0.5140290100298601,
          0.65195630980734,
          0.5612234594342945,
          -0.2853988343061505,
          1.1746626811524241,
          0.10195169227623516,
          0.3635373689774617,
          -0.0270549928479153,
          2.038571710155747,
          1.2013501890850573,
          0.6583509161560808,
          0.9463583688890771,
          -0.9057901239822289,
          -0.4286175172731991,
          0.8726519946786022,
          0.16012197748081852,
          -0.09732798559242585,
          0.5483794223229277,
          -0.1742602998924234,
          1.2076929024559493,
          -0.5305557408248951,
          -0.3876668590861956,
          -0.0982595642753183,
          -0.41572179650225577,
          -0.12963428890389472,
          0.5387087334310405,
          0.3801413279841494
         ],
         "yaxis": "y13"
        },
        {
         "line": {
          "color": "rgba(128, 128, 128, 1.0)",
          "dash": "solid",
          "shape": "linear",
          "width": 1.3
         },
         "marker": {
          "size": 2,
          "symbol": "circle"
         },
         "mode": "markers",
         "name": "D",
         "text": "",
         "type": "scatter",
         "x": [
          -0.48021667999792206,
          -1.767693757615576,
          -0.7965063909894238,
          1.183607368288335,
          -2.584962068987776,
          -0.28004243181952143,
          -0.2810203459936231,
          0.9542463767584113,
          -0.07142538648128002,
          0.6359835841224643,
          1.7647783419739003,
          0.8458013004580175,
          2.2779081520723015,
          -0.6518645469546005,
          -1.4762525578559023,
          0.9591866286892657,
          0.4750133370035477,
          1.4547938162053253,
          -0.5334075850272327,
          0.8637487343722436,
          -0.6519547137630846,
          0.07393140222409583,
          -1.7844213837479546,
          -2.473959891492755,
          -1.7569469517297167,
          -0.9743357578543108,
          -0.12779805121518964,
          -0.048917050863550735,
          0.7415907552751492,
          0.4933191075056928,
          0.006197213316774313,
          -1.36352521294892,
          0.47571696454369283,
          1.3168061304675434,
          -1.049896476600438,
          0.5068001405486657,
          -0.975301654107105,
          -1.2015966506020221,
          -0.3819793865046173,
          0.00701661760325433,
          -0.2712921041825838,
          0.8205559462671078,
          1.1519596143724125,
          -1.930031451502338,
          -1.7124801826316711,
          -0.1994946901539977,
          0.2341981531974387,
          1.450060419010801,
          0.8559452490228944,
          0.27411911688042,
          -0.9824663786634694,
          -1.0068107796983867,
          -0.6497084546642562,
          -0.21039524717106142,
          -0.019639248598312512,
          -1.0646124840975537,
          -0.6878381323251727,
          -0.9854180085472164,
          0.29589682632945175,
          -0.03896419638359273,
          1.1992659846953158,
          -0.8481226344048309,
          -0.37882876695509105,
          0.5569693706553868,
          -0.2842421204673835,
          -1.7616033644117735,
          -0.7367386823328558,
          -1.4790376107220264,
          0.7432634515241014,
          0.9142403304209297,
          -0.6770293776846487,
          0.2851535747365677,
          -0.5318194269029167,
          -0.09014187312394373,
          0.15777322005857639,
          0.9004701150830658,
          1.2896333051549662,
          -0.42686181075878554,
          -0.5186537604974067,
          -0.25467116960784836,
          0.009798863814142113,
          -0.3688762155820952,
          -0.35495141596895113,
          0.18856734776222578,
          -0.3689815555163424,
          0.2021027603155454,
          -0.7694817136696835,
          1.9965314780668186,
          -0.028038417611311813,
          -0.48353780713267547,
          -1.853076960219544,
          -0.1074911041658705,
          -0.08426849763367841,
          -0.10162811938621388,
          1.8018316690014027,
          -0.6742238288918703,
          0.7333315744277983,
          0.013395614856481776,
          -1.8883289458565309,
          0.18280084162989219
         ],
         "xaxis": "x14",
         "y": [
          0.1260246403158665,
          0.32596588283693795,
          -0.5686858537639956,
          -0.29718060653250933,
          1.7588381598565028,
          -0.03857764000300759,
          -1.7340974348788103,
          -0.3617793230237885,
          -2.4149684557449693,
          -1.3767462108139694,
          0.5898428886562838,
          -2.001029093747053,
          1.1256350430326616,
          1.5602984938237987,
          -0.389451616530249,
          -0.42489518002010684,
          2.257395516387381,
          0.3895541175008674,
          -0.0995860564994603,
          -1.0738155759067198,
          -1.7565460427541784,
          -0.1947488697970567,
          -0.5170954867757681,
          -1.5922351400315728,
          1.3128419687965667,
          0.2838584127363085,
          -0.19737582311805313,
          -0.6616847059780777,
          -1.0374858261084379,
          -0.1934196149905549,
          -1.2734893249155639,
          0.7676275747572554,
          1.377433712430287,
          -1.2044708504114916,
          0.5476630725558378,
          1.1268461672029098,
          1.081399655461273,
          -0.42529035516232094,
          1.4578252740432511,
          1.143417927391743,
          -1.9194702041788991,
          0.6408794111141025,
          -0.23613137975861856,
          -0.47956577852639665,
          0.5927017766688727,
          -0.61906931926205,
          -1.8371817673343944,
          0.3507980620830861,
          -0.3433720134184708,
          -0.8958108224062418,
          -0.24620337288035526,
          -0.822171481936348,
          1.7923612543940841,
          0.8228387163857979,
          -0.8211298321319879,
          -1.4136999482102726,
          0.12200974430168629,
          -0.6609161749496707,
          0.4646612862370089,
          0.07216544565038985,
          -1.3510467858709554,
          0.2410658037017578,
          -0.4826672428085537,
          -0.01386784323268645,
          -0.8492851245148666,
          0.9147232689502697,
          -0.921236171176619,
          0.1955307605181961,
          -1.4948028372190572,
          1.0718925618030184,
          0.7575381883018008,
          0.4244620446375021,
          -1.4117352311738172,
          -0.5140290100298601,
          0.65195630980734,
          0.5612234594342945,
          -0.2853988343061505,
          1.1746626811524241,
          0.10195169227623516,
          0.3635373689774617,
          -0.0270549928479153,
          2.038571710155747,
          1.2013501890850573,
          0.6583509161560808,
          0.9463583688890771,
          -0.9057901239822289,
          -0.4286175172731991,
          0.8726519946786022,
          0.16012197748081852,
          -0.09732798559242585,
          0.5483794223229277,
          -0.1742602998924234,
          1.2076929024559493,
          -0.5305557408248951,
          -0.3876668590861956,
          -0.0982595642753183,
          -0.41572179650225577,
          -0.12963428890389472,
          0.5387087334310405,
          0.3801413279841494
         ],
         "yaxis": "y14"
        },
        {
         "line": {
          "color": "rgba(128, 128, 128, 1.0)",
          "dash": "solid",
          "shape": "linear",
          "width": 1.3
         },
         "marker": {
          "size": 2,
          "symbol": "circle"
         },
         "mode": "markers",
         "name": "D",
         "text": "",
         "type": "scatter",
         "x": [
          -0.3040854186589564,
          1.246833497470403,
          0.8930332744349196,
          -0.1719769833826304,
          -0.017683220292377715,
          0.31669237929579047,
          -0.6218959492557863,
          -0.6269129935442598,
          0.19184859643366706,
          1.9462481396911848,
          -1.5525098258828618,
          1.5044614241003507,
          -1.4581725713563496,
          -0.46604949416439573,
          -2.081794158048962,
          -0.04704905060754319,
          -0.6398173647204053,
          0.42280114879533737,
          -1.7530911083997947,
          -0.8143784463276719,
          -1.7871130555096635,
          -0.06584680205467948,
          -0.6576131402488188,
          -0.7245546832563872,
          0.3401273325467127,
          -0.7036645001156482,
          0.23007908804272237,
          0.5595903700936222,
          0.43023006512059914,
          -0.5909345039418035,
          -0.11980256556349118,
          -0.23585344704003267,
          -0.4092068031535469,
          0.9639403797034368,
          1.778397175638263,
          -0.4157199437766586,
          -0.05059225644767502,
          -1.3022887292852656,
          1.0240548907171791,
          -1.578548197037887,
          0.963100523842453,
          -0.3323620990665286,
          -0.8394257664741447,
          0.2965461442558922,
          0.28415751823797825,
          2.0593533696442963,
          -0.9573214250266097,
          0.7731414264660283,
          1.1247376924185177,
          0.6369036864943833,
          0.8396757716050604,
          -0.09685834101168504,
          -0.1331324130180998,
          0.6340692022040626,
          2.2722738739439685,
          2.8156200050884808,
          -1.4375097639737682,
          0.43963386094613904,
          0.34989245938767916,
          0.17236073146734213,
          3.6048690674736816,
          -2.4757366133546976,
          0.3677108784245974,
          0.43317821937035783,
          -0.1424762699402981,
          -2.059616987123858,
          -0.6837791278866705,
          1.863874105714213,
          0.1633461125655514,
          -0.2901698461782455,
          0.805130447988138,
          -0.2965263406775229,
          -0.8409954911244629,
          1.0054667330642537,
          -1.1606715992030812,
          -0.5373436329293438,
          -0.038404861154318376,
          0.09517910479058118,
          0.23061754639934867,
          0.3981929834991574,
          0.20780870353272723,
          -0.6329672972727428,
          -2.1512572547641753,
          0.8143665131982654,
          -1.4595961589284234,
          -0.9747027652013951,
          -1.0226442809643932,
          0.6458053015676501,
          -1.1041844941782595,
          -0.7191551091854427,
          0.23741179508269594,
          0.0411213108540397,
          -1.3411016469009658,
          -0.07301483169518061,
          1.0694034319117063,
          -0.8342345403943898,
          1.0732307001744341,
          0.09047002033015497,
          -0.4274275492620005,
          -0.25468469941866184
         ],
         "xaxis": "x15",
         "y": [
          0.1260246403158665,
          0.32596588283693795,
          -0.5686858537639956,
          -0.29718060653250933,
          1.7588381598565028,
          -0.03857764000300759,
          -1.7340974348788103,
          -0.3617793230237885,
          -2.4149684557449693,
          -1.3767462108139694,
          0.5898428886562838,
          -2.001029093747053,
          1.1256350430326616,
          1.5602984938237987,
          -0.389451616530249,
          -0.42489518002010684,
          2.257395516387381,
          0.3895541175008674,
          -0.0995860564994603,
          -1.0738155759067198,
          -1.7565460427541784,
          -0.1947488697970567,
          -0.5170954867757681,
          -1.5922351400315728,
          1.3128419687965667,
          0.2838584127363085,
          -0.19737582311805313,
          -0.6616847059780777,
          -1.0374858261084379,
          -0.1934196149905549,
          -1.2734893249155639,
          0.7676275747572554,
          1.377433712430287,
          -1.2044708504114916,
          0.5476630725558378,
          1.1268461672029098,
          1.081399655461273,
          -0.42529035516232094,
          1.4578252740432511,
          1.143417927391743,
          -1.9194702041788991,
          0.6408794111141025,
          -0.23613137975861856,
          -0.47956577852639665,
          0.5927017766688727,
          -0.61906931926205,
          -1.8371817673343944,
          0.3507980620830861,
          -0.3433720134184708,
          -0.8958108224062418,
          -0.24620337288035526,
          -0.822171481936348,
          1.7923612543940841,
          0.8228387163857979,
          -0.8211298321319879,
          -1.4136999482102726,
          0.12200974430168629,
          -0.6609161749496707,
          0.4646612862370089,
          0.07216544565038985,
          -1.3510467858709554,
          0.2410658037017578,
          -0.4826672428085537,
          -0.01386784323268645,
          -0.8492851245148666,
          0.9147232689502697,
          -0.921236171176619,
          0.1955307605181961,
          -1.4948028372190572,
          1.0718925618030184,
          0.7575381883018008,
          0.4244620446375021,
          -1.4117352311738172,
          -0.5140290100298601,
          0.65195630980734,
          0.5612234594342945,
          -0.2853988343061505,
          1.1746626811524241,
          0.10195169227623516,
          0.3635373689774617,
          -0.0270549928479153,
          2.038571710155747,
          1.2013501890850573,
          0.6583509161560808,
          0.9463583688890771,
          -0.9057901239822289,
          -0.4286175172731991,
          0.8726519946786022,
          0.16012197748081852,
          -0.09732798559242585,
          0.5483794223229277,
          -0.1742602998924234,
          1.2076929024559493,
          -0.5305557408248951,
          -0.3876668590861956,
          -0.0982595642753183,
          -0.41572179650225577,
          -0.12963428890389472,
          0.5387087334310405,
          0.3801413279841494
         ],
         "yaxis": "y15"
        },
        {
         "histfunc": "count",
         "histnorm": "",
         "marker": {
          "color": "rgba(128, 0, 128, 1.0)",
          "line": {
           "color": "#4D5663",
           "width": 1.3
          }
         },
         "name": "D",
         "nbinsx": 10,
         "opacity": 0.8,
         "orientation": "v",
         "type": "histogram",
         "x": [
          0.1260246403158665,
          0.32596588283693795,
          -0.5686858537639956,
          -0.29718060653250933,
          1.7588381598565028,
          -0.03857764000300759,
          -1.7340974348788103,
          -0.3617793230237885,
          -2.4149684557449693,
          -1.3767462108139694,
          0.5898428886562838,
          -2.001029093747053,
          1.1256350430326616,
          1.5602984938237987,
          -0.389451616530249,
          -0.42489518002010684,
          2.257395516387381,
          0.3895541175008674,
          -0.0995860564994603,
          -1.0738155759067198,
          -1.7565460427541784,
          -0.1947488697970567,
          -0.5170954867757681,
          -1.5922351400315728,
          1.3128419687965667,
          0.2838584127363085,
          -0.19737582311805313,
          -0.6616847059780777,
          -1.0374858261084379,
          -0.1934196149905549,
          -1.2734893249155639,
          0.7676275747572554,
          1.377433712430287,
          -1.2044708504114916,
          0.5476630725558378,
          1.1268461672029098,
          1.081399655461273,
          -0.42529035516232094,
          1.4578252740432511,
          1.143417927391743,
          -1.9194702041788991,
          0.6408794111141025,
          -0.23613137975861856,
          -0.47956577852639665,
          0.5927017766688727,
          -0.61906931926205,
          -1.8371817673343944,
          0.3507980620830861,
          -0.3433720134184708,
          -0.8958108224062418,
          -0.24620337288035526,
          -0.822171481936348,
          1.7923612543940841,
          0.8228387163857979,
          -0.8211298321319879,
          -1.4136999482102726,
          0.12200974430168629,
          -0.6609161749496707,
          0.4646612862370089,
          0.07216544565038985,
          -1.3510467858709554,
          0.2410658037017578,
          -0.4826672428085537,
          -0.01386784323268645,
          -0.8492851245148666,
          0.9147232689502697,
          -0.921236171176619,
          0.1955307605181961,
          -1.4948028372190572,
          1.0718925618030184,
          0.7575381883018008,
          0.4244620446375021,
          -1.4117352311738172,
          -0.5140290100298601,
          0.65195630980734,
          0.5612234594342945,
          -0.2853988343061505,
          1.1746626811524241,
          0.10195169227623516,
          0.3635373689774617,
          -0.0270549928479153,
          2.038571710155747,
          1.2013501890850573,
          0.6583509161560808,
          0.9463583688890771,
          -0.9057901239822289,
          -0.4286175172731991,
          0.8726519946786022,
          0.16012197748081852,
          -0.09732798559242585,
          0.5483794223229277,
          -0.1742602998924234,
          1.2076929024559493,
          -0.5305557408248951,
          -0.3876668590861956,
          -0.0982595642753183,
          -0.41572179650225577,
          -0.12963428890389472,
          0.5387087334310405,
          0.3801413279841494
         ],
         "xaxis": "x16",
         "yaxis": "y16"
        }
       ],
       "layout": {
        "bargap": 0.02,
        "legend": {
         "bgcolor": "#F5F6F9",
         "font": {
          "color": "#4D5663"
         }
        },
        "paper_bgcolor": "#F5F6F9",
        "plot_bgcolor": "#F5F6F9",
        "showlegend": false,
        "template": {
         "data": {
          "bar": [
           {
            "error_x": {
             "color": "#2a3f5f"
            },
            "error_y": {
             "color": "#2a3f5f"
            },
            "marker": {
             "line": {
              "color": "#E5ECF6",
              "width": 0.5
             },
             "pattern": {
              "fillmode": "overlay",
              "size": 10,
              "solidity": 0.2
             }
            },
            "type": "bar"
           }
          ],
          "barpolar": [
           {
            "marker": {
             "line": {
              "color": "#E5ECF6",
              "width": 0.5
             },
             "pattern": {
              "fillmode": "overlay",
              "size": 10,
              "solidity": 0.2
             }
            },
            "type": "barpolar"
           }
          ],
          "carpet": [
           {
            "aaxis": {
             "endlinecolor": "#2a3f5f",
             "gridcolor": "white",
             "linecolor": "white",
             "minorgridcolor": "white",
             "startlinecolor": "#2a3f5f"
            },
            "baxis": {
             "endlinecolor": "#2a3f5f",
             "gridcolor": "white",
             "linecolor": "white",
             "minorgridcolor": "white",
             "startlinecolor": "#2a3f5f"
            },
            "type": "carpet"
           }
          ],
          "choropleth": [
           {
            "colorbar": {
             "outlinewidth": 0,
             "ticks": ""
            },
            "type": "choropleth"
           }
          ],
          "contour": [
           {
            "colorbar": {
             "outlinewidth": 0,
             "ticks": ""
            },
            "colorscale": [
             [
              0,
              "#0d0887"
             ],
             [
              0.1111111111111111,
              "#46039f"
             ],
             [
              0.2222222222222222,
              "#7201a8"
             ],
             [
              0.3333333333333333,
              "#9c179e"
             ],
             [
              0.4444444444444444,
              "#bd3786"
             ],
             [
              0.5555555555555556,
              "#d8576b"
             ],
             [
              0.6666666666666666,
              "#ed7953"
             ],
             [
              0.7777777777777778,
              "#fb9f3a"
             ],
             [
              0.8888888888888888,
              "#fdca26"
             ],
             [
              1,
              "#f0f921"
             ]
            ],
            "type": "contour"
           }
          ],
          "contourcarpet": [
           {
            "colorbar": {
             "outlinewidth": 0,
             "ticks": ""
            },
            "type": "contourcarpet"
           }
          ],
          "heatmap": [
           {
            "colorbar": {
             "outlinewidth": 0,
             "ticks": ""
            },
            "colorscale": [
             [
              0,
              "#0d0887"
             ],
             [
              0.1111111111111111,
              "#46039f"
             ],
             [
              0.2222222222222222,
              "#7201a8"
             ],
             [
              0.3333333333333333,
              "#9c179e"
             ],
             [
              0.4444444444444444,
              "#bd3786"
             ],
             [
              0.5555555555555556,
              "#d8576b"
             ],
             [
              0.6666666666666666,
              "#ed7953"
             ],
             [
              0.7777777777777778,
              "#fb9f3a"
             ],
             [
              0.8888888888888888,
              "#fdca26"
             ],
             [
              1,
              "#f0f921"
             ]
            ],
            "type": "heatmap"
           }
          ],
          "heatmapgl": [
           {
            "colorbar": {
             "outlinewidth": 0,
             "ticks": ""
            },
            "colorscale": [
             [
              0,
              "#0d0887"
             ],
             [
              0.1111111111111111,
              "#46039f"
             ],
             [
              0.2222222222222222,
              "#7201a8"
             ],
             [
              0.3333333333333333,
              "#9c179e"
             ],
             [
              0.4444444444444444,
              "#bd3786"
             ],
             [
              0.5555555555555556,
              "#d8576b"
             ],
             [
              0.6666666666666666,
              "#ed7953"
             ],
             [
              0.7777777777777778,
              "#fb9f3a"
             ],
             [
              0.8888888888888888,
              "#fdca26"
             ],
             [
              1,
              "#f0f921"
             ]
            ],
            "type": "heatmapgl"
           }
          ],
          "histogram": [
           {
            "marker": {
             "pattern": {
              "fillmode": "overlay",
              "size": 10,
              "solidity": 0.2
             }
            },
            "type": "histogram"
           }
          ],
          "histogram2d": [
           {
            "colorbar": {
             "outlinewidth": 0,
             "ticks": ""
            },
            "colorscale": [
             [
              0,
              "#0d0887"
             ],
             [
              0.1111111111111111,
              "#46039f"
             ],
             [
              0.2222222222222222,
              "#7201a8"
             ],
             [
              0.3333333333333333,
              "#9c179e"
             ],
             [
              0.4444444444444444,
              "#bd3786"
             ],
             [
              0.5555555555555556,
              "#d8576b"
             ],
             [
              0.6666666666666666,
              "#ed7953"
             ],
             [
              0.7777777777777778,
              "#fb9f3a"
             ],
             [
              0.8888888888888888,
              "#fdca26"
             ],
             [
              1,
              "#f0f921"
             ]
            ],
            "type": "histogram2d"
           }
          ],
          "histogram2dcontour": [
           {
            "colorbar": {
             "outlinewidth": 0,
             "ticks": ""
            },
            "colorscale": [
             [
              0,
              "#0d0887"
             ],
             [
              0.1111111111111111,
              "#46039f"
             ],
             [
              0.2222222222222222,
              "#7201a8"
             ],
             [
              0.3333333333333333,
              "#9c179e"
             ],
             [
              0.4444444444444444,
              "#bd3786"
             ],
             [
              0.5555555555555556,
              "#d8576b"
             ],
             [
              0.6666666666666666,
              "#ed7953"
             ],
             [
              0.7777777777777778,
              "#fb9f3a"
             ],
             [
              0.8888888888888888,
              "#fdca26"
             ],
             [
              1,
              "#f0f921"
             ]
            ],
            "type": "histogram2dcontour"
           }
          ],
          "mesh3d": [
           {
            "colorbar": {
             "outlinewidth": 0,
             "ticks": ""
            },
            "type": "mesh3d"
           }
          ],
          "parcoords": [
           {
            "line": {
             "colorbar": {
              "outlinewidth": 0,
              "ticks": ""
             }
            },
            "type": "parcoords"
           }
          ],
          "pie": [
           {
            "automargin": true,
            "type": "pie"
           }
          ],
          "scatter": [
           {
            "fillpattern": {
             "fillmode": "overlay",
             "size": 10,
             "solidity": 0.2
            },
            "type": "scatter"
           }
          ],
          "scatter3d": [
           {
            "line": {
             "colorbar": {
              "outlinewidth": 0,
              "ticks": ""
             }
            },
            "marker": {
             "colorbar": {
              "outlinewidth": 0,
              "ticks": ""
             }
            },
            "type": "scatter3d"
           }
          ],
          "scattercarpet": [
           {
            "marker": {
             "colorbar": {
              "outlinewidth": 0,
              "ticks": ""
             }
            },
            "type": "scattercarpet"
           }
          ],
          "scattergeo": [
           {
            "marker": {
             "colorbar": {
              "outlinewidth": 0,
              "ticks": ""
             }
            },
            "type": "scattergeo"
           }
          ],
          "scattergl": [
           {
            "marker": {
             "colorbar": {
              "outlinewidth": 0,
              "ticks": ""
             }
            },
            "type": "scattergl"
           }
          ],
          "scattermapbox": [
           {
            "marker": {
             "colorbar": {
              "outlinewidth": 0,
              "ticks": ""
             }
            },
            "type": "scattermapbox"
           }
          ],
          "scatterpolar": [
           {
            "marker": {
             "colorbar": {
              "outlinewidth": 0,
              "ticks": ""
             }
            },
            "type": "scatterpolar"
           }
          ],
          "scatterpolargl": [
           {
            "marker": {
             "colorbar": {
              "outlinewidth": 0,
              "ticks": ""
             }
            },
            "type": "scatterpolargl"
           }
          ],
          "scatterternary": [
           {
            "marker": {
             "colorbar": {
              "outlinewidth": 0,
              "ticks": ""
             }
            },
            "type": "scatterternary"
           }
          ],
          "surface": [
           {
            "colorbar": {
             "outlinewidth": 0,
             "ticks": ""
            },
            "colorscale": [
             [
              0,
              "#0d0887"
             ],
             [
              0.1111111111111111,
              "#46039f"
             ],
             [
              0.2222222222222222,
              "#7201a8"
             ],
             [
              0.3333333333333333,
              "#9c179e"
             ],
             [
              0.4444444444444444,
              "#bd3786"
             ],
             [
              0.5555555555555556,
              "#d8576b"
             ],
             [
              0.6666666666666666,
              "#ed7953"
             ],
             [
              0.7777777777777778,
              "#fb9f3a"
             ],
             [
              0.8888888888888888,
              "#fdca26"
             ],
             [
              1,
              "#f0f921"
             ]
            ],
            "type": "surface"
           }
          ],
          "table": [
           {
            "cells": {
             "fill": {
              "color": "#EBF0F8"
             },
             "line": {
              "color": "white"
             }
            },
            "header": {
             "fill": {
              "color": "#C8D4E3"
             },
             "line": {
              "color": "white"
             }
            },
            "type": "table"
           }
          ]
         },
         "layout": {
          "annotationdefaults": {
           "arrowcolor": "#2a3f5f",
           "arrowhead": 0,
           "arrowwidth": 1
          },
          "autotypenumbers": "strict",
          "coloraxis": {
           "colorbar": {
            "outlinewidth": 0,
            "ticks": ""
           }
          },
          "colorscale": {
           "diverging": [
            [
             0,
             "#8e0152"
            ],
            [
             0.1,
             "#c51b7d"
            ],
            [
             0.2,
             "#de77ae"
            ],
            [
             0.3,
             "#f1b6da"
            ],
            [
             0.4,
             "#fde0ef"
            ],
            [
             0.5,
             "#f7f7f7"
            ],
            [
             0.6,
             "#e6f5d0"
            ],
            [
             0.7,
             "#b8e186"
            ],
            [
             0.8,
             "#7fbc41"
            ],
            [
             0.9,
             "#4d9221"
            ],
            [
             1,
             "#276419"
            ]
           ],
           "sequential": [
            [
             0,
             "#0d0887"
            ],
            [
             0.1111111111111111,
             "#46039f"
            ],
            [
             0.2222222222222222,
             "#7201a8"
            ],
            [
             0.3333333333333333,
             "#9c179e"
            ],
            [
             0.4444444444444444,
             "#bd3786"
            ],
            [
             0.5555555555555556,
             "#d8576b"
            ],
            [
             0.6666666666666666,
             "#ed7953"
            ],
            [
             0.7777777777777778,
             "#fb9f3a"
            ],
            [
             0.8888888888888888,
             "#fdca26"
            ],
            [
             1,
             "#f0f921"
            ]
           ],
           "sequentialminus": [
            [
             0,
             "#0d0887"
            ],
            [
             0.1111111111111111,
             "#46039f"
            ],
            [
             0.2222222222222222,
             "#7201a8"
            ],
            [
             0.3333333333333333,
             "#9c179e"
            ],
            [
             0.4444444444444444,
             "#bd3786"
            ],
            [
             0.5555555555555556,
             "#d8576b"
            ],
            [
             0.6666666666666666,
             "#ed7953"
            ],
            [
             0.7777777777777778,
             "#fb9f3a"
            ],
            [
             0.8888888888888888,
             "#fdca26"
            ],
            [
             1,
             "#f0f921"
            ]
           ]
          },
          "colorway": [
           "#636efa",
           "#EF553B",
           "#00cc96",
           "#ab63fa",
           "#FFA15A",
           "#19d3f3",
           "#FF6692",
           "#B6E880",
           "#FF97FF",
           "#FECB52"
          ],
          "font": {
           "color": "#2a3f5f"
          },
          "geo": {
           "bgcolor": "white",
           "lakecolor": "white",
           "landcolor": "#E5ECF6",
           "showlakes": true,
           "showland": true,
           "subunitcolor": "white"
          },
          "hoverlabel": {
           "align": "left"
          },
          "hovermode": "closest",
          "mapbox": {
           "style": "light"
          },
          "paper_bgcolor": "white",
          "plot_bgcolor": "#E5ECF6",
          "polar": {
           "angularaxis": {
            "gridcolor": "white",
            "linecolor": "white",
            "ticks": ""
           },
           "bgcolor": "#E5ECF6",
           "radialaxis": {
            "gridcolor": "white",
            "linecolor": "white",
            "ticks": ""
           }
          },
          "scene": {
           "xaxis": {
            "backgroundcolor": "#E5ECF6",
            "gridcolor": "white",
            "gridwidth": 2,
            "linecolor": "white",
            "showbackground": true,
            "ticks": "",
            "zerolinecolor": "white"
           },
           "yaxis": {
            "backgroundcolor": "#E5ECF6",
            "gridcolor": "white",
            "gridwidth": 2,
            "linecolor": "white",
            "showbackground": true,
            "ticks": "",
            "zerolinecolor": "white"
           },
           "zaxis": {
            "backgroundcolor": "#E5ECF6",
            "gridcolor": "white",
            "gridwidth": 2,
            "linecolor": "white",
            "showbackground": true,
            "ticks": "",
            "zerolinecolor": "white"
           }
          },
          "shapedefaults": {
           "line": {
            "color": "#2a3f5f"
           }
          },
          "ternary": {
           "aaxis": {
            "gridcolor": "white",
            "linecolor": "white",
            "ticks": ""
           },
           "baxis": {
            "gridcolor": "white",
            "linecolor": "white",
            "ticks": ""
           },
           "bgcolor": "#E5ECF6",
           "caxis": {
            "gridcolor": "white",
            "linecolor": "white",
            "ticks": ""
           }
          },
          "title": {
           "x": 0.05
          },
          "xaxis": {
           "automargin": true,
           "gridcolor": "white",
           "linecolor": "white",
           "ticks": "",
           "title": {
            "standoff": 15
           },
           "zerolinecolor": "white",
           "zerolinewidth": 2
          },
          "yaxis": {
           "automargin": true,
           "gridcolor": "white",
           "linecolor": "white",
           "ticks": "",
           "title": {
            "standoff": 15
           },
           "zerolinecolor": "white",
           "zerolinewidth": 2
          }
         }
        },
        "title": {
         "font": {
          "color": "#4D5663"
         }
        },
        "xaxis": {
         "anchor": "y",
         "domain": [
          0,
          0.2125
         ],
         "gridcolor": "#E1E5ED",
         "showgrid": false,
         "tickfont": {
          "color": "#4D5663"
         },
         "title": {
          "font": {
           "color": "#4D5663"
          },
          "text": ""
         },
         "zerolinecolor": "#E1E5ED"
        },
        "xaxis10": {
         "anchor": "y10",
         "domain": [
          0.2625,
          0.475
         ],
         "gridcolor": "#E1E5ED",
         "showgrid": false,
         "tickfont": {
          "color": "#4D5663"
         },
         "title": {
          "font": {
           "color": "#4D5663"
          },
          "text": ""
         },
         "zerolinecolor": "#E1E5ED"
        },
        "xaxis11": {
         "anchor": "y11",
         "domain": [
          0.525,
          0.7375
         ],
         "gridcolor": "#E1E5ED",
         "showgrid": false,
         "tickfont": {
          "color": "#4D5663"
         },
         "title": {
          "font": {
           "color": "#4D5663"
          },
          "text": ""
         },
         "zerolinecolor": "#E1E5ED"
        },
        "xaxis12": {
         "anchor": "y12",
         "domain": [
          0.7875,
          1
         ],
         "gridcolor": "#E1E5ED",
         "showgrid": false,
         "tickfont": {
          "color": "#4D5663"
         },
         "title": {
          "font": {
           "color": "#4D5663"
          },
          "text": ""
         },
         "zerolinecolor": "#E1E5ED"
        },
        "xaxis13": {
         "anchor": "y13",
         "domain": [
          0,
          0.2125
         ],
         "gridcolor": "#E1E5ED",
         "showgrid": false,
         "tickfont": {
          "color": "#4D5663"
         },
         "title": {
          "font": {
           "color": "#4D5663"
          },
          "text": ""
         },
         "zerolinecolor": "#E1E5ED"
        },
        "xaxis14": {
         "anchor": "y14",
         "domain": [
          0.2625,
          0.475
         ],
         "gridcolor": "#E1E5ED",
         "showgrid": false,
         "tickfont": {
          "color": "#4D5663"
         },
         "title": {
          "font": {
           "color": "#4D5663"
          },
          "text": ""
         },
         "zerolinecolor": "#E1E5ED"
        },
        "xaxis15": {
         "anchor": "y15",
         "domain": [
          0.525,
          0.7375
         ],
         "gridcolor": "#E1E5ED",
         "showgrid": false,
         "tickfont": {
          "color": "#4D5663"
         },
         "title": {
          "font": {
           "color": "#4D5663"
          },
          "text": ""
         },
         "zerolinecolor": "#E1E5ED"
        },
        "xaxis16": {
         "anchor": "y16",
         "domain": [
          0.7875,
          1
         ],
         "gridcolor": "#E1E5ED",
         "showgrid": false,
         "tickfont": {
          "color": "#4D5663"
         },
         "title": {
          "font": {
           "color": "#4D5663"
          },
          "text": ""
         },
         "zerolinecolor": "#E1E5ED"
        },
        "xaxis2": {
         "anchor": "y2",
         "domain": [
          0.2625,
          0.475
         ],
         "gridcolor": "#E1E5ED",
         "showgrid": false,
         "tickfont": {
          "color": "#4D5663"
         },
         "title": {
          "font": {
           "color": "#4D5663"
          },
          "text": ""
         },
         "zerolinecolor": "#E1E5ED"
        },
        "xaxis3": {
         "anchor": "y3",
         "domain": [
          0.525,
          0.7375
         ],
         "gridcolor": "#E1E5ED",
         "showgrid": false,
         "tickfont": {
          "color": "#4D5663"
         },
         "title": {
          "font": {
           "color": "#4D5663"
          },
          "text": ""
         },
         "zerolinecolor": "#E1E5ED"
        },
        "xaxis4": {
         "anchor": "y4",
         "domain": [
          0.7875,
          1
         ],
         "gridcolor": "#E1E5ED",
         "showgrid": false,
         "tickfont": {
          "color": "#4D5663"
         },
         "title": {
          "font": {
           "color": "#4D5663"
          },
          "text": ""
         },
         "zerolinecolor": "#E1E5ED"
        },
        "xaxis5": {
         "anchor": "y5",
         "domain": [
          0,
          0.2125
         ],
         "gridcolor": "#E1E5ED",
         "showgrid": false,
         "tickfont": {
          "color": "#4D5663"
         },
         "title": {
          "font": {
           "color": "#4D5663"
          },
          "text": ""
         },
         "zerolinecolor": "#E1E5ED"
        },
        "xaxis6": {
         "anchor": "y6",
         "domain": [
          0.2625,
          0.475
         ],
         "gridcolor": "#E1E5ED",
         "showgrid": false,
         "tickfont": {
          "color": "#4D5663"
         },
         "title": {
          "font": {
           "color": "#4D5663"
          },
          "text": ""
         },
         "zerolinecolor": "#E1E5ED"
        },
        "xaxis7": {
         "anchor": "y7",
         "domain": [
          0.525,
          0.7375
         ],
         "gridcolor": "#E1E5ED",
         "showgrid": false,
         "tickfont": {
          "color": "#4D5663"
         },
         "title": {
          "font": {
           "color": "#4D5663"
          },
          "text": ""
         },
         "zerolinecolor": "#E1E5ED"
        },
        "xaxis8": {
         "anchor": "y8",
         "domain": [
          0.7875,
          1
         ],
         "gridcolor": "#E1E5ED",
         "showgrid": false,
         "tickfont": {
          "color": "#4D5663"
         },
         "title": {
          "font": {
           "color": "#4D5663"
          },
          "text": ""
         },
         "zerolinecolor": "#E1E5ED"
        },
        "xaxis9": {
         "anchor": "y9",
         "domain": [
          0,
          0.2125
         ],
         "gridcolor": "#E1E5ED",
         "showgrid": false,
         "tickfont": {
          "color": "#4D5663"
         },
         "title": {
          "font": {
           "color": "#4D5663"
          },
          "text": ""
         },
         "zerolinecolor": "#E1E5ED"
        },
        "yaxis": {
         "anchor": "x",
         "domain": [
          0.8025,
          1
         ],
         "gridcolor": "#E1E5ED",
         "showgrid": false,
         "tickfont": {
          "color": "#4D5663"
         },
         "title": {
          "font": {
           "color": "#4D5663"
          },
          "text": ""
         },
         "zerolinecolor": "#E1E5ED"
        },
        "yaxis10": {
         "anchor": "x10",
         "domain": [
          0.2675,
          0.465
         ],
         "gridcolor": "#E1E5ED",
         "showgrid": false,
         "tickfont": {
          "color": "#4D5663"
         },
         "title": {
          "font": {
           "color": "#4D5663"
          },
          "text": ""
         },
         "zerolinecolor": "#E1E5ED"
        },
        "yaxis11": {
         "anchor": "x11",
         "domain": [
          0.2675,
          0.465
         ],
         "gridcolor": "#E1E5ED",
         "showgrid": false,
         "tickfont": {
          "color": "#4D5663"
         },
         "title": {
          "font": {
           "color": "#4D5663"
          },
          "text": ""
         },
         "zerolinecolor": "#E1E5ED"
        },
        "yaxis12": {
         "anchor": "x12",
         "domain": [
          0.2675,
          0.465
         ],
         "gridcolor": "#E1E5ED",
         "showgrid": false,
         "tickfont": {
          "color": "#4D5663"
         },
         "title": {
          "font": {
           "color": "#4D5663"
          },
          "text": ""
         },
         "zerolinecolor": "#E1E5ED"
        },
        "yaxis13": {
         "anchor": "x13",
         "domain": [
          0,
          0.1975
         ],
         "gridcolor": "#E1E5ED",
         "showgrid": false,
         "tickfont": {
          "color": "#4D5663"
         },
         "title": {
          "font": {
           "color": "#4D5663"
          },
          "text": ""
         },
         "zerolinecolor": "#E1E5ED"
        },
        "yaxis14": {
         "anchor": "x14",
         "domain": [
          0,
          0.1975
         ],
         "gridcolor": "#E1E5ED",
         "showgrid": false,
         "tickfont": {
          "color": "#4D5663"
         },
         "title": {
          "font": {
           "color": "#4D5663"
          },
          "text": ""
         },
         "zerolinecolor": "#E1E5ED"
        },
        "yaxis15": {
         "anchor": "x15",
         "domain": [
          0,
          0.1975
         ],
         "gridcolor": "#E1E5ED",
         "showgrid": false,
         "tickfont": {
          "color": "#4D5663"
         },
         "title": {
          "font": {
           "color": "#4D5663"
          },
          "text": ""
         },
         "zerolinecolor": "#E1E5ED"
        },
        "yaxis16": {
         "anchor": "x16",
         "domain": [
          0,
          0.1975
         ],
         "gridcolor": "#E1E5ED",
         "showgrid": false,
         "tickfont": {
          "color": "#4D5663"
         },
         "title": {
          "font": {
           "color": "#4D5663"
          },
          "text": ""
         },
         "zerolinecolor": "#E1E5ED"
        },
        "yaxis2": {
         "anchor": "x2",
         "domain": [
          0.8025,
          1
         ],
         "gridcolor": "#E1E5ED",
         "showgrid": false,
         "tickfont": {
          "color": "#4D5663"
         },
         "title": {
          "font": {
           "color": "#4D5663"
          },
          "text": ""
         },
         "zerolinecolor": "#E1E5ED"
        },
        "yaxis3": {
         "anchor": "x3",
         "domain": [
          0.8025,
          1
         ],
         "gridcolor": "#E1E5ED",
         "showgrid": false,
         "tickfont": {
          "color": "#4D5663"
         },
         "title": {
          "font": {
           "color": "#4D5663"
          },
          "text": ""
         },
         "zerolinecolor": "#E1E5ED"
        },
        "yaxis4": {
         "anchor": "x4",
         "domain": [
          0.8025,
          1
         ],
         "gridcolor": "#E1E5ED",
         "showgrid": false,
         "tickfont": {
          "color": "#4D5663"
         },
         "title": {
          "font": {
           "color": "#4D5663"
          },
          "text": ""
         },
         "zerolinecolor": "#E1E5ED"
        },
        "yaxis5": {
         "anchor": "x5",
         "domain": [
          0.535,
          0.7325
         ],
         "gridcolor": "#E1E5ED",
         "showgrid": false,
         "tickfont": {
          "color": "#4D5663"
         },
         "title": {
          "font": {
           "color": "#4D5663"
          },
          "text": ""
         },
         "zerolinecolor": "#E1E5ED"
        },
        "yaxis6": {
         "anchor": "x6",
         "domain": [
          0.535,
          0.7325
         ],
         "gridcolor": "#E1E5ED",
         "showgrid": false,
         "tickfont": {
          "color": "#4D5663"
         },
         "title": {
          "font": {
           "color": "#4D5663"
          },
          "text": ""
         },
         "zerolinecolor": "#E1E5ED"
        },
        "yaxis7": {
         "anchor": "x7",
         "domain": [
          0.535,
          0.7325
         ],
         "gridcolor": "#E1E5ED",
         "showgrid": false,
         "tickfont": {
          "color": "#4D5663"
         },
         "title": {
          "font": {
           "color": "#4D5663"
          },
          "text": ""
         },
         "zerolinecolor": "#E1E5ED"
        },
        "yaxis8": {
         "anchor": "x8",
         "domain": [
          0.535,
          0.7325
         ],
         "gridcolor": "#E1E5ED",
         "showgrid": false,
         "tickfont": {
          "color": "#4D5663"
         },
         "title": {
          "font": {
           "color": "#4D5663"
          },
          "text": ""
         },
         "zerolinecolor": "#E1E5ED"
        },
        "yaxis9": {
         "anchor": "x9",
         "domain": [
          0.2675,
          0.465
         ],
         "gridcolor": "#E1E5ED",
         "showgrid": false,
         "tickfont": {
          "color": "#4D5663"
         },
         "title": {
          "font": {
           "color": "#4D5663"
          },
          "text": ""
         },
         "zerolinecolor": "#E1E5ED"
        }
       }
      },
      "text/html": [
       "<div>                            <div id=\"62329a8f-82f9-4e7a-a0bd-5b9b32246d11\" class=\"plotly-graph-div\" style=\"height:525px; width:100%;\"></div>            <script type=\"text/javascript\">                require([\"plotly\"], function(Plotly) {                    window.PLOTLYENV=window.PLOTLYENV || {};\n",
       "                    window.PLOTLYENV.BASE_URL='https://plot.ly';                                    if (document.getElementById(\"62329a8f-82f9-4e7a-a0bd-5b9b32246d11\")) {                    Plotly.newPlot(                        \"62329a8f-82f9-4e7a-a0bd-5b9b32246d11\",                        [{\"histfunc\":\"count\",\"histnorm\":\"\",\"marker\":{\"color\":\"rgba(255, 153, 51, 1.0)\",\"line\":{\"color\":\"#4D5663\",\"width\":1.3}},\"name\":\"A\",\"nbinsx\":10,\"opacity\":0.8,\"orientation\":\"v\",\"x\":[-0.07097867800512375,-1.3719871701288424,0.86342004660134,1.0628352899295697,0.0933022867740636,-0.7137878844981527,-0.04424736160769385,-1.1382844977081596,-0.43412616991252395,-1.0410259717424928,0.23195159579039692,-0.6709747719262064,0.28375108214854444,0.44642062016638306,0.33749077510556647,1.3228882834862572,-0.10156574400933181,0.21309164182742962,-1.31384054668843,1.3689896072719263,-0.4826525144213033,-0.9879604708719997,0.5337737625169949,0.3660330683489457,0.10091494924524841,1.3295215027875549,1.0842397697189046,-0.43490098064163646,0.9945355234697241,-0.9289309991648871,-0.4150407385752576,1.4303807860930549,0.9492619018801838,0.9713131273016196,1.9050118261777413,-0.5561653118154009,0.4216354002702895,-0.0685279355771744,-0.34465289782777936,-0.1005685165144487,0.34591206341415504,-0.9467048131841311,-0.2810337834616072,-0.37170962963794224,-1.7128944837785425,0.1745537425056791,1.2594199836438404,-0.4651862582872064,-0.4175622964078361,2.1621390858983074,1.5214415758964313,-0.3744127180499335,0.3774145020910489,0.32557034491480097,-0.16557735391044087,-2.158340396606424,2.3875916828463177,-0.2662576103961899,-0.057513074105692674,-2.1462708656507976,-1.2951013871340533,-1.7164415167802511,-1.5747318623706277,-0.5879706613606943,0.8714187755798224,-0.13053462742753416,1.306381707198462,1.0838599374368527,0.028684321753593096,-1.8840151600796609,0.497224248299635,-1.1747019832632168,0.7572313304823163,1.7040991025657866,-1.3491988144469258,-0.644619021893386,-0.9925949331455116,2.136998417436295,-2.2738039118297606,1.6515150441902364,0.4877401890022299,-1.3445771318104656,-0.9096412072706987,0.6147875310806635,0.7064336076955912,0.045643631679086284,-0.5649144823227196,0.6669249258649116,1.3427947717546123,-0.6781531767859905,0.28412782801083336,1.5134157863017919,1.2000832631247744,0.021372815115842367,-0.8008525215517494,0.5328988651188796,0.5395358513596765,-0.20348386510895866,-1.6870342685123632,1.0256046209058471],\"xaxis\":\"x\",\"yaxis\":\"y\",\"type\":\"histogram\"},{\"line\":{\"color\":\"rgba(128, 128, 128, 1.0)\",\"dash\":\"solid\",\"shape\":\"linear\",\"width\":1.3},\"marker\":{\"size\":2,\"symbol\":\"circle\"},\"mode\":\"markers\",\"name\":\"A\",\"text\":\"\",\"x\":[-0.48021667999792206,-1.767693757615576,-0.7965063909894238,1.183607368288335,-2.584962068987776,-0.28004243181952143,-0.2810203459936231,0.9542463767584113,-0.07142538648128002,0.6359835841224643,1.7647783419739003,0.8458013004580175,2.2779081520723015,-0.6518645469546005,-1.4762525578559023,0.9591866286892657,0.4750133370035477,1.4547938162053253,-0.5334075850272327,0.8637487343722436,-0.6519547137630846,0.07393140222409583,-1.7844213837479546,-2.473959891492755,-1.7569469517297167,-0.9743357578543108,-0.12779805121518964,-0.048917050863550735,0.7415907552751492,0.4933191075056928,0.006197213316774313,-1.36352521294892,0.47571696454369283,1.3168061304675434,-1.049896476600438,0.5068001405486657,-0.975301654107105,-1.2015966506020221,-0.3819793865046173,0.00701661760325433,-0.2712921041825838,0.8205559462671078,1.1519596143724125,-1.930031451502338,-1.7124801826316711,-0.1994946901539977,0.2341981531974387,1.450060419010801,0.8559452490228944,0.27411911688042,-0.9824663786634694,-1.0068107796983867,-0.6497084546642562,-0.21039524717106142,-0.019639248598312512,-1.0646124840975537,-0.6878381323251727,-0.9854180085472164,0.29589682632945175,-0.03896419638359273,1.1992659846953158,-0.8481226344048309,-0.37882876695509105,0.5569693706553868,-0.2842421204673835,-1.7616033644117735,-0.7367386823328558,-1.4790376107220264,0.7432634515241014,0.9142403304209297,-0.6770293776846487,0.2851535747365677,-0.5318194269029167,-0.09014187312394373,0.15777322005857639,0.9004701150830658,1.2896333051549662,-0.42686181075878554,-0.5186537604974067,-0.25467116960784836,0.009798863814142113,-0.3688762155820952,-0.35495141596895113,0.18856734776222578,-0.3689815555163424,0.2021027603155454,-0.7694817136696835,1.9965314780668186,-0.028038417611311813,-0.48353780713267547,-1.853076960219544,-0.1074911041658705,-0.08426849763367841,-0.10162811938621388,1.8018316690014027,-0.6742238288918703,0.7333315744277983,0.013395614856481776,-1.8883289458565309,0.18280084162989219],\"xaxis\":\"x2\",\"y\":[-0.07097867800512375,-1.3719871701288424,0.86342004660134,1.0628352899295697,0.0933022867740636,-0.7137878844981527,-0.04424736160769385,-1.1382844977081596,-0.43412616991252395,-1.0410259717424928,0.23195159579039692,-0.6709747719262064,0.28375108214854444,0.44642062016638306,0.33749077510556647,1.3228882834862572,-0.10156574400933181,0.21309164182742962,-1.31384054668843,1.3689896072719263,-0.4826525144213033,-0.9879604708719997,0.5337737625169949,0.3660330683489457,0.10091494924524841,1.3295215027875549,1.0842397697189046,-0.43490098064163646,0.9945355234697241,-0.9289309991648871,-0.4150407385752576,1.4303807860930549,0.9492619018801838,0.9713131273016196,1.9050118261777413,-0.5561653118154009,0.4216354002702895,-0.0685279355771744,-0.34465289782777936,-0.1005685165144487,0.34591206341415504,-0.9467048131841311,-0.2810337834616072,-0.37170962963794224,-1.7128944837785425,0.1745537425056791,1.2594199836438404,-0.4651862582872064,-0.4175622964078361,2.1621390858983074,1.5214415758964313,-0.3744127180499335,0.3774145020910489,0.32557034491480097,-0.16557735391044087,-2.158340396606424,2.3875916828463177,-0.2662576103961899,-0.057513074105692674,-2.1462708656507976,-1.2951013871340533,-1.7164415167802511,-1.5747318623706277,-0.5879706613606943,0.8714187755798224,-0.13053462742753416,1.306381707198462,1.0838599374368527,0.028684321753593096,-1.8840151600796609,0.497224248299635,-1.1747019832632168,0.7572313304823163,1.7040991025657866,-1.3491988144469258,-0.644619021893386,-0.9925949331455116,2.136998417436295,-2.2738039118297606,1.6515150441902364,0.4877401890022299,-1.3445771318104656,-0.9096412072706987,0.6147875310806635,0.7064336076955912,0.045643631679086284,-0.5649144823227196,0.6669249258649116,1.3427947717546123,-0.6781531767859905,0.28412782801083336,1.5134157863017919,1.2000832631247744,0.021372815115842367,-0.8008525215517494,0.5328988651188796,0.5395358513596765,-0.20348386510895866,-1.6870342685123632,1.0256046209058471],\"yaxis\":\"y2\",\"type\":\"scatter\"},{\"line\":{\"color\":\"rgba(128, 128, 128, 1.0)\",\"dash\":\"solid\",\"shape\":\"linear\",\"width\":1.3},\"marker\":{\"size\":2,\"symbol\":\"circle\"},\"mode\":\"markers\",\"name\":\"A\",\"text\":\"\",\"x\":[-0.3040854186589564,1.246833497470403,0.8930332744349196,-0.1719769833826304,-0.017683220292377715,0.31669237929579047,-0.6218959492557863,-0.6269129935442598,0.19184859643366706,1.9462481396911848,-1.5525098258828618,1.5044614241003507,-1.4581725713563496,-0.46604949416439573,-2.081794158048962,-0.04704905060754319,-0.6398173647204053,0.42280114879533737,-1.7530911083997947,-0.8143784463276719,-1.7871130555096635,-0.06584680205467948,-0.6576131402488188,-0.7245546832563872,0.3401273325467127,-0.7036645001156482,0.23007908804272237,0.5595903700936222,0.43023006512059914,-0.5909345039418035,-0.11980256556349118,-0.23585344704003267,-0.4092068031535469,0.9639403797034368,1.778397175638263,-0.4157199437766586,-0.05059225644767502,-1.3022887292852656,1.0240548907171791,-1.578548197037887,0.963100523842453,-0.3323620990665286,-0.8394257664741447,0.2965461442558922,0.28415751823797825,2.0593533696442963,-0.9573214250266097,0.7731414264660283,1.1247376924185177,0.6369036864943833,0.8396757716050604,-0.09685834101168504,-0.1331324130180998,0.6340692022040626,2.2722738739439685,2.8156200050884808,-1.4375097639737682,0.43963386094613904,0.34989245938767916,0.17236073146734213,3.6048690674736816,-2.4757366133546976,0.3677108784245974,0.43317821937035783,-0.1424762699402981,-2.059616987123858,-0.6837791278866705,1.863874105714213,0.1633461125655514,-0.2901698461782455,0.805130447988138,-0.2965263406775229,-0.8409954911244629,1.0054667330642537,-1.1606715992030812,-0.5373436329293438,-0.038404861154318376,0.09517910479058118,0.23061754639934867,0.3981929834991574,0.20780870353272723,-0.6329672972727428,-2.1512572547641753,0.8143665131982654,-1.4595961589284234,-0.9747027652013951,-1.0226442809643932,0.6458053015676501,-1.1041844941782595,-0.7191551091854427,0.23741179508269594,0.0411213108540397,-1.3411016469009658,-0.07301483169518061,1.0694034319117063,-0.8342345403943898,1.0732307001744341,0.09047002033015497,-0.4274275492620005,-0.25468469941866184],\"xaxis\":\"x3\",\"y\":[-0.07097867800512375,-1.3719871701288424,0.86342004660134,1.0628352899295697,0.0933022867740636,-0.7137878844981527,-0.04424736160769385,-1.1382844977081596,-0.43412616991252395,-1.0410259717424928,0.23195159579039692,-0.6709747719262064,0.28375108214854444,0.44642062016638306,0.33749077510556647,1.3228882834862572,-0.10156574400933181,0.21309164182742962,-1.31384054668843,1.3689896072719263,-0.4826525144213033,-0.9879604708719997,0.5337737625169949,0.3660330683489457,0.10091494924524841,1.3295215027875549,1.0842397697189046,-0.43490098064163646,0.9945355234697241,-0.9289309991648871,-0.4150407385752576,1.4303807860930549,0.9492619018801838,0.9713131273016196,1.9050118261777413,-0.5561653118154009,0.4216354002702895,-0.0685279355771744,-0.34465289782777936,-0.1005685165144487,0.34591206341415504,-0.9467048131841311,-0.2810337834616072,-0.37170962963794224,-1.7128944837785425,0.1745537425056791,1.2594199836438404,-0.4651862582872064,-0.4175622964078361,2.1621390858983074,1.5214415758964313,-0.3744127180499335,0.3774145020910489,0.32557034491480097,-0.16557735391044087,-2.158340396606424,2.3875916828463177,-0.2662576103961899,-0.057513074105692674,-2.1462708656507976,-1.2951013871340533,-1.7164415167802511,-1.5747318623706277,-0.5879706613606943,0.8714187755798224,-0.13053462742753416,1.306381707198462,1.0838599374368527,0.028684321753593096,-1.8840151600796609,0.497224248299635,-1.1747019832632168,0.7572313304823163,1.7040991025657866,-1.3491988144469258,-0.644619021893386,-0.9925949331455116,2.136998417436295,-2.2738039118297606,1.6515150441902364,0.4877401890022299,-1.3445771318104656,-0.9096412072706987,0.6147875310806635,0.7064336076955912,0.045643631679086284,-0.5649144823227196,0.6669249258649116,1.3427947717546123,-0.6781531767859905,0.28412782801083336,1.5134157863017919,1.2000832631247744,0.021372815115842367,-0.8008525215517494,0.5328988651188796,0.5395358513596765,-0.20348386510895866,-1.6870342685123632,1.0256046209058471],\"yaxis\":\"y3\",\"type\":\"scatter\"},{\"line\":{\"color\":\"rgba(128, 128, 128, 1.0)\",\"dash\":\"solid\",\"shape\":\"linear\",\"width\":1.3},\"marker\":{\"size\":2,\"symbol\":\"circle\"},\"mode\":\"markers\",\"name\":\"A\",\"text\":\"\",\"x\":[0.1260246403158665,0.32596588283693795,-0.5686858537639956,-0.29718060653250933,1.7588381598565028,-0.03857764000300759,-1.7340974348788103,-0.3617793230237885,-2.4149684557449693,-1.3767462108139694,0.5898428886562838,-2.001029093747053,1.1256350430326616,1.5602984938237987,-0.389451616530249,-0.42489518002010684,2.257395516387381,0.3895541175008674,-0.0995860564994603,-1.0738155759067198,-1.7565460427541784,-0.1947488697970567,-0.5170954867757681,-1.5922351400315728,1.3128419687965667,0.2838584127363085,-0.19737582311805313,-0.6616847059780777,-1.0374858261084379,-0.1934196149905549,-1.2734893249155639,0.7676275747572554,1.377433712430287,-1.2044708504114916,0.5476630725558378,1.1268461672029098,1.081399655461273,-0.42529035516232094,1.4578252740432511,1.143417927391743,-1.9194702041788991,0.6408794111141025,-0.23613137975861856,-0.47956577852639665,0.5927017766688727,-0.61906931926205,-1.8371817673343944,0.3507980620830861,-0.3433720134184708,-0.8958108224062418,-0.24620337288035526,-0.822171481936348,1.7923612543940841,0.8228387163857979,-0.8211298321319879,-1.4136999482102726,0.12200974430168629,-0.6609161749496707,0.4646612862370089,0.07216544565038985,-1.3510467858709554,0.2410658037017578,-0.4826672428085537,-0.01386784323268645,-0.8492851245148666,0.9147232689502697,-0.921236171176619,0.1955307605181961,-1.4948028372190572,1.0718925618030184,0.7575381883018008,0.4244620446375021,-1.4117352311738172,-0.5140290100298601,0.65195630980734,0.5612234594342945,-0.2853988343061505,1.1746626811524241,0.10195169227623516,0.3635373689774617,-0.0270549928479153,2.038571710155747,1.2013501890850573,0.6583509161560808,0.9463583688890771,-0.9057901239822289,-0.4286175172731991,0.8726519946786022,0.16012197748081852,-0.09732798559242585,0.5483794223229277,-0.1742602998924234,1.2076929024559493,-0.5305557408248951,-0.3876668590861956,-0.0982595642753183,-0.41572179650225577,-0.12963428890389472,0.5387087334310405,0.3801413279841494],\"xaxis\":\"x4\",\"y\":[-0.07097867800512375,-1.3719871701288424,0.86342004660134,1.0628352899295697,0.0933022867740636,-0.7137878844981527,-0.04424736160769385,-1.1382844977081596,-0.43412616991252395,-1.0410259717424928,0.23195159579039692,-0.6709747719262064,0.28375108214854444,0.44642062016638306,0.33749077510556647,1.3228882834862572,-0.10156574400933181,0.21309164182742962,-1.31384054668843,1.3689896072719263,-0.4826525144213033,-0.9879604708719997,0.5337737625169949,0.3660330683489457,0.10091494924524841,1.3295215027875549,1.0842397697189046,-0.43490098064163646,0.9945355234697241,-0.9289309991648871,-0.4150407385752576,1.4303807860930549,0.9492619018801838,0.9713131273016196,1.9050118261777413,-0.5561653118154009,0.4216354002702895,-0.0685279355771744,-0.34465289782777936,-0.1005685165144487,0.34591206341415504,-0.9467048131841311,-0.2810337834616072,-0.37170962963794224,-1.7128944837785425,0.1745537425056791,1.2594199836438404,-0.4651862582872064,-0.4175622964078361,2.1621390858983074,1.5214415758964313,-0.3744127180499335,0.3774145020910489,0.32557034491480097,-0.16557735391044087,-2.158340396606424,2.3875916828463177,-0.2662576103961899,-0.057513074105692674,-2.1462708656507976,-1.2951013871340533,-1.7164415167802511,-1.5747318623706277,-0.5879706613606943,0.8714187755798224,-0.13053462742753416,1.306381707198462,1.0838599374368527,0.028684321753593096,-1.8840151600796609,0.497224248299635,-1.1747019832632168,0.7572313304823163,1.7040991025657866,-1.3491988144469258,-0.644619021893386,-0.9925949331455116,2.136998417436295,-2.2738039118297606,1.6515150441902364,0.4877401890022299,-1.3445771318104656,-0.9096412072706987,0.6147875310806635,0.7064336076955912,0.045643631679086284,-0.5649144823227196,0.6669249258649116,1.3427947717546123,-0.6781531767859905,0.28412782801083336,1.5134157863017919,1.2000832631247744,0.021372815115842367,-0.8008525215517494,0.5328988651188796,0.5395358513596765,-0.20348386510895866,-1.6870342685123632,1.0256046209058471],\"yaxis\":\"y4\",\"type\":\"scatter\"},{\"line\":{\"color\":\"rgba(128, 128, 128, 1.0)\",\"dash\":\"solid\",\"shape\":\"linear\",\"width\":1.3},\"marker\":{\"size\":2,\"symbol\":\"circle\"},\"mode\":\"markers\",\"name\":\"B\",\"text\":\"\",\"x\":[-0.07097867800512375,-1.3719871701288424,0.86342004660134,1.0628352899295697,0.0933022867740636,-0.7137878844981527,-0.04424736160769385,-1.1382844977081596,-0.43412616991252395,-1.0410259717424928,0.23195159579039692,-0.6709747719262064,0.28375108214854444,0.44642062016638306,0.33749077510556647,1.3228882834862572,-0.10156574400933181,0.21309164182742962,-1.31384054668843,1.3689896072719263,-0.4826525144213033,-0.9879604708719997,0.5337737625169949,0.3660330683489457,0.10091494924524841,1.3295215027875549,1.0842397697189046,-0.43490098064163646,0.9945355234697241,-0.9289309991648871,-0.4150407385752576,1.4303807860930549,0.9492619018801838,0.9713131273016196,1.9050118261777413,-0.5561653118154009,0.4216354002702895,-0.0685279355771744,-0.34465289782777936,-0.1005685165144487,0.34591206341415504,-0.9467048131841311,-0.2810337834616072,-0.37170962963794224,-1.7128944837785425,0.1745537425056791,1.2594199836438404,-0.4651862582872064,-0.4175622964078361,2.1621390858983074,1.5214415758964313,-0.3744127180499335,0.3774145020910489,0.32557034491480097,-0.16557735391044087,-2.158340396606424,2.3875916828463177,-0.2662576103961899,-0.057513074105692674,-2.1462708656507976,-1.2951013871340533,-1.7164415167802511,-1.5747318623706277,-0.5879706613606943,0.8714187755798224,-0.13053462742753416,1.306381707198462,1.0838599374368527,0.028684321753593096,-1.8840151600796609,0.497224248299635,-1.1747019832632168,0.7572313304823163,1.7040991025657866,-1.3491988144469258,-0.644619021893386,-0.9925949331455116,2.136998417436295,-2.2738039118297606,1.6515150441902364,0.4877401890022299,-1.3445771318104656,-0.9096412072706987,0.6147875310806635,0.7064336076955912,0.045643631679086284,-0.5649144823227196,0.6669249258649116,1.3427947717546123,-0.6781531767859905,0.28412782801083336,1.5134157863017919,1.2000832631247744,0.021372815115842367,-0.8008525215517494,0.5328988651188796,0.5395358513596765,-0.20348386510895866,-1.6870342685123632,1.0256046209058471],\"xaxis\":\"x5\",\"y\":[-0.48021667999792206,-1.767693757615576,-0.7965063909894238,1.183607368288335,-2.584962068987776,-0.28004243181952143,-0.2810203459936231,0.9542463767584113,-0.07142538648128002,0.6359835841224643,1.7647783419739003,0.8458013004580175,2.2779081520723015,-0.6518645469546005,-1.4762525578559023,0.9591866286892657,0.4750133370035477,1.4547938162053253,-0.5334075850272327,0.8637487343722436,-0.6519547137630846,0.07393140222409583,-1.7844213837479546,-2.473959891492755,-1.7569469517297167,-0.9743357578543108,-0.12779805121518964,-0.048917050863550735,0.7415907552751492,0.4933191075056928,0.006197213316774313,-1.36352521294892,0.47571696454369283,1.3168061304675434,-1.049896476600438,0.5068001405486657,-0.975301654107105,-1.2015966506020221,-0.3819793865046173,0.00701661760325433,-0.2712921041825838,0.8205559462671078,1.1519596143724125,-1.930031451502338,-1.7124801826316711,-0.1994946901539977,0.2341981531974387,1.450060419010801,0.8559452490228944,0.27411911688042,-0.9824663786634694,-1.0068107796983867,-0.6497084546642562,-0.21039524717106142,-0.019639248598312512,-1.0646124840975537,-0.6878381323251727,-0.9854180085472164,0.29589682632945175,-0.03896419638359273,1.1992659846953158,-0.8481226344048309,-0.37882876695509105,0.5569693706553868,-0.2842421204673835,-1.7616033644117735,-0.7367386823328558,-1.4790376107220264,0.7432634515241014,0.9142403304209297,-0.6770293776846487,0.2851535747365677,-0.5318194269029167,-0.09014187312394373,0.15777322005857639,0.9004701150830658,1.2896333051549662,-0.42686181075878554,-0.5186537604974067,-0.25467116960784836,0.009798863814142113,-0.3688762155820952,-0.35495141596895113,0.18856734776222578,-0.3689815555163424,0.2021027603155454,-0.7694817136696835,1.9965314780668186,-0.028038417611311813,-0.48353780713267547,-1.853076960219544,-0.1074911041658705,-0.08426849763367841,-0.10162811938621388,1.8018316690014027,-0.6742238288918703,0.7333315744277983,0.013395614856481776,-1.8883289458565309,0.18280084162989219],\"yaxis\":\"y5\",\"type\":\"scatter\"},{\"histfunc\":\"count\",\"histnorm\":\"\",\"marker\":{\"color\":\"rgba(55, 128, 191, 1.0)\",\"line\":{\"color\":\"#4D5663\",\"width\":1.3}},\"name\":\"B\",\"nbinsx\":10,\"opacity\":0.8,\"orientation\":\"v\",\"x\":[-0.48021667999792206,-1.767693757615576,-0.7965063909894238,1.183607368288335,-2.584962068987776,-0.28004243181952143,-0.2810203459936231,0.9542463767584113,-0.07142538648128002,0.6359835841224643,1.7647783419739003,0.8458013004580175,2.2779081520723015,-0.6518645469546005,-1.4762525578559023,0.9591866286892657,0.4750133370035477,1.4547938162053253,-0.5334075850272327,0.8637487343722436,-0.6519547137630846,0.07393140222409583,-1.7844213837479546,-2.473959891492755,-1.7569469517297167,-0.9743357578543108,-0.12779805121518964,-0.048917050863550735,0.7415907552751492,0.4933191075056928,0.006197213316774313,-1.36352521294892,0.47571696454369283,1.3168061304675434,-1.049896476600438,0.5068001405486657,-0.975301654107105,-1.2015966506020221,-0.3819793865046173,0.00701661760325433,-0.2712921041825838,0.8205559462671078,1.1519596143724125,-1.930031451502338,-1.7124801826316711,-0.1994946901539977,0.2341981531974387,1.450060419010801,0.8559452490228944,0.27411911688042,-0.9824663786634694,-1.0068107796983867,-0.6497084546642562,-0.21039524717106142,-0.019639248598312512,-1.0646124840975537,-0.6878381323251727,-0.9854180085472164,0.29589682632945175,-0.03896419638359273,1.1992659846953158,-0.8481226344048309,-0.37882876695509105,0.5569693706553868,-0.2842421204673835,-1.7616033644117735,-0.7367386823328558,-1.4790376107220264,0.7432634515241014,0.9142403304209297,-0.6770293776846487,0.2851535747365677,-0.5318194269029167,-0.09014187312394373,0.15777322005857639,0.9004701150830658,1.2896333051549662,-0.42686181075878554,-0.5186537604974067,-0.25467116960784836,0.009798863814142113,-0.3688762155820952,-0.35495141596895113,0.18856734776222578,-0.3689815555163424,0.2021027603155454,-0.7694817136696835,1.9965314780668186,-0.028038417611311813,-0.48353780713267547,-1.853076960219544,-0.1074911041658705,-0.08426849763367841,-0.10162811938621388,1.8018316690014027,-0.6742238288918703,0.7333315744277983,0.013395614856481776,-1.8883289458565309,0.18280084162989219],\"xaxis\":\"x6\",\"yaxis\":\"y6\",\"type\":\"histogram\"},{\"line\":{\"color\":\"rgba(128, 128, 128, 1.0)\",\"dash\":\"solid\",\"shape\":\"linear\",\"width\":1.3},\"marker\":{\"size\":2,\"symbol\":\"circle\"},\"mode\":\"markers\",\"name\":\"B\",\"text\":\"\",\"x\":[-0.3040854186589564,1.246833497470403,0.8930332744349196,-0.1719769833826304,-0.017683220292377715,0.31669237929579047,-0.6218959492557863,-0.6269129935442598,0.19184859643366706,1.9462481396911848,-1.5525098258828618,1.5044614241003507,-1.4581725713563496,-0.46604949416439573,-2.081794158048962,-0.04704905060754319,-0.6398173647204053,0.42280114879533737,-1.7530911083997947,-0.8143784463276719,-1.7871130555096635,-0.06584680205467948,-0.6576131402488188,-0.7245546832563872,0.3401273325467127,-0.7036645001156482,0.23007908804272237,0.5595903700936222,0.43023006512059914,-0.5909345039418035,-0.11980256556349118,-0.23585344704003267,-0.4092068031535469,0.9639403797034368,1.778397175638263,-0.4157199437766586,-0.05059225644767502,-1.3022887292852656,1.0240548907171791,-1.578548197037887,0.963100523842453,-0.3323620990665286,-0.8394257664741447,0.2965461442558922,0.28415751823797825,2.0593533696442963,-0.9573214250266097,0.7731414264660283,1.1247376924185177,0.6369036864943833,0.8396757716050604,-0.09685834101168504,-0.1331324130180998,0.6340692022040626,2.2722738739439685,2.8156200050884808,-1.4375097639737682,0.43963386094613904,0.34989245938767916,0.17236073146734213,3.6048690674736816,-2.4757366133546976,0.3677108784245974,0.43317821937035783,-0.1424762699402981,-2.059616987123858,-0.6837791278866705,1.863874105714213,0.1633461125655514,-0.2901698461782455,0.805130447988138,-0.2965263406775229,-0.8409954911244629,1.0054667330642537,-1.1606715992030812,-0.5373436329293438,-0.038404861154318376,0.09517910479058118,0.23061754639934867,0.3981929834991574,0.20780870353272723,-0.6329672972727428,-2.1512572547641753,0.8143665131982654,-1.4595961589284234,-0.9747027652013951,-1.0226442809643932,0.6458053015676501,-1.1041844941782595,-0.7191551091854427,0.23741179508269594,0.0411213108540397,-1.3411016469009658,-0.07301483169518061,1.0694034319117063,-0.8342345403943898,1.0732307001744341,0.09047002033015497,-0.4274275492620005,-0.25468469941866184],\"xaxis\":\"x7\",\"y\":[-0.48021667999792206,-1.767693757615576,-0.7965063909894238,1.183607368288335,-2.584962068987776,-0.28004243181952143,-0.2810203459936231,0.9542463767584113,-0.07142538648128002,0.6359835841224643,1.7647783419739003,0.8458013004580175,2.2779081520723015,-0.6518645469546005,-1.4762525578559023,0.9591866286892657,0.4750133370035477,1.4547938162053253,-0.5334075850272327,0.8637487343722436,-0.6519547137630846,0.07393140222409583,-1.7844213837479546,-2.473959891492755,-1.7569469517297167,-0.9743357578543108,-0.12779805121518964,-0.048917050863550735,0.7415907552751492,0.4933191075056928,0.006197213316774313,-1.36352521294892,0.47571696454369283,1.3168061304675434,-1.049896476600438,0.5068001405486657,-0.975301654107105,-1.2015966506020221,-0.3819793865046173,0.00701661760325433,-0.2712921041825838,0.8205559462671078,1.1519596143724125,-1.930031451502338,-1.7124801826316711,-0.1994946901539977,0.2341981531974387,1.450060419010801,0.8559452490228944,0.27411911688042,-0.9824663786634694,-1.0068107796983867,-0.6497084546642562,-0.21039524717106142,-0.019639248598312512,-1.0646124840975537,-0.6878381323251727,-0.9854180085472164,0.29589682632945175,-0.03896419638359273,1.1992659846953158,-0.8481226344048309,-0.37882876695509105,0.5569693706553868,-0.2842421204673835,-1.7616033644117735,-0.7367386823328558,-1.4790376107220264,0.7432634515241014,0.9142403304209297,-0.6770293776846487,0.2851535747365677,-0.5318194269029167,-0.09014187312394373,0.15777322005857639,0.9004701150830658,1.2896333051549662,-0.42686181075878554,-0.5186537604974067,-0.25467116960784836,0.009798863814142113,-0.3688762155820952,-0.35495141596895113,0.18856734776222578,-0.3689815555163424,0.2021027603155454,-0.7694817136696835,1.9965314780668186,-0.028038417611311813,-0.48353780713267547,-1.853076960219544,-0.1074911041658705,-0.08426849763367841,-0.10162811938621388,1.8018316690014027,-0.6742238288918703,0.7333315744277983,0.013395614856481776,-1.8883289458565309,0.18280084162989219],\"yaxis\":\"y7\",\"type\":\"scatter\"},{\"line\":{\"color\":\"rgba(128, 128, 128, 1.0)\",\"dash\":\"solid\",\"shape\":\"linear\",\"width\":1.3},\"marker\":{\"size\":2,\"symbol\":\"circle\"},\"mode\":\"markers\",\"name\":\"B\",\"text\":\"\",\"x\":[0.1260246403158665,0.32596588283693795,-0.5686858537639956,-0.29718060653250933,1.7588381598565028,-0.03857764000300759,-1.7340974348788103,-0.3617793230237885,-2.4149684557449693,-1.3767462108139694,0.5898428886562838,-2.001029093747053,1.1256350430326616,1.5602984938237987,-0.389451616530249,-0.42489518002010684,2.257395516387381,0.3895541175008674,-0.0995860564994603,-1.0738155759067198,-1.7565460427541784,-0.1947488697970567,-0.5170954867757681,-1.5922351400315728,1.3128419687965667,0.2838584127363085,-0.19737582311805313,-0.6616847059780777,-1.0374858261084379,-0.1934196149905549,-1.2734893249155639,0.7676275747572554,1.377433712430287,-1.2044708504114916,0.5476630725558378,1.1268461672029098,1.081399655461273,-0.42529035516232094,1.4578252740432511,1.143417927391743,-1.9194702041788991,0.6408794111141025,-0.23613137975861856,-0.47956577852639665,0.5927017766688727,-0.61906931926205,-1.8371817673343944,0.3507980620830861,-0.3433720134184708,-0.8958108224062418,-0.24620337288035526,-0.822171481936348,1.7923612543940841,0.8228387163857979,-0.8211298321319879,-1.4136999482102726,0.12200974430168629,-0.6609161749496707,0.4646612862370089,0.07216544565038985,-1.3510467858709554,0.2410658037017578,-0.4826672428085537,-0.01386784323268645,-0.8492851245148666,0.9147232689502697,-0.921236171176619,0.1955307605181961,-1.4948028372190572,1.0718925618030184,0.7575381883018008,0.4244620446375021,-1.4117352311738172,-0.5140290100298601,0.65195630980734,0.5612234594342945,-0.2853988343061505,1.1746626811524241,0.10195169227623516,0.3635373689774617,-0.0270549928479153,2.038571710155747,1.2013501890850573,0.6583509161560808,0.9463583688890771,-0.9057901239822289,-0.4286175172731991,0.8726519946786022,0.16012197748081852,-0.09732798559242585,0.5483794223229277,-0.1742602998924234,1.2076929024559493,-0.5305557408248951,-0.3876668590861956,-0.0982595642753183,-0.41572179650225577,-0.12963428890389472,0.5387087334310405,0.3801413279841494],\"xaxis\":\"x8\",\"y\":[-0.48021667999792206,-1.767693757615576,-0.7965063909894238,1.183607368288335,-2.584962068987776,-0.28004243181952143,-0.2810203459936231,0.9542463767584113,-0.07142538648128002,0.6359835841224643,1.7647783419739003,0.8458013004580175,2.2779081520723015,-0.6518645469546005,-1.4762525578559023,0.9591866286892657,0.4750133370035477,1.4547938162053253,-0.5334075850272327,0.8637487343722436,-0.6519547137630846,0.07393140222409583,-1.7844213837479546,-2.473959891492755,-1.7569469517297167,-0.9743357578543108,-0.12779805121518964,-0.048917050863550735,0.7415907552751492,0.4933191075056928,0.006197213316774313,-1.36352521294892,0.47571696454369283,1.3168061304675434,-1.049896476600438,0.5068001405486657,-0.975301654107105,-1.2015966506020221,-0.3819793865046173,0.00701661760325433,-0.2712921041825838,0.8205559462671078,1.1519596143724125,-1.930031451502338,-1.7124801826316711,-0.1994946901539977,0.2341981531974387,1.450060419010801,0.8559452490228944,0.27411911688042,-0.9824663786634694,-1.0068107796983867,-0.6497084546642562,-0.21039524717106142,-0.019639248598312512,-1.0646124840975537,-0.6878381323251727,-0.9854180085472164,0.29589682632945175,-0.03896419638359273,1.1992659846953158,-0.8481226344048309,-0.37882876695509105,0.5569693706553868,-0.2842421204673835,-1.7616033644117735,-0.7367386823328558,-1.4790376107220264,0.7432634515241014,0.9142403304209297,-0.6770293776846487,0.2851535747365677,-0.5318194269029167,-0.09014187312394373,0.15777322005857639,0.9004701150830658,1.2896333051549662,-0.42686181075878554,-0.5186537604974067,-0.25467116960784836,0.009798863814142113,-0.3688762155820952,-0.35495141596895113,0.18856734776222578,-0.3689815555163424,0.2021027603155454,-0.7694817136696835,1.9965314780668186,-0.028038417611311813,-0.48353780713267547,-1.853076960219544,-0.1074911041658705,-0.08426849763367841,-0.10162811938621388,1.8018316690014027,-0.6742238288918703,0.7333315744277983,0.013395614856481776,-1.8883289458565309,0.18280084162989219],\"yaxis\":\"y8\",\"type\":\"scatter\"},{\"line\":{\"color\":\"rgba(128, 128, 128, 1.0)\",\"dash\":\"solid\",\"shape\":\"linear\",\"width\":1.3},\"marker\":{\"size\":2,\"symbol\":\"circle\"},\"mode\":\"markers\",\"name\":\"C\",\"text\":\"\",\"x\":[-0.07097867800512375,-1.3719871701288424,0.86342004660134,1.0628352899295697,0.0933022867740636,-0.7137878844981527,-0.04424736160769385,-1.1382844977081596,-0.43412616991252395,-1.0410259717424928,0.23195159579039692,-0.6709747719262064,0.28375108214854444,0.44642062016638306,0.33749077510556647,1.3228882834862572,-0.10156574400933181,0.21309164182742962,-1.31384054668843,1.3689896072719263,-0.4826525144213033,-0.9879604708719997,0.5337737625169949,0.3660330683489457,0.10091494924524841,1.3295215027875549,1.0842397697189046,-0.43490098064163646,0.9945355234697241,-0.9289309991648871,-0.4150407385752576,1.4303807860930549,0.9492619018801838,0.9713131273016196,1.9050118261777413,-0.5561653118154009,0.4216354002702895,-0.0685279355771744,-0.34465289782777936,-0.1005685165144487,0.34591206341415504,-0.9467048131841311,-0.2810337834616072,-0.37170962963794224,-1.7128944837785425,0.1745537425056791,1.2594199836438404,-0.4651862582872064,-0.4175622964078361,2.1621390858983074,1.5214415758964313,-0.3744127180499335,0.3774145020910489,0.32557034491480097,-0.16557735391044087,-2.158340396606424,2.3875916828463177,-0.2662576103961899,-0.057513074105692674,-2.1462708656507976,-1.2951013871340533,-1.7164415167802511,-1.5747318623706277,-0.5879706613606943,0.8714187755798224,-0.13053462742753416,1.306381707198462,1.0838599374368527,0.028684321753593096,-1.8840151600796609,0.497224248299635,-1.1747019832632168,0.7572313304823163,1.7040991025657866,-1.3491988144469258,-0.644619021893386,-0.9925949331455116,2.136998417436295,-2.2738039118297606,1.6515150441902364,0.4877401890022299,-1.3445771318104656,-0.9096412072706987,0.6147875310806635,0.7064336076955912,0.045643631679086284,-0.5649144823227196,0.6669249258649116,1.3427947717546123,-0.6781531767859905,0.28412782801083336,1.5134157863017919,1.2000832631247744,0.021372815115842367,-0.8008525215517494,0.5328988651188796,0.5395358513596765,-0.20348386510895866,-1.6870342685123632,1.0256046209058471],\"xaxis\":\"x9\",\"y\":[-0.3040854186589564,1.246833497470403,0.8930332744349196,-0.1719769833826304,-0.017683220292377715,0.31669237929579047,-0.6218959492557863,-0.6269129935442598,0.19184859643366706,1.9462481396911848,-1.5525098258828618,1.5044614241003507,-1.4581725713563496,-0.46604949416439573,-2.081794158048962,-0.04704905060754319,-0.6398173647204053,0.42280114879533737,-1.7530911083997947,-0.8143784463276719,-1.7871130555096635,-0.06584680205467948,-0.6576131402488188,-0.7245546832563872,0.3401273325467127,-0.7036645001156482,0.23007908804272237,0.5595903700936222,0.43023006512059914,-0.5909345039418035,-0.11980256556349118,-0.23585344704003267,-0.4092068031535469,0.9639403797034368,1.778397175638263,-0.4157199437766586,-0.05059225644767502,-1.3022887292852656,1.0240548907171791,-1.578548197037887,0.963100523842453,-0.3323620990665286,-0.8394257664741447,0.2965461442558922,0.28415751823797825,2.0593533696442963,-0.9573214250266097,0.7731414264660283,1.1247376924185177,0.6369036864943833,0.8396757716050604,-0.09685834101168504,-0.1331324130180998,0.6340692022040626,2.2722738739439685,2.8156200050884808,-1.4375097639737682,0.43963386094613904,0.34989245938767916,0.17236073146734213,3.6048690674736816,-2.4757366133546976,0.3677108784245974,0.43317821937035783,-0.1424762699402981,-2.059616987123858,-0.6837791278866705,1.863874105714213,0.1633461125655514,-0.2901698461782455,0.805130447988138,-0.2965263406775229,-0.8409954911244629,1.0054667330642537,-1.1606715992030812,-0.5373436329293438,-0.038404861154318376,0.09517910479058118,0.23061754639934867,0.3981929834991574,0.20780870353272723,-0.6329672972727428,-2.1512572547641753,0.8143665131982654,-1.4595961589284234,-0.9747027652013951,-1.0226442809643932,0.6458053015676501,-1.1041844941782595,-0.7191551091854427,0.23741179508269594,0.0411213108540397,-1.3411016469009658,-0.07301483169518061,1.0694034319117063,-0.8342345403943898,1.0732307001744341,0.09047002033015497,-0.4274275492620005,-0.25468469941866184],\"yaxis\":\"y9\",\"type\":\"scatter\"},{\"line\":{\"color\":\"rgba(128, 128, 128, 1.0)\",\"dash\":\"solid\",\"shape\":\"linear\",\"width\":1.3},\"marker\":{\"size\":2,\"symbol\":\"circle\"},\"mode\":\"markers\",\"name\":\"C\",\"text\":\"\",\"x\":[-0.48021667999792206,-1.767693757615576,-0.7965063909894238,1.183607368288335,-2.584962068987776,-0.28004243181952143,-0.2810203459936231,0.9542463767584113,-0.07142538648128002,0.6359835841224643,1.7647783419739003,0.8458013004580175,2.2779081520723015,-0.6518645469546005,-1.4762525578559023,0.9591866286892657,0.4750133370035477,1.4547938162053253,-0.5334075850272327,0.8637487343722436,-0.6519547137630846,0.07393140222409583,-1.7844213837479546,-2.473959891492755,-1.7569469517297167,-0.9743357578543108,-0.12779805121518964,-0.048917050863550735,0.7415907552751492,0.4933191075056928,0.006197213316774313,-1.36352521294892,0.47571696454369283,1.3168061304675434,-1.049896476600438,0.5068001405486657,-0.975301654107105,-1.2015966506020221,-0.3819793865046173,0.00701661760325433,-0.2712921041825838,0.8205559462671078,1.1519596143724125,-1.930031451502338,-1.7124801826316711,-0.1994946901539977,0.2341981531974387,1.450060419010801,0.8559452490228944,0.27411911688042,-0.9824663786634694,-1.0068107796983867,-0.6497084546642562,-0.21039524717106142,-0.019639248598312512,-1.0646124840975537,-0.6878381323251727,-0.9854180085472164,0.29589682632945175,-0.03896419638359273,1.1992659846953158,-0.8481226344048309,-0.37882876695509105,0.5569693706553868,-0.2842421204673835,-1.7616033644117735,-0.7367386823328558,-1.4790376107220264,0.7432634515241014,0.9142403304209297,-0.6770293776846487,0.2851535747365677,-0.5318194269029167,-0.09014187312394373,0.15777322005857639,0.9004701150830658,1.2896333051549662,-0.42686181075878554,-0.5186537604974067,-0.25467116960784836,0.009798863814142113,-0.3688762155820952,-0.35495141596895113,0.18856734776222578,-0.3689815555163424,0.2021027603155454,-0.7694817136696835,1.9965314780668186,-0.028038417611311813,-0.48353780713267547,-1.853076960219544,-0.1074911041658705,-0.08426849763367841,-0.10162811938621388,1.8018316690014027,-0.6742238288918703,0.7333315744277983,0.013395614856481776,-1.8883289458565309,0.18280084162989219],\"xaxis\":\"x10\",\"y\":[-0.3040854186589564,1.246833497470403,0.8930332744349196,-0.1719769833826304,-0.017683220292377715,0.31669237929579047,-0.6218959492557863,-0.6269129935442598,0.19184859643366706,1.9462481396911848,-1.5525098258828618,1.5044614241003507,-1.4581725713563496,-0.46604949416439573,-2.081794158048962,-0.04704905060754319,-0.6398173647204053,0.42280114879533737,-1.7530911083997947,-0.8143784463276719,-1.7871130555096635,-0.06584680205467948,-0.6576131402488188,-0.7245546832563872,0.3401273325467127,-0.7036645001156482,0.23007908804272237,0.5595903700936222,0.43023006512059914,-0.5909345039418035,-0.11980256556349118,-0.23585344704003267,-0.4092068031535469,0.9639403797034368,1.778397175638263,-0.4157199437766586,-0.05059225644767502,-1.3022887292852656,1.0240548907171791,-1.578548197037887,0.963100523842453,-0.3323620990665286,-0.8394257664741447,0.2965461442558922,0.28415751823797825,2.0593533696442963,-0.9573214250266097,0.7731414264660283,1.1247376924185177,0.6369036864943833,0.8396757716050604,-0.09685834101168504,-0.1331324130180998,0.6340692022040626,2.2722738739439685,2.8156200050884808,-1.4375097639737682,0.43963386094613904,0.34989245938767916,0.17236073146734213,3.6048690674736816,-2.4757366133546976,0.3677108784245974,0.43317821937035783,-0.1424762699402981,-2.059616987123858,-0.6837791278866705,1.863874105714213,0.1633461125655514,-0.2901698461782455,0.805130447988138,-0.2965263406775229,-0.8409954911244629,1.0054667330642537,-1.1606715992030812,-0.5373436329293438,-0.038404861154318376,0.09517910479058118,0.23061754639934867,0.3981929834991574,0.20780870353272723,-0.6329672972727428,-2.1512572547641753,0.8143665131982654,-1.4595961589284234,-0.9747027652013951,-1.0226442809643932,0.6458053015676501,-1.1041844941782595,-0.7191551091854427,0.23741179508269594,0.0411213108540397,-1.3411016469009658,-0.07301483169518061,1.0694034319117063,-0.8342345403943898,1.0732307001744341,0.09047002033015497,-0.4274275492620005,-0.25468469941866184],\"yaxis\":\"y10\",\"type\":\"scatter\"},{\"histfunc\":\"count\",\"histnorm\":\"\",\"marker\":{\"color\":\"rgba(50, 171, 96, 1.0)\",\"line\":{\"color\":\"#4D5663\",\"width\":1.3}},\"name\":\"C\",\"nbinsx\":10,\"opacity\":0.8,\"orientation\":\"v\",\"x\":[-0.3040854186589564,1.246833497470403,0.8930332744349196,-0.1719769833826304,-0.017683220292377715,0.31669237929579047,-0.6218959492557863,-0.6269129935442598,0.19184859643366706,1.9462481396911848,-1.5525098258828618,1.5044614241003507,-1.4581725713563496,-0.46604949416439573,-2.081794158048962,-0.04704905060754319,-0.6398173647204053,0.42280114879533737,-1.7530911083997947,-0.8143784463276719,-1.7871130555096635,-0.06584680205467948,-0.6576131402488188,-0.7245546832563872,0.3401273325467127,-0.7036645001156482,0.23007908804272237,0.5595903700936222,0.43023006512059914,-0.5909345039418035,-0.11980256556349118,-0.23585344704003267,-0.4092068031535469,0.9639403797034368,1.778397175638263,-0.4157199437766586,-0.05059225644767502,-1.3022887292852656,1.0240548907171791,-1.578548197037887,0.963100523842453,-0.3323620990665286,-0.8394257664741447,0.2965461442558922,0.28415751823797825,2.0593533696442963,-0.9573214250266097,0.7731414264660283,1.1247376924185177,0.6369036864943833,0.8396757716050604,-0.09685834101168504,-0.1331324130180998,0.6340692022040626,2.2722738739439685,2.8156200050884808,-1.4375097639737682,0.43963386094613904,0.34989245938767916,0.17236073146734213,3.6048690674736816,-2.4757366133546976,0.3677108784245974,0.43317821937035783,-0.1424762699402981,-2.059616987123858,-0.6837791278866705,1.863874105714213,0.1633461125655514,-0.2901698461782455,0.805130447988138,-0.2965263406775229,-0.8409954911244629,1.0054667330642537,-1.1606715992030812,-0.5373436329293438,-0.038404861154318376,0.09517910479058118,0.23061754639934867,0.3981929834991574,0.20780870353272723,-0.6329672972727428,-2.1512572547641753,0.8143665131982654,-1.4595961589284234,-0.9747027652013951,-1.0226442809643932,0.6458053015676501,-1.1041844941782595,-0.7191551091854427,0.23741179508269594,0.0411213108540397,-1.3411016469009658,-0.07301483169518061,1.0694034319117063,-0.8342345403943898,1.0732307001744341,0.09047002033015497,-0.4274275492620005,-0.25468469941866184],\"xaxis\":\"x11\",\"yaxis\":\"y11\",\"type\":\"histogram\"},{\"line\":{\"color\":\"rgba(128, 128, 128, 1.0)\",\"dash\":\"solid\",\"shape\":\"linear\",\"width\":1.3},\"marker\":{\"size\":2,\"symbol\":\"circle\"},\"mode\":\"markers\",\"name\":\"C\",\"text\":\"\",\"x\":[0.1260246403158665,0.32596588283693795,-0.5686858537639956,-0.29718060653250933,1.7588381598565028,-0.03857764000300759,-1.7340974348788103,-0.3617793230237885,-2.4149684557449693,-1.3767462108139694,0.5898428886562838,-2.001029093747053,1.1256350430326616,1.5602984938237987,-0.389451616530249,-0.42489518002010684,2.257395516387381,0.3895541175008674,-0.0995860564994603,-1.0738155759067198,-1.7565460427541784,-0.1947488697970567,-0.5170954867757681,-1.5922351400315728,1.3128419687965667,0.2838584127363085,-0.19737582311805313,-0.6616847059780777,-1.0374858261084379,-0.1934196149905549,-1.2734893249155639,0.7676275747572554,1.377433712430287,-1.2044708504114916,0.5476630725558378,1.1268461672029098,1.081399655461273,-0.42529035516232094,1.4578252740432511,1.143417927391743,-1.9194702041788991,0.6408794111141025,-0.23613137975861856,-0.47956577852639665,0.5927017766688727,-0.61906931926205,-1.8371817673343944,0.3507980620830861,-0.3433720134184708,-0.8958108224062418,-0.24620337288035526,-0.822171481936348,1.7923612543940841,0.8228387163857979,-0.8211298321319879,-1.4136999482102726,0.12200974430168629,-0.6609161749496707,0.4646612862370089,0.07216544565038985,-1.3510467858709554,0.2410658037017578,-0.4826672428085537,-0.01386784323268645,-0.8492851245148666,0.9147232689502697,-0.921236171176619,0.1955307605181961,-1.4948028372190572,1.0718925618030184,0.7575381883018008,0.4244620446375021,-1.4117352311738172,-0.5140290100298601,0.65195630980734,0.5612234594342945,-0.2853988343061505,1.1746626811524241,0.10195169227623516,0.3635373689774617,-0.0270549928479153,2.038571710155747,1.2013501890850573,0.6583509161560808,0.9463583688890771,-0.9057901239822289,-0.4286175172731991,0.8726519946786022,0.16012197748081852,-0.09732798559242585,0.5483794223229277,-0.1742602998924234,1.2076929024559493,-0.5305557408248951,-0.3876668590861956,-0.0982595642753183,-0.41572179650225577,-0.12963428890389472,0.5387087334310405,0.3801413279841494],\"xaxis\":\"x12\",\"y\":[-0.3040854186589564,1.246833497470403,0.8930332744349196,-0.1719769833826304,-0.017683220292377715,0.31669237929579047,-0.6218959492557863,-0.6269129935442598,0.19184859643366706,1.9462481396911848,-1.5525098258828618,1.5044614241003507,-1.4581725713563496,-0.46604949416439573,-2.081794158048962,-0.04704905060754319,-0.6398173647204053,0.42280114879533737,-1.7530911083997947,-0.8143784463276719,-1.7871130555096635,-0.06584680205467948,-0.6576131402488188,-0.7245546832563872,0.3401273325467127,-0.7036645001156482,0.23007908804272237,0.5595903700936222,0.43023006512059914,-0.5909345039418035,-0.11980256556349118,-0.23585344704003267,-0.4092068031535469,0.9639403797034368,1.778397175638263,-0.4157199437766586,-0.05059225644767502,-1.3022887292852656,1.0240548907171791,-1.578548197037887,0.963100523842453,-0.3323620990665286,-0.8394257664741447,0.2965461442558922,0.28415751823797825,2.0593533696442963,-0.9573214250266097,0.7731414264660283,1.1247376924185177,0.6369036864943833,0.8396757716050604,-0.09685834101168504,-0.1331324130180998,0.6340692022040626,2.2722738739439685,2.8156200050884808,-1.4375097639737682,0.43963386094613904,0.34989245938767916,0.17236073146734213,3.6048690674736816,-2.4757366133546976,0.3677108784245974,0.43317821937035783,-0.1424762699402981,-2.059616987123858,-0.6837791278866705,1.863874105714213,0.1633461125655514,-0.2901698461782455,0.805130447988138,-0.2965263406775229,-0.8409954911244629,1.0054667330642537,-1.1606715992030812,-0.5373436329293438,-0.038404861154318376,0.09517910479058118,0.23061754639934867,0.3981929834991574,0.20780870353272723,-0.6329672972727428,-2.1512572547641753,0.8143665131982654,-1.4595961589284234,-0.9747027652013951,-1.0226442809643932,0.6458053015676501,-1.1041844941782595,-0.7191551091854427,0.23741179508269594,0.0411213108540397,-1.3411016469009658,-0.07301483169518061,1.0694034319117063,-0.8342345403943898,1.0732307001744341,0.09047002033015497,-0.4274275492620005,-0.25468469941866184],\"yaxis\":\"y12\",\"type\":\"scatter\"},{\"line\":{\"color\":\"rgba(128, 128, 128, 1.0)\",\"dash\":\"solid\",\"shape\":\"linear\",\"width\":1.3},\"marker\":{\"size\":2,\"symbol\":\"circle\"},\"mode\":\"markers\",\"name\":\"D\",\"text\":\"\",\"x\":[-0.07097867800512375,-1.3719871701288424,0.86342004660134,1.0628352899295697,0.0933022867740636,-0.7137878844981527,-0.04424736160769385,-1.1382844977081596,-0.43412616991252395,-1.0410259717424928,0.23195159579039692,-0.6709747719262064,0.28375108214854444,0.44642062016638306,0.33749077510556647,1.3228882834862572,-0.10156574400933181,0.21309164182742962,-1.31384054668843,1.3689896072719263,-0.4826525144213033,-0.9879604708719997,0.5337737625169949,0.3660330683489457,0.10091494924524841,1.3295215027875549,1.0842397697189046,-0.43490098064163646,0.9945355234697241,-0.9289309991648871,-0.4150407385752576,1.4303807860930549,0.9492619018801838,0.9713131273016196,1.9050118261777413,-0.5561653118154009,0.4216354002702895,-0.0685279355771744,-0.34465289782777936,-0.1005685165144487,0.34591206341415504,-0.9467048131841311,-0.2810337834616072,-0.37170962963794224,-1.7128944837785425,0.1745537425056791,1.2594199836438404,-0.4651862582872064,-0.4175622964078361,2.1621390858983074,1.5214415758964313,-0.3744127180499335,0.3774145020910489,0.32557034491480097,-0.16557735391044087,-2.158340396606424,2.3875916828463177,-0.2662576103961899,-0.057513074105692674,-2.1462708656507976,-1.2951013871340533,-1.7164415167802511,-1.5747318623706277,-0.5879706613606943,0.8714187755798224,-0.13053462742753416,1.306381707198462,1.0838599374368527,0.028684321753593096,-1.8840151600796609,0.497224248299635,-1.1747019832632168,0.7572313304823163,1.7040991025657866,-1.3491988144469258,-0.644619021893386,-0.9925949331455116,2.136998417436295,-2.2738039118297606,1.6515150441902364,0.4877401890022299,-1.3445771318104656,-0.9096412072706987,0.6147875310806635,0.7064336076955912,0.045643631679086284,-0.5649144823227196,0.6669249258649116,1.3427947717546123,-0.6781531767859905,0.28412782801083336,1.5134157863017919,1.2000832631247744,0.021372815115842367,-0.8008525215517494,0.5328988651188796,0.5395358513596765,-0.20348386510895866,-1.6870342685123632,1.0256046209058471],\"xaxis\":\"x13\",\"y\":[0.1260246403158665,0.32596588283693795,-0.5686858537639956,-0.29718060653250933,1.7588381598565028,-0.03857764000300759,-1.7340974348788103,-0.3617793230237885,-2.4149684557449693,-1.3767462108139694,0.5898428886562838,-2.001029093747053,1.1256350430326616,1.5602984938237987,-0.389451616530249,-0.42489518002010684,2.257395516387381,0.3895541175008674,-0.0995860564994603,-1.0738155759067198,-1.7565460427541784,-0.1947488697970567,-0.5170954867757681,-1.5922351400315728,1.3128419687965667,0.2838584127363085,-0.19737582311805313,-0.6616847059780777,-1.0374858261084379,-0.1934196149905549,-1.2734893249155639,0.7676275747572554,1.377433712430287,-1.2044708504114916,0.5476630725558378,1.1268461672029098,1.081399655461273,-0.42529035516232094,1.4578252740432511,1.143417927391743,-1.9194702041788991,0.6408794111141025,-0.23613137975861856,-0.47956577852639665,0.5927017766688727,-0.61906931926205,-1.8371817673343944,0.3507980620830861,-0.3433720134184708,-0.8958108224062418,-0.24620337288035526,-0.822171481936348,1.7923612543940841,0.8228387163857979,-0.8211298321319879,-1.4136999482102726,0.12200974430168629,-0.6609161749496707,0.4646612862370089,0.07216544565038985,-1.3510467858709554,0.2410658037017578,-0.4826672428085537,-0.01386784323268645,-0.8492851245148666,0.9147232689502697,-0.921236171176619,0.1955307605181961,-1.4948028372190572,1.0718925618030184,0.7575381883018008,0.4244620446375021,-1.4117352311738172,-0.5140290100298601,0.65195630980734,0.5612234594342945,-0.2853988343061505,1.1746626811524241,0.10195169227623516,0.3635373689774617,-0.0270549928479153,2.038571710155747,1.2013501890850573,0.6583509161560808,0.9463583688890771,-0.9057901239822289,-0.4286175172731991,0.8726519946786022,0.16012197748081852,-0.09732798559242585,0.5483794223229277,-0.1742602998924234,1.2076929024559493,-0.5305557408248951,-0.3876668590861956,-0.0982595642753183,-0.41572179650225577,-0.12963428890389472,0.5387087334310405,0.3801413279841494],\"yaxis\":\"y13\",\"type\":\"scatter\"},{\"line\":{\"color\":\"rgba(128, 128, 128, 1.0)\",\"dash\":\"solid\",\"shape\":\"linear\",\"width\":1.3},\"marker\":{\"size\":2,\"symbol\":\"circle\"},\"mode\":\"markers\",\"name\":\"D\",\"text\":\"\",\"x\":[-0.48021667999792206,-1.767693757615576,-0.7965063909894238,1.183607368288335,-2.584962068987776,-0.28004243181952143,-0.2810203459936231,0.9542463767584113,-0.07142538648128002,0.6359835841224643,1.7647783419739003,0.8458013004580175,2.2779081520723015,-0.6518645469546005,-1.4762525578559023,0.9591866286892657,0.4750133370035477,1.4547938162053253,-0.5334075850272327,0.8637487343722436,-0.6519547137630846,0.07393140222409583,-1.7844213837479546,-2.473959891492755,-1.7569469517297167,-0.9743357578543108,-0.12779805121518964,-0.048917050863550735,0.7415907552751492,0.4933191075056928,0.006197213316774313,-1.36352521294892,0.47571696454369283,1.3168061304675434,-1.049896476600438,0.5068001405486657,-0.975301654107105,-1.2015966506020221,-0.3819793865046173,0.00701661760325433,-0.2712921041825838,0.8205559462671078,1.1519596143724125,-1.930031451502338,-1.7124801826316711,-0.1994946901539977,0.2341981531974387,1.450060419010801,0.8559452490228944,0.27411911688042,-0.9824663786634694,-1.0068107796983867,-0.6497084546642562,-0.21039524717106142,-0.019639248598312512,-1.0646124840975537,-0.6878381323251727,-0.9854180085472164,0.29589682632945175,-0.03896419638359273,1.1992659846953158,-0.8481226344048309,-0.37882876695509105,0.5569693706553868,-0.2842421204673835,-1.7616033644117735,-0.7367386823328558,-1.4790376107220264,0.7432634515241014,0.9142403304209297,-0.6770293776846487,0.2851535747365677,-0.5318194269029167,-0.09014187312394373,0.15777322005857639,0.9004701150830658,1.2896333051549662,-0.42686181075878554,-0.5186537604974067,-0.25467116960784836,0.009798863814142113,-0.3688762155820952,-0.35495141596895113,0.18856734776222578,-0.3689815555163424,0.2021027603155454,-0.7694817136696835,1.9965314780668186,-0.028038417611311813,-0.48353780713267547,-1.853076960219544,-0.1074911041658705,-0.08426849763367841,-0.10162811938621388,1.8018316690014027,-0.6742238288918703,0.7333315744277983,0.013395614856481776,-1.8883289458565309,0.18280084162989219],\"xaxis\":\"x14\",\"y\":[0.1260246403158665,0.32596588283693795,-0.5686858537639956,-0.29718060653250933,1.7588381598565028,-0.03857764000300759,-1.7340974348788103,-0.3617793230237885,-2.4149684557449693,-1.3767462108139694,0.5898428886562838,-2.001029093747053,1.1256350430326616,1.5602984938237987,-0.389451616530249,-0.42489518002010684,2.257395516387381,0.3895541175008674,-0.0995860564994603,-1.0738155759067198,-1.7565460427541784,-0.1947488697970567,-0.5170954867757681,-1.5922351400315728,1.3128419687965667,0.2838584127363085,-0.19737582311805313,-0.6616847059780777,-1.0374858261084379,-0.1934196149905549,-1.2734893249155639,0.7676275747572554,1.377433712430287,-1.2044708504114916,0.5476630725558378,1.1268461672029098,1.081399655461273,-0.42529035516232094,1.4578252740432511,1.143417927391743,-1.9194702041788991,0.6408794111141025,-0.23613137975861856,-0.47956577852639665,0.5927017766688727,-0.61906931926205,-1.8371817673343944,0.3507980620830861,-0.3433720134184708,-0.8958108224062418,-0.24620337288035526,-0.822171481936348,1.7923612543940841,0.8228387163857979,-0.8211298321319879,-1.4136999482102726,0.12200974430168629,-0.6609161749496707,0.4646612862370089,0.07216544565038985,-1.3510467858709554,0.2410658037017578,-0.4826672428085537,-0.01386784323268645,-0.8492851245148666,0.9147232689502697,-0.921236171176619,0.1955307605181961,-1.4948028372190572,1.0718925618030184,0.7575381883018008,0.4244620446375021,-1.4117352311738172,-0.5140290100298601,0.65195630980734,0.5612234594342945,-0.2853988343061505,1.1746626811524241,0.10195169227623516,0.3635373689774617,-0.0270549928479153,2.038571710155747,1.2013501890850573,0.6583509161560808,0.9463583688890771,-0.9057901239822289,-0.4286175172731991,0.8726519946786022,0.16012197748081852,-0.09732798559242585,0.5483794223229277,-0.1742602998924234,1.2076929024559493,-0.5305557408248951,-0.3876668590861956,-0.0982595642753183,-0.41572179650225577,-0.12963428890389472,0.5387087334310405,0.3801413279841494],\"yaxis\":\"y14\",\"type\":\"scatter\"},{\"line\":{\"color\":\"rgba(128, 128, 128, 1.0)\",\"dash\":\"solid\",\"shape\":\"linear\",\"width\":1.3},\"marker\":{\"size\":2,\"symbol\":\"circle\"},\"mode\":\"markers\",\"name\":\"D\",\"text\":\"\",\"x\":[-0.3040854186589564,1.246833497470403,0.8930332744349196,-0.1719769833826304,-0.017683220292377715,0.31669237929579047,-0.6218959492557863,-0.6269129935442598,0.19184859643366706,1.9462481396911848,-1.5525098258828618,1.5044614241003507,-1.4581725713563496,-0.46604949416439573,-2.081794158048962,-0.04704905060754319,-0.6398173647204053,0.42280114879533737,-1.7530911083997947,-0.8143784463276719,-1.7871130555096635,-0.06584680205467948,-0.6576131402488188,-0.7245546832563872,0.3401273325467127,-0.7036645001156482,0.23007908804272237,0.5595903700936222,0.43023006512059914,-0.5909345039418035,-0.11980256556349118,-0.23585344704003267,-0.4092068031535469,0.9639403797034368,1.778397175638263,-0.4157199437766586,-0.05059225644767502,-1.3022887292852656,1.0240548907171791,-1.578548197037887,0.963100523842453,-0.3323620990665286,-0.8394257664741447,0.2965461442558922,0.28415751823797825,2.0593533696442963,-0.9573214250266097,0.7731414264660283,1.1247376924185177,0.6369036864943833,0.8396757716050604,-0.09685834101168504,-0.1331324130180998,0.6340692022040626,2.2722738739439685,2.8156200050884808,-1.4375097639737682,0.43963386094613904,0.34989245938767916,0.17236073146734213,3.6048690674736816,-2.4757366133546976,0.3677108784245974,0.43317821937035783,-0.1424762699402981,-2.059616987123858,-0.6837791278866705,1.863874105714213,0.1633461125655514,-0.2901698461782455,0.805130447988138,-0.2965263406775229,-0.8409954911244629,1.0054667330642537,-1.1606715992030812,-0.5373436329293438,-0.038404861154318376,0.09517910479058118,0.23061754639934867,0.3981929834991574,0.20780870353272723,-0.6329672972727428,-2.1512572547641753,0.8143665131982654,-1.4595961589284234,-0.9747027652013951,-1.0226442809643932,0.6458053015676501,-1.1041844941782595,-0.7191551091854427,0.23741179508269594,0.0411213108540397,-1.3411016469009658,-0.07301483169518061,1.0694034319117063,-0.8342345403943898,1.0732307001744341,0.09047002033015497,-0.4274275492620005,-0.25468469941866184],\"xaxis\":\"x15\",\"y\":[0.1260246403158665,0.32596588283693795,-0.5686858537639956,-0.29718060653250933,1.7588381598565028,-0.03857764000300759,-1.7340974348788103,-0.3617793230237885,-2.4149684557449693,-1.3767462108139694,0.5898428886562838,-2.001029093747053,1.1256350430326616,1.5602984938237987,-0.389451616530249,-0.42489518002010684,2.257395516387381,0.3895541175008674,-0.0995860564994603,-1.0738155759067198,-1.7565460427541784,-0.1947488697970567,-0.5170954867757681,-1.5922351400315728,1.3128419687965667,0.2838584127363085,-0.19737582311805313,-0.6616847059780777,-1.0374858261084379,-0.1934196149905549,-1.2734893249155639,0.7676275747572554,1.377433712430287,-1.2044708504114916,0.5476630725558378,1.1268461672029098,1.081399655461273,-0.42529035516232094,1.4578252740432511,1.143417927391743,-1.9194702041788991,0.6408794111141025,-0.23613137975861856,-0.47956577852639665,0.5927017766688727,-0.61906931926205,-1.8371817673343944,0.3507980620830861,-0.3433720134184708,-0.8958108224062418,-0.24620337288035526,-0.822171481936348,1.7923612543940841,0.8228387163857979,-0.8211298321319879,-1.4136999482102726,0.12200974430168629,-0.6609161749496707,0.4646612862370089,0.07216544565038985,-1.3510467858709554,0.2410658037017578,-0.4826672428085537,-0.01386784323268645,-0.8492851245148666,0.9147232689502697,-0.921236171176619,0.1955307605181961,-1.4948028372190572,1.0718925618030184,0.7575381883018008,0.4244620446375021,-1.4117352311738172,-0.5140290100298601,0.65195630980734,0.5612234594342945,-0.2853988343061505,1.1746626811524241,0.10195169227623516,0.3635373689774617,-0.0270549928479153,2.038571710155747,1.2013501890850573,0.6583509161560808,0.9463583688890771,-0.9057901239822289,-0.4286175172731991,0.8726519946786022,0.16012197748081852,-0.09732798559242585,0.5483794223229277,-0.1742602998924234,1.2076929024559493,-0.5305557408248951,-0.3876668590861956,-0.0982595642753183,-0.41572179650225577,-0.12963428890389472,0.5387087334310405,0.3801413279841494],\"yaxis\":\"y15\",\"type\":\"scatter\"},{\"histfunc\":\"count\",\"histnorm\":\"\",\"marker\":{\"color\":\"rgba(128, 0, 128, 1.0)\",\"line\":{\"color\":\"#4D5663\",\"width\":1.3}},\"name\":\"D\",\"nbinsx\":10,\"opacity\":0.8,\"orientation\":\"v\",\"x\":[0.1260246403158665,0.32596588283693795,-0.5686858537639956,-0.29718060653250933,1.7588381598565028,-0.03857764000300759,-1.7340974348788103,-0.3617793230237885,-2.4149684557449693,-1.3767462108139694,0.5898428886562838,-2.001029093747053,1.1256350430326616,1.5602984938237987,-0.389451616530249,-0.42489518002010684,2.257395516387381,0.3895541175008674,-0.0995860564994603,-1.0738155759067198,-1.7565460427541784,-0.1947488697970567,-0.5170954867757681,-1.5922351400315728,1.3128419687965667,0.2838584127363085,-0.19737582311805313,-0.6616847059780777,-1.0374858261084379,-0.1934196149905549,-1.2734893249155639,0.7676275747572554,1.377433712430287,-1.2044708504114916,0.5476630725558378,1.1268461672029098,1.081399655461273,-0.42529035516232094,1.4578252740432511,1.143417927391743,-1.9194702041788991,0.6408794111141025,-0.23613137975861856,-0.47956577852639665,0.5927017766688727,-0.61906931926205,-1.8371817673343944,0.3507980620830861,-0.3433720134184708,-0.8958108224062418,-0.24620337288035526,-0.822171481936348,1.7923612543940841,0.8228387163857979,-0.8211298321319879,-1.4136999482102726,0.12200974430168629,-0.6609161749496707,0.4646612862370089,0.07216544565038985,-1.3510467858709554,0.2410658037017578,-0.4826672428085537,-0.01386784323268645,-0.8492851245148666,0.9147232689502697,-0.921236171176619,0.1955307605181961,-1.4948028372190572,1.0718925618030184,0.7575381883018008,0.4244620446375021,-1.4117352311738172,-0.5140290100298601,0.65195630980734,0.5612234594342945,-0.2853988343061505,1.1746626811524241,0.10195169227623516,0.3635373689774617,-0.0270549928479153,2.038571710155747,1.2013501890850573,0.6583509161560808,0.9463583688890771,-0.9057901239822289,-0.4286175172731991,0.8726519946786022,0.16012197748081852,-0.09732798559242585,0.5483794223229277,-0.1742602998924234,1.2076929024559493,-0.5305557408248951,-0.3876668590861956,-0.0982595642753183,-0.41572179650225577,-0.12963428890389472,0.5387087334310405,0.3801413279841494],\"xaxis\":\"x16\",\"yaxis\":\"y16\",\"type\":\"histogram\"}],                        {\"bargap\":0.02,\"legend\":{\"bgcolor\":\"#F5F6F9\",\"font\":{\"color\":\"#4D5663\"}},\"paper_bgcolor\":\"#F5F6F9\",\"plot_bgcolor\":\"#F5F6F9\",\"showlegend\":false,\"template\":{\"data\":{\"barpolar\":[{\"marker\":{\"line\":{\"color\":\"#E5ECF6\",\"width\":0.5},\"pattern\":{\"fillmode\":\"overlay\",\"size\":10,\"solidity\":0.2}},\"type\":\"barpolar\"}],\"bar\":[{\"error_x\":{\"color\":\"#2a3f5f\"},\"error_y\":{\"color\":\"#2a3f5f\"},\"marker\":{\"line\":{\"color\":\"#E5ECF6\",\"width\":0.5},\"pattern\":{\"fillmode\":\"overlay\",\"size\":10,\"solidity\":0.2}},\"type\":\"bar\"}],\"carpet\":[{\"aaxis\":{\"endlinecolor\":\"#2a3f5f\",\"gridcolor\":\"white\",\"linecolor\":\"white\",\"minorgridcolor\":\"white\",\"startlinecolor\":\"#2a3f5f\"},\"baxis\":{\"endlinecolor\":\"#2a3f5f\",\"gridcolor\":\"white\",\"linecolor\":\"white\",\"minorgridcolor\":\"white\",\"startlinecolor\":\"#2a3f5f\"},\"type\":\"carpet\"}],\"choropleth\":[{\"colorbar\":{\"outlinewidth\":0,\"ticks\":\"\"},\"type\":\"choropleth\"}],\"contourcarpet\":[{\"colorbar\":{\"outlinewidth\":0,\"ticks\":\"\"},\"type\":\"contourcarpet\"}],\"contour\":[{\"colorbar\":{\"outlinewidth\":0,\"ticks\":\"\"},\"colorscale\":[[0.0,\"#0d0887\"],[0.1111111111111111,\"#46039f\"],[0.2222222222222222,\"#7201a8\"],[0.3333333333333333,\"#9c179e\"],[0.4444444444444444,\"#bd3786\"],[0.5555555555555556,\"#d8576b\"],[0.6666666666666666,\"#ed7953\"],[0.7777777777777778,\"#fb9f3a\"],[0.8888888888888888,\"#fdca26\"],[1.0,\"#f0f921\"]],\"type\":\"contour\"}],\"heatmapgl\":[{\"colorbar\":{\"outlinewidth\":0,\"ticks\":\"\"},\"colorscale\":[[0.0,\"#0d0887\"],[0.1111111111111111,\"#46039f\"],[0.2222222222222222,\"#7201a8\"],[0.3333333333333333,\"#9c179e\"],[0.4444444444444444,\"#bd3786\"],[0.5555555555555556,\"#d8576b\"],[0.6666666666666666,\"#ed7953\"],[0.7777777777777778,\"#fb9f3a\"],[0.8888888888888888,\"#fdca26\"],[1.0,\"#f0f921\"]],\"type\":\"heatmapgl\"}],\"heatmap\":[{\"colorbar\":{\"outlinewidth\":0,\"ticks\":\"\"},\"colorscale\":[[0.0,\"#0d0887\"],[0.1111111111111111,\"#46039f\"],[0.2222222222222222,\"#7201a8\"],[0.3333333333333333,\"#9c179e\"],[0.4444444444444444,\"#bd3786\"],[0.5555555555555556,\"#d8576b\"],[0.6666666666666666,\"#ed7953\"],[0.7777777777777778,\"#fb9f3a\"],[0.8888888888888888,\"#fdca26\"],[1.0,\"#f0f921\"]],\"type\":\"heatmap\"}],\"histogram2dcontour\":[{\"colorbar\":{\"outlinewidth\":0,\"ticks\":\"\"},\"colorscale\":[[0.0,\"#0d0887\"],[0.1111111111111111,\"#46039f\"],[0.2222222222222222,\"#7201a8\"],[0.3333333333333333,\"#9c179e\"],[0.4444444444444444,\"#bd3786\"],[0.5555555555555556,\"#d8576b\"],[0.6666666666666666,\"#ed7953\"],[0.7777777777777778,\"#fb9f3a\"],[0.8888888888888888,\"#fdca26\"],[1.0,\"#f0f921\"]],\"type\":\"histogram2dcontour\"}],\"histogram2d\":[{\"colorbar\":{\"outlinewidth\":0,\"ticks\":\"\"},\"colorscale\":[[0.0,\"#0d0887\"],[0.1111111111111111,\"#46039f\"],[0.2222222222222222,\"#7201a8\"],[0.3333333333333333,\"#9c179e\"],[0.4444444444444444,\"#bd3786\"],[0.5555555555555556,\"#d8576b\"],[0.6666666666666666,\"#ed7953\"],[0.7777777777777778,\"#fb9f3a\"],[0.8888888888888888,\"#fdca26\"],[1.0,\"#f0f921\"]],\"type\":\"histogram2d\"}],\"histogram\":[{\"marker\":{\"pattern\":{\"fillmode\":\"overlay\",\"size\":10,\"solidity\":0.2}},\"type\":\"histogram\"}],\"mesh3d\":[{\"colorbar\":{\"outlinewidth\":0,\"ticks\":\"\"},\"type\":\"mesh3d\"}],\"parcoords\":[{\"line\":{\"colorbar\":{\"outlinewidth\":0,\"ticks\":\"\"}},\"type\":\"parcoords\"}],\"pie\":[{\"automargin\":true,\"type\":\"pie\"}],\"scatter3d\":[{\"line\":{\"colorbar\":{\"outlinewidth\":0,\"ticks\":\"\"}},\"marker\":{\"colorbar\":{\"outlinewidth\":0,\"ticks\":\"\"}},\"type\":\"scatter3d\"}],\"scattercarpet\":[{\"marker\":{\"colorbar\":{\"outlinewidth\":0,\"ticks\":\"\"}},\"type\":\"scattercarpet\"}],\"scattergeo\":[{\"marker\":{\"colorbar\":{\"outlinewidth\":0,\"ticks\":\"\"}},\"type\":\"scattergeo\"}],\"scattergl\":[{\"marker\":{\"colorbar\":{\"outlinewidth\":0,\"ticks\":\"\"}},\"type\":\"scattergl\"}],\"scattermapbox\":[{\"marker\":{\"colorbar\":{\"outlinewidth\":0,\"ticks\":\"\"}},\"type\":\"scattermapbox\"}],\"scatterpolargl\":[{\"marker\":{\"colorbar\":{\"outlinewidth\":0,\"ticks\":\"\"}},\"type\":\"scatterpolargl\"}],\"scatterpolar\":[{\"marker\":{\"colorbar\":{\"outlinewidth\":0,\"ticks\":\"\"}},\"type\":\"scatterpolar\"}],\"scatter\":[{\"fillpattern\":{\"fillmode\":\"overlay\",\"size\":10,\"solidity\":0.2},\"type\":\"scatter\"}],\"scatterternary\":[{\"marker\":{\"colorbar\":{\"outlinewidth\":0,\"ticks\":\"\"}},\"type\":\"scatterternary\"}],\"surface\":[{\"colorbar\":{\"outlinewidth\":0,\"ticks\":\"\"},\"colorscale\":[[0.0,\"#0d0887\"],[0.1111111111111111,\"#46039f\"],[0.2222222222222222,\"#7201a8\"],[0.3333333333333333,\"#9c179e\"],[0.4444444444444444,\"#bd3786\"],[0.5555555555555556,\"#d8576b\"],[0.6666666666666666,\"#ed7953\"],[0.7777777777777778,\"#fb9f3a\"],[0.8888888888888888,\"#fdca26\"],[1.0,\"#f0f921\"]],\"type\":\"surface\"}],\"table\":[{\"cells\":{\"fill\":{\"color\":\"#EBF0F8\"},\"line\":{\"color\":\"white\"}},\"header\":{\"fill\":{\"color\":\"#C8D4E3\"},\"line\":{\"color\":\"white\"}},\"type\":\"table\"}]},\"layout\":{\"annotationdefaults\":{\"arrowcolor\":\"#2a3f5f\",\"arrowhead\":0,\"arrowwidth\":1},\"autotypenumbers\":\"strict\",\"coloraxis\":{\"colorbar\":{\"outlinewidth\":0,\"ticks\":\"\"}},\"colorscale\":{\"diverging\":[[0,\"#8e0152\"],[0.1,\"#c51b7d\"],[0.2,\"#de77ae\"],[0.3,\"#f1b6da\"],[0.4,\"#fde0ef\"],[0.5,\"#f7f7f7\"],[0.6,\"#e6f5d0\"],[0.7,\"#b8e186\"],[0.8,\"#7fbc41\"],[0.9,\"#4d9221\"],[1,\"#276419\"]],\"sequential\":[[0.0,\"#0d0887\"],[0.1111111111111111,\"#46039f\"],[0.2222222222222222,\"#7201a8\"],[0.3333333333333333,\"#9c179e\"],[0.4444444444444444,\"#bd3786\"],[0.5555555555555556,\"#d8576b\"],[0.6666666666666666,\"#ed7953\"],[0.7777777777777778,\"#fb9f3a\"],[0.8888888888888888,\"#fdca26\"],[1.0,\"#f0f921\"]],\"sequentialminus\":[[0.0,\"#0d0887\"],[0.1111111111111111,\"#46039f\"],[0.2222222222222222,\"#7201a8\"],[0.3333333333333333,\"#9c179e\"],[0.4444444444444444,\"#bd3786\"],[0.5555555555555556,\"#d8576b\"],[0.6666666666666666,\"#ed7953\"],[0.7777777777777778,\"#fb9f3a\"],[0.8888888888888888,\"#fdca26\"],[1.0,\"#f0f921\"]]},\"colorway\":[\"#636efa\",\"#EF553B\",\"#00cc96\",\"#ab63fa\",\"#FFA15A\",\"#19d3f3\",\"#FF6692\",\"#B6E880\",\"#FF97FF\",\"#FECB52\"],\"font\":{\"color\":\"#2a3f5f\"},\"geo\":{\"bgcolor\":\"white\",\"lakecolor\":\"white\",\"landcolor\":\"#E5ECF6\",\"showlakes\":true,\"showland\":true,\"subunitcolor\":\"white\"},\"hoverlabel\":{\"align\":\"left\"},\"hovermode\":\"closest\",\"mapbox\":{\"style\":\"light\"},\"paper_bgcolor\":\"white\",\"plot_bgcolor\":\"#E5ECF6\",\"polar\":{\"angularaxis\":{\"gridcolor\":\"white\",\"linecolor\":\"white\",\"ticks\":\"\"},\"bgcolor\":\"#E5ECF6\",\"radialaxis\":{\"gridcolor\":\"white\",\"linecolor\":\"white\",\"ticks\":\"\"}},\"scene\":{\"xaxis\":{\"backgroundcolor\":\"#E5ECF6\",\"gridcolor\":\"white\",\"gridwidth\":2,\"linecolor\":\"white\",\"showbackground\":true,\"ticks\":\"\",\"zerolinecolor\":\"white\"},\"yaxis\":{\"backgroundcolor\":\"#E5ECF6\",\"gridcolor\":\"white\",\"gridwidth\":2,\"linecolor\":\"white\",\"showbackground\":true,\"ticks\":\"\",\"zerolinecolor\":\"white\"},\"zaxis\":{\"backgroundcolor\":\"#E5ECF6\",\"gridcolor\":\"white\",\"gridwidth\":2,\"linecolor\":\"white\",\"showbackground\":true,\"ticks\":\"\",\"zerolinecolor\":\"white\"}},\"shapedefaults\":{\"line\":{\"color\":\"#2a3f5f\"}},\"ternary\":{\"aaxis\":{\"gridcolor\":\"white\",\"linecolor\":\"white\",\"ticks\":\"\"},\"baxis\":{\"gridcolor\":\"white\",\"linecolor\":\"white\",\"ticks\":\"\"},\"bgcolor\":\"#E5ECF6\",\"caxis\":{\"gridcolor\":\"white\",\"linecolor\":\"white\",\"ticks\":\"\"}},\"title\":{\"x\":0.05},\"xaxis\":{\"automargin\":true,\"gridcolor\":\"white\",\"linecolor\":\"white\",\"ticks\":\"\",\"title\":{\"standoff\":15},\"zerolinecolor\":\"white\",\"zerolinewidth\":2},\"yaxis\":{\"automargin\":true,\"gridcolor\":\"white\",\"linecolor\":\"white\",\"ticks\":\"\",\"title\":{\"standoff\":15},\"zerolinecolor\":\"white\",\"zerolinewidth\":2}}},\"title\":{\"font\":{\"color\":\"#4D5663\"}},\"xaxis\":{\"anchor\":\"y\",\"domain\":[0.0,0.2125],\"gridcolor\":\"#E1E5ED\",\"showgrid\":false,\"tickfont\":{\"color\":\"#4D5663\"},\"title\":{\"font\":{\"color\":\"#4D5663\"},\"text\":\"\"},\"zerolinecolor\":\"#E1E5ED\"},\"yaxis\":{\"anchor\":\"x\",\"domain\":[0.8025,1.0],\"gridcolor\":\"#E1E5ED\",\"showgrid\":false,\"tickfont\":{\"color\":\"#4D5663\"},\"title\":{\"font\":{\"color\":\"#4D5663\"},\"text\":\"\"},\"zerolinecolor\":\"#E1E5ED\"},\"xaxis2\":{\"anchor\":\"y2\",\"domain\":[0.2625,0.475],\"gridcolor\":\"#E1E5ED\",\"showgrid\":false,\"tickfont\":{\"color\":\"#4D5663\"},\"title\":{\"font\":{\"color\":\"#4D5663\"},\"text\":\"\"},\"zerolinecolor\":\"#E1E5ED\"},\"yaxis2\":{\"anchor\":\"x2\",\"domain\":[0.8025,1.0],\"gridcolor\":\"#E1E5ED\",\"showgrid\":false,\"tickfont\":{\"color\":\"#4D5663\"},\"title\":{\"font\":{\"color\":\"#4D5663\"},\"text\":\"\"},\"zerolinecolor\":\"#E1E5ED\"},\"xaxis3\":{\"anchor\":\"y3\",\"domain\":[0.525,0.7375],\"gridcolor\":\"#E1E5ED\",\"showgrid\":false,\"tickfont\":{\"color\":\"#4D5663\"},\"title\":{\"font\":{\"color\":\"#4D5663\"},\"text\":\"\"},\"zerolinecolor\":\"#E1E5ED\"},\"yaxis3\":{\"anchor\":\"x3\",\"domain\":[0.8025,1.0],\"gridcolor\":\"#E1E5ED\",\"showgrid\":false,\"tickfont\":{\"color\":\"#4D5663\"},\"title\":{\"font\":{\"color\":\"#4D5663\"},\"text\":\"\"},\"zerolinecolor\":\"#E1E5ED\"},\"xaxis4\":{\"anchor\":\"y4\",\"domain\":[0.7875,1.0],\"gridcolor\":\"#E1E5ED\",\"showgrid\":false,\"tickfont\":{\"color\":\"#4D5663\"},\"title\":{\"font\":{\"color\":\"#4D5663\"},\"text\":\"\"},\"zerolinecolor\":\"#E1E5ED\"},\"yaxis4\":{\"anchor\":\"x4\",\"domain\":[0.8025,1.0],\"gridcolor\":\"#E1E5ED\",\"showgrid\":false,\"tickfont\":{\"color\":\"#4D5663\"},\"title\":{\"font\":{\"color\":\"#4D5663\"},\"text\":\"\"},\"zerolinecolor\":\"#E1E5ED\"},\"xaxis5\":{\"anchor\":\"y5\",\"domain\":[0.0,0.2125],\"gridcolor\":\"#E1E5ED\",\"showgrid\":false,\"tickfont\":{\"color\":\"#4D5663\"},\"title\":{\"font\":{\"color\":\"#4D5663\"},\"text\":\"\"},\"zerolinecolor\":\"#E1E5ED\"},\"yaxis5\":{\"anchor\":\"x5\",\"domain\":[0.535,0.7325],\"gridcolor\":\"#E1E5ED\",\"showgrid\":false,\"tickfont\":{\"color\":\"#4D5663\"},\"title\":{\"font\":{\"color\":\"#4D5663\"},\"text\":\"\"},\"zerolinecolor\":\"#E1E5ED\"},\"xaxis6\":{\"anchor\":\"y6\",\"domain\":[0.2625,0.475],\"gridcolor\":\"#E1E5ED\",\"showgrid\":false,\"tickfont\":{\"color\":\"#4D5663\"},\"title\":{\"font\":{\"color\":\"#4D5663\"},\"text\":\"\"},\"zerolinecolor\":\"#E1E5ED\"},\"yaxis6\":{\"anchor\":\"x6\",\"domain\":[0.535,0.7325],\"gridcolor\":\"#E1E5ED\",\"showgrid\":false,\"tickfont\":{\"color\":\"#4D5663\"},\"title\":{\"font\":{\"color\":\"#4D5663\"},\"text\":\"\"},\"zerolinecolor\":\"#E1E5ED\"},\"xaxis7\":{\"anchor\":\"y7\",\"domain\":[0.525,0.7375],\"gridcolor\":\"#E1E5ED\",\"showgrid\":false,\"tickfont\":{\"color\":\"#4D5663\"},\"title\":{\"font\":{\"color\":\"#4D5663\"},\"text\":\"\"},\"zerolinecolor\":\"#E1E5ED\"},\"yaxis7\":{\"anchor\":\"x7\",\"domain\":[0.535,0.7325],\"gridcolor\":\"#E1E5ED\",\"showgrid\":false,\"tickfont\":{\"color\":\"#4D5663\"},\"title\":{\"font\":{\"color\":\"#4D5663\"},\"text\":\"\"},\"zerolinecolor\":\"#E1E5ED\"},\"xaxis8\":{\"anchor\":\"y8\",\"domain\":[0.7875,1.0],\"gridcolor\":\"#E1E5ED\",\"showgrid\":false,\"tickfont\":{\"color\":\"#4D5663\"},\"title\":{\"font\":{\"color\":\"#4D5663\"},\"text\":\"\"},\"zerolinecolor\":\"#E1E5ED\"},\"yaxis8\":{\"anchor\":\"x8\",\"domain\":[0.535,0.7325],\"gridcolor\":\"#E1E5ED\",\"showgrid\":false,\"tickfont\":{\"color\":\"#4D5663\"},\"title\":{\"font\":{\"color\":\"#4D5663\"},\"text\":\"\"},\"zerolinecolor\":\"#E1E5ED\"},\"xaxis9\":{\"anchor\":\"y9\",\"domain\":[0.0,0.2125],\"gridcolor\":\"#E1E5ED\",\"showgrid\":false,\"tickfont\":{\"color\":\"#4D5663\"},\"title\":{\"font\":{\"color\":\"#4D5663\"},\"text\":\"\"},\"zerolinecolor\":\"#E1E5ED\"},\"yaxis9\":{\"anchor\":\"x9\",\"domain\":[0.2675,0.465],\"gridcolor\":\"#E1E5ED\",\"showgrid\":false,\"tickfont\":{\"color\":\"#4D5663\"},\"title\":{\"font\":{\"color\":\"#4D5663\"},\"text\":\"\"},\"zerolinecolor\":\"#E1E5ED\"},\"xaxis10\":{\"anchor\":\"y10\",\"domain\":[0.2625,0.475],\"gridcolor\":\"#E1E5ED\",\"showgrid\":false,\"tickfont\":{\"color\":\"#4D5663\"},\"title\":{\"font\":{\"color\":\"#4D5663\"},\"text\":\"\"},\"zerolinecolor\":\"#E1E5ED\"},\"yaxis10\":{\"anchor\":\"x10\",\"domain\":[0.2675,0.465],\"gridcolor\":\"#E1E5ED\",\"showgrid\":false,\"tickfont\":{\"color\":\"#4D5663\"},\"title\":{\"font\":{\"color\":\"#4D5663\"},\"text\":\"\"},\"zerolinecolor\":\"#E1E5ED\"},\"xaxis11\":{\"anchor\":\"y11\",\"domain\":[0.525,0.7375],\"gridcolor\":\"#E1E5ED\",\"showgrid\":false,\"tickfont\":{\"color\":\"#4D5663\"},\"title\":{\"font\":{\"color\":\"#4D5663\"},\"text\":\"\"},\"zerolinecolor\":\"#E1E5ED\"},\"yaxis11\":{\"anchor\":\"x11\",\"domain\":[0.2675,0.465],\"gridcolor\":\"#E1E5ED\",\"showgrid\":false,\"tickfont\":{\"color\":\"#4D5663\"},\"title\":{\"font\":{\"color\":\"#4D5663\"},\"text\":\"\"},\"zerolinecolor\":\"#E1E5ED\"},\"xaxis12\":{\"anchor\":\"y12\",\"domain\":[0.7875,1.0],\"gridcolor\":\"#E1E5ED\",\"showgrid\":false,\"tickfont\":{\"color\":\"#4D5663\"},\"title\":{\"font\":{\"color\":\"#4D5663\"},\"text\":\"\"},\"zerolinecolor\":\"#E1E5ED\"},\"yaxis12\":{\"anchor\":\"x12\",\"domain\":[0.2675,0.465],\"gridcolor\":\"#E1E5ED\",\"showgrid\":false,\"tickfont\":{\"color\":\"#4D5663\"},\"title\":{\"font\":{\"color\":\"#4D5663\"},\"text\":\"\"},\"zerolinecolor\":\"#E1E5ED\"},\"xaxis13\":{\"anchor\":\"y13\",\"domain\":[0.0,0.2125],\"gridcolor\":\"#E1E5ED\",\"showgrid\":false,\"tickfont\":{\"color\":\"#4D5663\"},\"title\":{\"font\":{\"color\":\"#4D5663\"},\"text\":\"\"},\"zerolinecolor\":\"#E1E5ED\"},\"yaxis13\":{\"anchor\":\"x13\",\"domain\":[0.0,0.1975],\"gridcolor\":\"#E1E5ED\",\"showgrid\":false,\"tickfont\":{\"color\":\"#4D5663\"},\"title\":{\"font\":{\"color\":\"#4D5663\"},\"text\":\"\"},\"zerolinecolor\":\"#E1E5ED\"},\"xaxis14\":{\"anchor\":\"y14\",\"domain\":[0.2625,0.475],\"gridcolor\":\"#E1E5ED\",\"showgrid\":false,\"tickfont\":{\"color\":\"#4D5663\"},\"title\":{\"font\":{\"color\":\"#4D5663\"},\"text\":\"\"},\"zerolinecolor\":\"#E1E5ED\"},\"yaxis14\":{\"anchor\":\"x14\",\"domain\":[0.0,0.1975],\"gridcolor\":\"#E1E5ED\",\"showgrid\":false,\"tickfont\":{\"color\":\"#4D5663\"},\"title\":{\"font\":{\"color\":\"#4D5663\"},\"text\":\"\"},\"zerolinecolor\":\"#E1E5ED\"},\"xaxis15\":{\"anchor\":\"y15\",\"domain\":[0.525,0.7375],\"gridcolor\":\"#E1E5ED\",\"showgrid\":false,\"tickfont\":{\"color\":\"#4D5663\"},\"title\":{\"font\":{\"color\":\"#4D5663\"},\"text\":\"\"},\"zerolinecolor\":\"#E1E5ED\"},\"yaxis15\":{\"anchor\":\"x15\",\"domain\":[0.0,0.1975],\"gridcolor\":\"#E1E5ED\",\"showgrid\":false,\"tickfont\":{\"color\":\"#4D5663\"},\"title\":{\"font\":{\"color\":\"#4D5663\"},\"text\":\"\"},\"zerolinecolor\":\"#E1E5ED\"},\"xaxis16\":{\"anchor\":\"y16\",\"domain\":[0.7875,1.0],\"gridcolor\":\"#E1E5ED\",\"showgrid\":false,\"tickfont\":{\"color\":\"#4D5663\"},\"title\":{\"font\":{\"color\":\"#4D5663\"},\"text\":\"\"},\"zerolinecolor\":\"#E1E5ED\"},\"yaxis16\":{\"anchor\":\"x16\",\"domain\":[0.0,0.1975],\"gridcolor\":\"#E1E5ED\",\"showgrid\":false,\"tickfont\":{\"color\":\"#4D5663\"},\"title\":{\"font\":{\"color\":\"#4D5663\"},\"text\":\"\"},\"zerolinecolor\":\"#E1E5ED\"}},                        {\"showLink\": true, \"linkText\": \"Export to plot.ly\", \"plotlyServerURL\": \"https://plot.ly\", \"responsive\": true}                    ).then(function(){\n",
       "                            \n",
       "var gd = document.getElementById('62329a8f-82f9-4e7a-a0bd-5b9b32246d11');\n",
       "var x = new MutationObserver(function (mutations, observer) {{\n",
       "        var display = window.getComputedStyle(gd).display;\n",
       "        if (!display || display === 'none') {{\n",
       "            console.log([gd, 'removed!']);\n",
       "            Plotly.purge(gd);\n",
       "            observer.disconnect();\n",
       "        }}\n",
       "}});\n",
       "\n",
       "// Listen for the removal of the full notebook cells\n",
       "var notebookContainer = gd.closest('#notebook-container');\n",
       "if (notebookContainer) {{\n",
       "    x.observe(notebookContainer, {childList: true});\n",
       "}}\n",
       "\n",
       "// Listen for the clearing of the current output cell\n",
       "var outputEl = gd.closest('.output');\n",
       "if (outputEl) {{\n",
       "    x.observe(outputEl, {childList: true});\n",
       "}}\n",
       "\n",
       "                        })                };                });            </script>        </div>"
      ]
     },
     "metadata": {},
     "output_type": "display_data"
    }
   ],
   "source": [
    "df.scatter_matrix()"
   ]
  },
  {
   "cell_type": "code",
   "execution_count": null,
   "id": "e4772062",
   "metadata": {},
   "outputs": [],
   "source": []
  }
 ],
 "metadata": {
  "kernelspec": {
   "display_name": "Python 3 (ipykernel)",
   "language": "python",
   "name": "python3"
  },
  "language_info": {
   "codemirror_mode": {
    "name": "ipython",
    "version": 3
   },
   "file_extension": ".py",
   "mimetype": "text/x-python",
   "name": "python",
   "nbconvert_exporter": "python",
   "pygments_lexer": "ipython3",
   "version": "3.11.7"
  }
 },
 "nbformat": 4,
 "nbformat_minor": 5
}
